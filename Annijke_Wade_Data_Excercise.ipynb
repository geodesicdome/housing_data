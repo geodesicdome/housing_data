{
 "cells": [
  {
   "cell_type": "markdown",
   "metadata": {},
   "source": [
    "# Trulia Rental Listings \n",
    "\n",
    "This jupyter notebook provides my solution to the Data Exericse for the Trulia position of Economic Data Analyst. \n",
    "\n",
    "I will be approaching this problem in a very structured manner.  \n",
    "\n",
    "### 1. Load Packages and Data\n",
    "\n",
    "### 2. Clean Data\n",
    "\n",
    "### 3. Identify \"English Basements\"\n",
    "\n",
    "### 4. Exploratory Data Analysis \n",
    "\n",
    "### 5. Explore relationship of \"English Basements\" in terms of price and location \n",
    "\n",
    "### 6.  Conclusion \n",
    "\n",
    "\n",
    "I have chosen to do this exercise in python3 and display my code and comments in a jupyter notebook"
   ]
  },
  {
   "cell_type": "markdown",
   "metadata": {},
   "source": [
    "### 1. Load Packages and Data\n",
    "\n",
    "I will be using pandas, numpy, matplotlib and seaborn for this Data Exercise.  While there are many packages and modules that may be of use, these are my go to \"tools\" in my data analysis toolbox."
   ]
  },
  {
   "cell_type": "code",
   "execution_count": 1237,
   "metadata": {
    "collapsed": true
   },
   "outputs": [],
   "source": [
    "\n",
    "\n",
    "import pandas as pd\n",
    "import numpy as np\n",
    "import matplotlib.pyplot as plt\n",
    "%matplotlib inline\n",
    "import seaborn as sns\n",
    "\n",
    "import warnings\n",
    "warnings.filterwarnings(\"ignore\")\n",
    "\n"
   ]
  },
  {
   "cell_type": "markdown",
   "metadata": {},
   "source": [
    "#### Load the Data set into a Pandas DataFrame "
   ]
  },
  {
   "cell_type": "code",
   "execution_count": 1238,
   "metadata": {
    "collapsed": true
   },
   "outputs": [],
   "source": [
    "trulia = pd.read_csv(\"Trulia_RentalListings_DataExercise.csv\", encoding = 'iso-8859-1')"
   ]
  },
  {
   "cell_type": "markdown",
   "metadata": {
    "collapsed": true
   },
   "source": [
    "Why am I specifying encoding = 'iso-8859-1' ? \n",
    "\n",
    "I recieved an error when I did not specify encoding.  Pandas default tries to load data with UTF-8 encoding, when  I speficied encoding as 'iso-8859-1' the dataset loaded properly into a PandasDataFrame\n",
    "__________"
   ]
  },
  {
   "cell_type": "markdown",
   "metadata": {},
   "source": [
    "I also check that a dataset has been loaded propertly by using .head(), and this gives me a great introduction to the dataset"
   ]
  },
  {
   "cell_type": "code",
   "execution_count": 1239,
   "metadata": {},
   "outputs": [
    {
     "data": {
      "text/html": [
       "<div>\n",
       "<style scoped>\n",
       "    .dataframe tbody tr th:only-of-type {\n",
       "        vertical-align: middle;\n",
       "    }\n",
       "\n",
       "    .dataframe tbody tr th {\n",
       "        vertical-align: top;\n",
       "    }\n",
       "\n",
       "    .dataframe thead th {\n",
       "        text-align: right;\n",
       "    }\n",
       "</style>\n",
       "<table border=\"1\" class=\"dataframe\">\n",
       "  <thead>\n",
       "    <tr style=\"text-align: right;\">\n",
       "      <th></th>\n",
       "      <th>PropertyID</th>\n",
       "      <th>ListingDate</th>\n",
       "      <th>Latitude</th>\n",
       "      <th>Longitude</th>\n",
       "      <th>ZipCode</th>\n",
       "      <th>CityName</th>\n",
       "      <th>CountyName</th>\n",
       "      <th>StateName</th>\n",
       "      <th>CountyListingCoverage</th>\n",
       "      <th>LeasePriceDollarCnt</th>\n",
       "      <th>LeaseTermMonths</th>\n",
       "      <th>FinishedSquareFeet</th>\n",
       "      <th>Bedrooms</th>\n",
       "      <th>Bathrooms</th>\n",
       "      <th>BuiltYear</th>\n",
       "      <th>ListingDescription</th>\n",
       "    </tr>\n",
       "  </thead>\n",
       "  <tbody>\n",
       "    <tr>\n",
       "      <th>0</th>\n",
       "      <td>391329</td>\n",
       "      <td>3/2/16</td>\n",
       "      <td>38899907</td>\n",
       "      <td>-77056204</td>\n",
       "      <td>20037</td>\n",
       "      <td>Washington</td>\n",
       "      <td>District of Columbia</td>\n",
       "      <td>DC</td>\n",
       "      <td>0.89</td>\n",
       "      <td>4100.0</td>\n",
       "      <td>12</td>\n",
       "      <td>1800</td>\n",
       "      <td>2.0</td>\n",
       "      <td>2.5</td>\n",
       "      <td>NaN</td>\n",
       "      <td>This 2 BR, 2.5 bath unit has an abundant amount of natural sunlight, a large terrace and a breathtaking view of the Potomac River. \\r\\n\\r\\nWalking distance to Georgetown waterfront, Foggy Bottom Metro, George Washington University &amp; University Hospital, Whole Foods and restaurants.</td>\n",
       "    </tr>\n",
       "    <tr>\n",
       "      <th>1</th>\n",
       "      <td>391331</td>\n",
       "      <td>1/10/15</td>\n",
       "      <td>38905551</td>\n",
       "      <td>-77053871</td>\n",
       "      <td>20037</td>\n",
       "      <td>Washington</td>\n",
       "      <td>District of Columbia</td>\n",
       "      <td>DC</td>\n",
       "      <td>0.89</td>\n",
       "      <td>3200.0</td>\n",
       "      <td>12</td>\n",
       "      <td>863</td>\n",
       "      <td>0.0</td>\n",
       "      <td>2.0</td>\n",
       "      <td>NaN</td>\n",
       "      <td>HUGE STEAM ROOM/SAUNA!  In this open loft with amazing views, private terrace, nearly $100,000k of high-end updates:Caesarstone counter tops, Blue Cellini- style Ultra Craft cabinets, GE Profile and Bosch stainless appliances, Euro-style bath finishes, including Huge steam shower/sauna. Step down living room, Murphy bed, and flat screen TV, built-ins. On-site manager, Pet friendly, roof terrace, rental park $205/mo.  ASK ABOUT EXCITING PLANS FOR BUILDING.</td>\n",
       "    </tr>\n",
       "    <tr>\n",
       "      <th>2</th>\n",
       "      <td>391331</td>\n",
       "      <td>1/10/15</td>\n",
       "      <td>38905551</td>\n",
       "      <td>-77053871</td>\n",
       "      <td>20037</td>\n",
       "      <td>Washington</td>\n",
       "      <td>District of Columbia</td>\n",
       "      <td>DC</td>\n",
       "      <td>0.89</td>\n",
       "      <td>3200.0</td>\n",
       "      <td>12</td>\n",
       "      <td>863</td>\n",
       "      <td>0.0</td>\n",
       "      <td>2.0</td>\n",
       "      <td>NaN</td>\n",
       "      <td>Amazing views! in this cool open space with large Euro-style kitchen perfect for entertaining, stainless appliances, Ultra craft appliances, terrace, huge private steam shower, extra half bath. Building features 7 day concierge, roof terrace, pet friendly, garage parking $205/mo. Near Trader Joes, 2 metros, Four Seasons, Ritz Carlton.Amazing Views! in this cool furnished flat, perfect for entertaining; has large open Euro-style kitchen with stainless appliances, terrace, bamboo flooring, powder room, washer/dryer, huge steam sauna; building has 7-day concierge, roof terrace, garage rental parking. Near Trader Joes and 2 metros.</td>\n",
       "    </tr>\n",
       "    <tr>\n",
       "      <th>3</th>\n",
       "      <td>391377</td>\n",
       "      <td>5/10/16</td>\n",
       "      <td>38904110</td>\n",
       "      <td>-77054247</td>\n",
       "      <td>20037</td>\n",
       "      <td>Washington</td>\n",
       "      <td>District of Columbia</td>\n",
       "      <td>DC</td>\n",
       "      <td>0.89</td>\n",
       "      <td>3350.0</td>\n",
       "      <td>12</td>\n",
       "      <td>847</td>\n",
       "      <td>1.0</td>\n",
       "      <td>1.0</td>\n",
       "      <td>NaN</td>\n",
       "      <td>Urban living space is now available for rent in this very well located West End condo building. Features a spacious, living room/dining room combination with a wall of windows overlooking a private terrace, a kitchen with updated appliances, laundry closet, large bedroom, and great closet space. The terrace has approximately 400 sq. ft. of outdoor space. One car garage parking included.</td>\n",
       "    </tr>\n",
       "    <tr>\n",
       "      <th>4</th>\n",
       "      <td>391416</td>\n",
       "      <td>7/1/16</td>\n",
       "      <td>38903981</td>\n",
       "      <td>-77054160</td>\n",
       "      <td>20037</td>\n",
       "      <td>Washington</td>\n",
       "      <td>District of Columbia</td>\n",
       "      <td>DC</td>\n",
       "      <td>0.89</td>\n",
       "      <td>3100.0</td>\n",
       "      <td>12</td>\n",
       "      <td>845</td>\n",
       "      <td>1.0</td>\n",
       "      <td>1.0</td>\n",
       "      <td>NaN</td>\n",
       "      <td>The Westbridge is a contemporary building located in desirable West End and walking distance to Foggy Bottom METRO and GW. Building Amenities: 24 hr staffed front desk, fitness center, pool, lounging area, rooftop deck and garage parking. This 1 bedroom, 1 bathroom unit has been beautifully updated with granite counter tops in kitchen and bathroom, stainless steel appliances, hardwood floors, washer &amp; dryer, many closets, and a balcony. parking and storage is included.\\r\\n\\r\\n1-5 Year Term Available. Application Fee: $50. Move in Fee: $400. Repair deductible: $100. Rent includes: Parking, Additional Storage Space, Trash Removal, Water and Sewer, Party Room, Recreational Facility. Tenant is responsible for Electric.</td>\n",
       "    </tr>\n",
       "  </tbody>\n",
       "</table>\n",
       "</div>"
      ],
      "text/plain": [
       "   PropertyID ListingDate  Latitude  Longitude  ZipCode    CityName            CountyName StateName CountyListingCoverage  LeasePriceDollarCnt  LeaseTermMonths  FinishedSquareFeet  Bedrooms  Bathrooms  BuiltYear                                                                                                                                                                                                                                                                                                                                                                                                                                                                                                                                                                                                                                                                                                                                    ListingDescription\n",
       "0      391329      3/2/16  38899907  -77056204    20037  Washington  District of Columbia        DC                  0.89               4100.0               12                1800       2.0        2.5        NaN                                                                                                                                                                                                                                                                                                                                                                                                                                                            This 2 BR, 2.5 bath unit has an abundant amount of natural sunlight, a large terrace and a breathtaking view of the Potomac River. \\r\\n\\r\\nWalking distance to Georgetown waterfront, Foggy Bottom Metro, George Washington University & University Hospital, Whole Foods and restaurants.\n",
       "1      391331     1/10/15  38905551  -77053871    20037  Washington  District of Columbia        DC                  0.89               3200.0               12                 863       0.0        2.0        NaN                                                                                                                                                                                                                                                                          HUGE STEAM ROOM/SAUNA!  In this open loft with amazing views, private terrace, nearly $100,000k of high-end updates:Caesarstone counter tops, Blue Cellini- style Ultra Craft cabinets, GE Profile and Bosch stainless appliances, Euro-style bath finishes, including Huge steam shower/sauna. Step down living room, Murphy bed, and flat screen TV, built-ins. On-site manager, Pet friendly, roof terrace, rental park $205/mo.  ASK ABOUT EXCITING PLANS FOR BUILDING. \n",
       "2      391331     1/10/15  38905551  -77053871    20037  Washington  District of Columbia        DC                  0.89               3200.0               12                 863       0.0        2.0        NaN                                                                                           Amazing views! in this cool open space with large Euro-style kitchen perfect for entertaining, stainless appliances, Ultra craft appliances, terrace, huge private steam shower, extra half bath. Building features 7 day concierge, roof terrace, pet friendly, garage parking $205/mo. Near Trader Joes, 2 metros, Four Seasons, Ritz Carlton.Amazing Views! in this cool furnished flat, perfect for entertaining; has large open Euro-style kitchen with stainless appliances, terrace, bamboo flooring, powder room, washer/dryer, huge steam sauna; building has 7-day concierge, roof terrace, garage rental parking. Near Trader Joes and 2 metros.\n",
       "3      391377     5/10/16  38904110  -77054247    20037  Washington  District of Columbia        DC                  0.89               3350.0               12                 847       1.0        1.0        NaN                                                                                                                                                                                                                                                                                                                                                 Urban living space is now available for rent in this very well located West End condo building. Features a spacious, living room/dining room combination with a wall of windows overlooking a private terrace, a kitchen with updated appliances, laundry closet, large bedroom, and great closet space. The terrace has approximately 400 sq. ft. of outdoor space. One car garage parking included.\n",
       "4      391416      7/1/16  38903981  -77054160    20037  Washington  District of Columbia        DC                  0.89               3100.0               12                 845       1.0        1.0        NaN  The Westbridge is a contemporary building located in desirable West End and walking distance to Foggy Bottom METRO and GW. Building Amenities: 24 hr staffed front desk, fitness center, pool, lounging area, rooftop deck and garage parking. This 1 bedroom, 1 bathroom unit has been beautifully updated with granite counter tops in kitchen and bathroom, stainless steel appliances, hardwood floors, washer & dryer, many closets, and a balcony. parking and storage is included.\\r\\n\\r\\n1-5 Year Term Available. Application Fee: $50. Move in Fee: $400. Repair deductible: $100. Rent includes: Parking, Additional Storage Space, Trash Removal, Water and Sewer, Party Room, Recreational Facility. Tenant is responsible for Electric."
      ]
     },
     "execution_count": 1239,
     "metadata": {},
     "output_type": "execute_result"
    }
   ],
   "source": [
    "trulia.head()"
   ]
  },
  {
   "cell_type": "markdown",
   "metadata": {},
   "source": [
    "Calling .shape on a DataFrame allows me to see the shape of the data.  \n",
    "\n",
    "The output of calling .shape is a list where the x = the number of rows in the dataset & y = the number of columns in the dataset."
   ]
  },
  {
   "cell_type": "code",
   "execution_count": 1240,
   "metadata": {},
   "outputs": [
    {
     "data": {
      "text/plain": [
       "(30961, 16)"
      ]
     },
     "execution_count": 1240,
     "metadata": {},
     "output_type": "execute_result"
    }
   ],
   "source": [
    "trulia.shape"
   ]
  },
  {
   "cell_type": "markdown",
   "metadata": {},
   "source": [
    "There are 30961 records and 16 columns in the dataset \n",
    "__________\n",
    "\n",
    "\n",
    "After checking the shape of the DataFrame, I typically look at the column names. Sometimes there are spacs in the column names that need to be removed, as spaces are very \"un-pythonic.\"  But for the sake of the currently challenge, I will not be changing the column names.  "
   ]
  },
  {
   "cell_type": "code",
   "execution_count": 1241,
   "metadata": {},
   "outputs": [
    {
     "data": {
      "text/plain": [
       "Index(['PropertyID', 'ListingDate', 'Latitude', 'Longitude', 'ZipCode', 'CityName', 'CountyName', 'StateName', 'CountyListingCoverage', 'LeasePriceDollarCnt', 'LeaseTermMonths', 'FinishedSquareFeet', 'Bedrooms', 'Bathrooms', 'BuiltYear', 'ListingDescription'], dtype='object')"
      ]
     },
     "execution_count": 1241,
     "metadata": {},
     "output_type": "execute_result"
    }
   ],
   "source": [
    "trulia.columns"
   ]
  },
  {
   "cell_type": "markdown",
   "metadata": {},
   "source": [
    "### 2. Clean Data\n",
    "\n",
    "Now that the dataset has been loaded and I have a basic understanding of the data I'm working with, it's time to begin to investigate the data.  It's always a good idea to call .info() on the DataFrame.  \n",
    "\n",
    "Calling .info() allows you to first see how many null values are in each column and also see what data type each column is.  "
   ]
  },
  {
   "cell_type": "code",
   "execution_count": 1242,
   "metadata": {},
   "outputs": [
    {
     "name": "stdout",
     "output_type": "stream",
     "text": [
      "<class 'pandas.core.frame.DataFrame'>\n",
      "RangeIndex: 30961 entries, 0 to 30960\n",
      "Data columns (total 16 columns):\n",
      "PropertyID               30961 non-null int64\n",
      "ListingDate              30961 non-null object\n",
      "Latitude                 30961 non-null int64\n",
      "Longitude                30961 non-null int64\n",
      "ZipCode                  30961 non-null int64\n",
      "CityName                 30366 non-null object\n",
      "CountyName               30961 non-null object\n",
      "StateName                30366 non-null object\n",
      "CountyListingCoverage    30961 non-null object\n",
      "LeasePriceDollarCnt      30780 non-null float64\n",
      "LeaseTermMonths          30961 non-null int64\n",
      "FinishedSquareFeet       30961 non-null int64\n",
      "Bedrooms                 30958 non-null float64\n",
      "Bathrooms                30961 non-null float64\n",
      "BuiltYear                6589 non-null float64\n",
      "ListingDescription       29797 non-null object\n",
      "dtypes: float64(4), int64(6), object(6)\n",
      "memory usage: 3.8+ MB\n"
     ]
    }
   ],
   "source": [
    "trulia.info()"
   ]
  },
  {
   "cell_type": "markdown",
   "metadata": {},
   "source": [
    "CityName, StateName , LeasePriceDollarCnt , Bedrooms, BuiltYear and ListingDescription all have null values "
   ]
  },
  {
   "cell_type": "code",
   "execution_count": 1243,
   "metadata": {},
   "outputs": [
    {
     "name": "stdout",
     "output_type": "stream",
     "text": [
      "CityName has 595 null values\n",
      "\n",
      "StateName has 595 null values\n",
      "\n",
      "LeasePriceDollarCnt has 181 null values\n",
      "\n",
      "Bedrooms has 3 null values\n",
      "\n",
      "BuiltYear has 24372 null values\n",
      "\n",
      "ListingDescription has 1164 null values\n",
      "\n"
     ]
    }
   ],
   "source": [
    "\n",
    "cityname_null = (30961 - 30366 )\n",
    "statename_null = (30961 - 30366)\n",
    "leasepricedollarcnt_null = (30961 - 30780)\n",
    "bedrooms_null = (30961 - 30958)\n",
    "builtyear_null = (30961 - 6589)\n",
    "listingdescription_null = (30961 - 29797)\n",
    "\n",
    "print (\"CityName has {} null values\\n\".format(cityname_null))\n",
    "print (\"StateName has {} null values\\n\".format(statename_null))\n",
    "print (\"LeasePriceDollarCnt has {} null values\\n\".format(leasepricedollarcnt_null))\n",
    "print (\"Bedrooms has {} null values\\n\".format(bedrooms_null))\n",
    "print (\"BuiltYear has {} null values\\n\".format(builtyear_null))\n",
    "print (\"ListingDescription has {} null values\\n\".format(listingdescription_null))"
   ]
  },
  {
   "cell_type": "markdown",
   "metadata": {},
   "source": [
    "### A LOT OF NULL VALUES ! \n",
    "\n",
    "Anytime I see null values, I want to inspect the columns to see what I should do with the values. \n",
    "\n",
    "My options for dealing with null values include \n",
    "\n",
    "\n",
    "1) dropping records that feature null values in one or more of the columns \n",
    "\n",
    "2) changing the null values to another value like the Mean for instance , this is called imputation \n",
    "\n",
    "3) changing the null value to another value based on domain knowledge of the dataset\n",
    "\n",
    "4) dropping a column that features a lot of null values \n",
    "\n",
    "\n",
    "Before deciding on which method to use with each column, a look at the data inside is important.  \n",
    "\n",
    "##### I always consider how many total records there are when deciding what to do. Sometimes, it makes more sense to drop null values vs imputing or changing their value "
   ]
  },
  {
   "cell_type": "code",
   "execution_count": 1299,
   "metadata": {},
   "outputs": [
    {
     "data": {
      "text/plain": [
       "array(['Washington', 'Alexandria', 'Arlington', 'Culpeper', 'Jeffersonton',\n",
       "       'Amissville', 'Boston', 'Falls Church', 'Markham', 'Delaplane',\n",
       "       'Upperville', 'Remington', 'Manassas', 'Bealeton', 'Sumerduck',\n",
       "       'Hume', 'Marshall', 'Warrenton', 'The Plains', 'Midland',\n",
       "       'Broad Run', 'Catlett', 'Nokesville', 'Fredericksburg', 'Fairfax',\n",
       "       'Sterling', 'Great Falls', 'Ashburn', 'Leesburg', 'Chantilly',\n",
       "       'Aldie', 'Lovettsville', 'Waterford', 'Paeonian Springs',\n",
       "       'Hamilton', 'Purcellville', 'Middleburg', 'Hillsboro', 'Round Hill',\n",
       "       'Triangle', 'Woodbridge', 'Dumfries', 'Haymarket', 'Yorkshire',\n",
       "       'Gainesville', 'West Gate', 'Loch Lomond', 'Quantico', 'Bristow',\n",
       "       'Stafford', 'Dowell', 'Saint Leonard', 'Solomons', 'Lusby',\n",
       "       'Port Republic', 'Huntingtown', 'Chesapeake Beach',\n",
       "       'Prince Frederick', 'Dunkirk', 'North Beach', 'Marbury',\n",
       "       'Indian Head', 'La Plata', 'Bel Alton', 'Nanjemoy',\n",
       "       'Mechanicsville', 'Cobb Island', 'Newburg', 'Issue', 'Waldorf',\n",
       "       'White Plains', 'Bryans Road', 'Hughesville', 'Frederick',\n",
       "       'Dickerson', 'Sabillasville', 'Adamstown', 'Woodsboro', 'Jefferson',\n",
       "       'Thurmont', 'Myersville', 'Union Bridge', 'Mount Airy',\n",
       "       'New Windsor', 'Brunswick', 'Walkersville', 'New Market',\n",
       "       'Middletown', 'Rocky Ridge', 'Emmitsburg', 'Smithsburg',\n",
       "       'Ijamsville', 'Monrovia', 'Derwood', 'Brookeville',\n",
       "       'Montgomery Village', 'Clarksburg', 'Boyds', 'Germantown',\n",
       "       'Poolesville', 'North Bethesda', 'Travilah', 'Potomac', 'Rockville',\n",
       "       'North Potomac', 'Silver Spring', 'Beltsville', 'Burtonsville',\n",
       "       'Darnestown', 'Bethesda', 'Cabin John', 'Brookmont',\n",
       "       'Chevy Chase Village', 'Chevy Chase Section Three', 'Chevy Chase',\n",
       "       'Chevy Chase Section Five', 'Chevy Chase Terrace', 'Glen Echo',\n",
       "       'Martins Additions', 'North Chevy Chase', 'Somerset',\n",
       "       'Friendship Village', 'Olney', 'Sandy Spring', 'Gaithersburg',\n",
       "       'Damascus', 'Takoma Park', 'South Kensington', 'North Kensington',\n",
       "       'Kensington', 'College Park', 'Cottage City', 'Cheverly',\n",
       "       'Woodlawn', 'Bladensburg', 'East Riverdale', 'Greater Landover',\n",
       "       'Greater Upper Marlboro', 'Upper Marlboro', 'Brandywine',\n",
       "       'Fort Washington', 'Accokeek', 'Clinton', 'Suitland-Silver Hill',\n",
       "       'Temple Hills', 'District Heights', 'Coral Hills', 'Bowie',\n",
       "       'Kettering', 'Rosaryville', 'Laurel', 'Cheltenham',\n",
       "       'Forest Heights', 'Glenarden', 'Largo', 'Lanham Seabrook',\n",
       "       'Glenn Dale', 'Marlton', 'Hyattsville', 'Edmonston', 'Adelphi',\n",
       "       'Chillum', 'Brentwood', 'Mount Rainier', 'Seat Pleasant',\n",
       "       'Fairmount Heights', 'Carmody Hills-Pepper Mill Village',\n",
       "       'Capitol Heights', 'Walker Mill', 'Riverdale', 'University Park',\n",
       "       'Springdale', 'New Carrollton', 'Berwyn Heights', 'Greenbelt',\n",
       "       'Herndon', 'Reston', 'Vienna', 'Mc Lean', 'Oakton', 'Dunn Loring',\n",
       "       'Centreville', 'Clifton', 'Annandale', 'Lincolnia', 'Burke',\n",
       "       'Springfield', 'Rose Hill', 'Franconia', 'Groveton', 'Huntington',\n",
       "       'Belle Haven', 'Hybla Valley', 'Fort Hunt', 'Lorton',\n",
       "       'Mount Vernon', 'Flint Hill', 'Sperryville', 'Castleton',\n",
       "       'Manassas Park', 'Fort Belvoir', 'Spotsylvania', 'Locust Grove',\n",
       "       'Partlow', 'Goldvein', 'Berryville', 'Boyce', 'White Post',\n",
       "       'Front Royal', 'Linden', 'Bentonville', 'Occoquan'], dtype=object)"
      ]
     },
     "execution_count": 1299,
     "metadata": {},
     "output_type": "execute_result"
    }
   ],
   "source": [
    "#first to look at CityName column, I want to look at all the unique values\n",
    "\n",
    "trulia[\"CityName\"].unique()"
   ]
  },
  {
   "cell_type": "markdown",
   "metadata": {},
   "source": [
    "The first thing I notice when looking at the unique City names is that the dataset includeds much more than Washington DC.  The Dataset features the DC Metro Area.  \n",
    "\n",
    "<img src = \"https://upload.wikimedia.org/wikipedia/commons/5/5f/Washington_DC_metropolitan_map.jpg \">\n",
    "\n",
    "credit:  https://en.wikipedia.org/wiki/Washington_metropolitan_area"
   ]
  },
  {
   "cell_type": "code",
   "execution_count": 1245,
   "metadata": {
    "collapsed": true
   },
   "outputs": [],
   "source": [
    "# I may be able to deduce the city names ZipCode! "
   ]
  },
  {
   "cell_type": "code",
   "execution_count": 1246,
   "metadata": {},
   "outputs": [
    {
     "name": "stdout",
     "output_type": "stream",
     "text": [
      "These are the ZipCodes to the Missing CityNames [20111 21758 20882 20879 20854 20874 20878 20850 20817 20853 20877 20886\n",
      " 20855 20815 20895 20784 20785 20746 20743 20774 20745 20748 20706 20772\n",
      " 20712 20740 20783 20737 22311 22302 22312 22039 22315 20770]\n"
     ]
    }
   ],
   "source": [
    "missing_city_name = trulia[trulia['CityName'].isnull()] \n",
    "\n",
    "\n",
    "zips_to_null_city_name = missing_state_name[\"ZipCode\"].unique()\n",
    "print(\"These are the ZipCodes to the Missing CityNames {}\".format(zips_to_null_city_name))"
   ]
  },
  {
   "cell_type": "code",
   "execution_count": 1247,
   "metadata": {},
   "outputs": [
    {
     "data": {
      "text/plain": [
       "array(['Yorkshire', nan, 'Manassas Park', 'Loch Lomond'], dtype=object)"
      ]
     },
     "execution_count": 1247,
     "metadata": {},
     "output_type": "execute_result"
    }
   ],
   "source": [
    "trulia[trulia.ZipCode == 20111]\n",
    "\n",
    "zip_20111 = trulia[(trulia.ZipCode == 20111)]\n",
    "\n",
    "zip_20111.CityName.unique()\n"
   ]
  },
  {
   "cell_type": "markdown",
   "metadata": {},
   "source": [
    "I'm noticing a problem when inspecting the first zipcode 20111.  Any given zipcode  in this dataset is actually associated with a few different CityNames.  In the case of 20111, there are three cities tied to the zipcode: Yorkshire, Manaassas Park and Loch Lomond. "
   ]
  },
  {
   "cell_type": "code",
   "execution_count": 1248,
   "metadata": {},
   "outputs": [
    {
     "data": {
      "text/plain": [
       "array([nan], dtype=object)"
      ]
     },
     "execution_count": 1248,
     "metadata": {},
     "output_type": "execute_result"
    }
   ],
   "source": [
    "trulia[trulia.ZipCode == 21758]\n",
    "\n",
    "zip_21758 = trulia[(trulia.ZipCode == 21758)]\n",
    "\n",
    "zip_21758.CityName.unique()\n"
   ]
  },
  {
   "cell_type": "code",
   "execution_count": 1249,
   "metadata": {},
   "outputs": [
    {
     "data": {
      "text/plain": [
       "array([nan], dtype=object)"
      ]
     },
     "execution_count": 1249,
     "metadata": {},
     "output_type": "execute_result"
    }
   ],
   "source": [
    "trulia[trulia.ZipCode == 20882]\n",
    "\n",
    "zip_20882 = trulia[(trulia.ZipCode == 20882)]\n",
    "\n",
    "zip_20882.CityName.unique()\n",
    "\n"
   ]
  },
  {
   "cell_type": "markdown",
   "metadata": {},
   "source": [
    "### Making an executive decision on Missing City Names ...\n"
   ]
  },
  {
   "cell_type": "markdown",
   "metadata": {},
   "source": [
    "I am noticing a pattern.  ZipCodes in this dataset relate to many cities.  It's going to be hard to deduce CityNames from the zips without other domain knowledge. \n",
    "One way of dealing with this would be to find shapefiles or geojsons of City boundaries and plot the lat, long of the missing values. By doing a spatial join you could reassign the values.  \n",
    "\n",
    "Both City and StateName both have 595 null vallues, this accounts for ~ 2% of the data. As much as I want to solve the issue, 2% of the data is very low.  By removing the values, I will still have enough data to perform the analysis on. \n",
    "\n",
    "I have also run the analysis without dropping the null values and didn't find much of a difference.  "
   ]
  },
  {
   "cell_type": "code",
   "execution_count": 1250,
   "metadata": {
    "collapsed": true
   },
   "outputs": [],
   "source": [
    "trulia = trulia[trulia['CityName'].notnull()]"
   ]
  },
  {
   "cell_type": "code",
   "execution_count": 1251,
   "metadata": {},
   "outputs": [
    {
     "name": "stdout",
     "output_type": "stream",
     "text": [
      "<class 'pandas.core.frame.DataFrame'>\n",
      "Int64Index: 30366 entries, 0 to 30960\n",
      "Data columns (total 16 columns):\n",
      "PropertyID               30366 non-null int64\n",
      "ListingDate              30366 non-null object\n",
      "Latitude                 30366 non-null int64\n",
      "Longitude                30366 non-null int64\n",
      "ZipCode                  30366 non-null int64\n",
      "CityName                 30366 non-null object\n",
      "CountyName               30366 non-null object\n",
      "StateName                30366 non-null object\n",
      "CountyListingCoverage    30366 non-null object\n",
      "LeasePriceDollarCnt      30186 non-null float64\n",
      "LeaseTermMonths          30366 non-null int64\n",
      "FinishedSquareFeet       30366 non-null int64\n",
      "Bedrooms                 30363 non-null float64\n",
      "Bathrooms                30366 non-null float64\n",
      "BuiltYear                6530 non-null float64\n",
      "ListingDescription       29226 non-null object\n",
      "dtypes: float64(4), int64(6), object(6)\n",
      "memory usage: 3.9+ MB\n"
     ]
    }
   ],
   "source": [
    "trulia.info()"
   ]
  },
  {
   "cell_type": "markdown",
   "metadata": {},
   "source": [
    "\n",
    "________\n",
    "\n",
    "\n",
    "LeasePriceDollarCnt has only 181 null values,  I can probably get rid of those or better yet, I can impute.  I'm imputing because there are only 181 values that need to be replaced "
   ]
  },
  {
   "cell_type": "code",
   "execution_count": 1252,
   "metadata": {},
   "outputs": [
    {
     "data": {
      "text/plain": [
       "2265.637646591135"
      ]
     },
     "execution_count": 1252,
     "metadata": {},
     "output_type": "execute_result"
    }
   ],
   "source": [
    "trulia[\"LeasePriceDollarCnt\"].mean()"
   ]
  },
  {
   "cell_type": "code",
   "execution_count": 1253,
   "metadata": {},
   "outputs": [
    {
     "name": "stdout",
     "output_type": "stream",
     "text": [
      "<class 'pandas.core.frame.DataFrame'>\n",
      "Int64Index: 30366 entries, 0 to 30960\n",
      "Data columns (total 16 columns):\n",
      "PropertyID               30366 non-null int64\n",
      "ListingDate              30366 non-null object\n",
      "Latitude                 30366 non-null int64\n",
      "Longitude                30366 non-null int64\n",
      "ZipCode                  30366 non-null int64\n",
      "CityName                 30366 non-null object\n",
      "CountyName               30366 non-null object\n",
      "StateName                30366 non-null object\n",
      "CountyListingCoverage    30366 non-null object\n",
      "LeasePriceDollarCnt      30366 non-null float64\n",
      "LeaseTermMonths          30366 non-null int64\n",
      "FinishedSquareFeet       30366 non-null int64\n",
      "Bedrooms                 30363 non-null float64\n",
      "Bathrooms                30366 non-null float64\n",
      "BuiltYear                6530 non-null float64\n",
      "ListingDescription       29226 non-null object\n",
      "dtypes: float64(4), int64(6), object(6)\n",
      "memory usage: 3.9+ MB\n",
      "None\n"
     ]
    }
   ],
   "source": [
    "trulia[[\"LeasePriceDollarCnt\"]] = trulia[[\"LeasePriceDollarCnt\"]].apply(lambda x: x.fillna(x.mean()))\n",
    "\n",
    "#Alternatively I could have also written this code trulia[\"LeasePriceDollarCnt\"].fillna((trulia[\"LeasePriceDollarCnt\"].mean()))\n",
    "\n",
    "print(trulia.info())"
   ]
  },
  {
   "cell_type": "markdown",
   "metadata": {
    "collapsed": true
   },
   "source": [
    "_______\n",
    "\n",
    "Since there are only 3 null values for bedrooms, I can drop the data \n"
   ]
  },
  {
   "cell_type": "code",
   "execution_count": 1254,
   "metadata": {
    "collapsed": true
   },
   "outputs": [],
   "source": [
    "trulia = trulia[trulia['Bedrooms'].notnull()]"
   ]
  },
  {
   "cell_type": "code",
   "execution_count": 1255,
   "metadata": {},
   "outputs": [
    {
     "name": "stdout",
     "output_type": "stream",
     "text": [
      "<class 'pandas.core.frame.DataFrame'>\n",
      "Int64Index: 30363 entries, 0 to 30960\n",
      "Data columns (total 16 columns):\n",
      "PropertyID               30363 non-null int64\n",
      "ListingDate              30363 non-null object\n",
      "Latitude                 30363 non-null int64\n",
      "Longitude                30363 non-null int64\n",
      "ZipCode                  30363 non-null int64\n",
      "CityName                 30363 non-null object\n",
      "CountyName               30363 non-null object\n",
      "StateName                30363 non-null object\n",
      "CountyListingCoverage    30363 non-null object\n",
      "LeasePriceDollarCnt      30363 non-null float64\n",
      "LeaseTermMonths          30363 non-null int64\n",
      "FinishedSquareFeet       30363 non-null int64\n",
      "Bedrooms                 30363 non-null float64\n",
      "Bathrooms                30363 non-null float64\n",
      "BuiltYear                6529 non-null float64\n",
      "ListingDescription       29224 non-null object\n",
      "dtypes: float64(4), int64(6), object(6)\n",
      "memory usage: 3.9+ MB\n"
     ]
    }
   ],
   "source": [
    "trulia.info()"
   ]
  },
  {
   "cell_type": "markdown",
   "metadata": {},
   "source": [
    "\n",
    "___________\n",
    "BuiltYear by far, has the most null values, might be good to see on a historgram the distribution. I want to make an educated decision regarding the null values.  \n"
   ]
  },
  {
   "cell_type": "code",
   "execution_count": 1256,
   "metadata": {},
   "outputs": [
    {
     "name": "stdout",
     "output_type": "stream",
     "text": [
      "The Median Year houses were build in this dataset is 2006.0\n"
     ]
    },
    {
     "data": {
      "image/png": "[encoded data removed]",
      "text/plain": [
       "<matplotlib.figure.Figure at 0x1a342b0710>"
      ]
     },
     "metadata": {},
     "output_type": "display_data"
    }
   ],
   "source": [
    "built_year = trulia[trulia['BuiltYear'].notnull()]\n",
    "\n",
    "distplot = sns.distplot(built_year[\"BuiltYear\"])\n",
    "\n",
    "print(\"The Median Year houses were build in this dataset is {}\".format(built_year[\"BuiltYear\"].median()))"
   ]
  },
  {
   "cell_type": "markdown",
   "metadata": {},
   "source": [
    "The data falls within 1940 to present and is skewed to the left.  The median built year is 2006 (wow, lots of new construction!) \n",
    "\n",
    "Since there are a lot of null values. I want to see how important Built year  is to the data set.  "
   ]
  },
  {
   "cell_type": "code",
   "execution_count": 1257,
   "metadata": {
    "collapsed": true
   },
   "outputs": [],
   "source": [
    "trulia_copy = trulia.filter([\"ZipCode\", \"BuiltYear\"])"
   ]
  },
  {
   "cell_type": "code",
   "execution_count": 1258,
   "metadata": {},
   "outputs": [
    {
     "data": {
      "text/html": [
       "<div>\n",
       "<style scoped>\n",
       "    .dataframe tbody tr th:only-of-type {\n",
       "        vertical-align: middle;\n",
       "    }\n",
       "\n",
       "    .dataframe tbody tr th {\n",
       "        vertical-align: top;\n",
       "    }\n",
       "\n",
       "    .dataframe thead th {\n",
       "        text-align: right;\n",
       "    }\n",
       "</style>\n",
       "<table border=\"1\" class=\"dataframe\">\n",
       "  <thead>\n",
       "    <tr style=\"text-align: right;\">\n",
       "      <th></th>\n",
       "      <th>ZipCode</th>\n",
       "      <th>BuiltYear</th>\n",
       "    </tr>\n",
       "  </thead>\n",
       "  <tbody>\n",
       "    <tr>\n",
       "      <th>ZipCode</th>\n",
       "      <td>1.000000</td>\n",
       "      <td>-0.143301</td>\n",
       "    </tr>\n",
       "    <tr>\n",
       "      <th>BuiltYear</th>\n",
       "      <td>-0.143301</td>\n",
       "      <td>1.000000</td>\n",
       "    </tr>\n",
       "  </tbody>\n",
       "</table>\n",
       "</div>"
      ],
      "text/plain": [
       "            ZipCode  BuiltYear\n",
       "ZipCode    1.000000  -0.143301\n",
       "BuiltYear -0.143301   1.000000"
      ]
     },
     "execution_count": 1258,
     "metadata": {},
     "output_type": "execute_result"
    }
   ],
   "source": [
    "trulia_copy.corr()"
   ]
  },
  {
   "cell_type": "code",
   "execution_count": 1259,
   "metadata": {},
   "outputs": [
    {
     "data": {
      "text/plain": [
       "<seaborn.axisgrid.FacetGrid at 0x1a3429f1d0>"
      ]
     },
     "execution_count": 1259,
     "metadata": {},
     "output_type": "execute_result"
    },
    {
     "data": {
      "image/png": "[encoded data removed]",
      "text/plain": [
       "<matplotlib.figure.Figure at 0x1a3429f358>"
      ]
     },
     "metadata": {},
     "output_type": "display_data"
    }
   ],
   "source": [
    "sns.lmplot(\"ZipCode\", \"BuiltYear\", data = trulia_copy)\n"
   ]
  },
  {
   "cell_type": "markdown",
   "metadata": {
    "collapsed": true
   },
   "source": [
    "This tells me that there's no meaningful relationship between zipcode and built year, which is surpriseing considering how i thought development occured in the DC metro area"
   ]
  },
  {
   "cell_type": "code",
   "execution_count": 1260,
   "metadata": {},
   "outputs": [
    {
     "data": {
      "text/plain": [
       "<seaborn.axisgrid.FacetGrid at 0x1a33b73c50>"
      ]
     },
     "execution_count": 1260,
     "metadata": {},
     "output_type": "execute_result"
    },
    {
     "data": {
      "image/png": "[encoded data removed]",
      "text/plain": [
       "<matplotlib.figure.Figure at 0x1a342b0198>"
      ]
     },
     "metadata": {},
     "output_type": "display_data"
    }
   ],
   "source": [
    "trulia_copy = trulia.filter([\"BuiltYear\", \"LeasePriceDollarCnt\"])\n",
    "trulia_copy.corr()\n",
    "\n",
    "sns.lmplot(\"LeasePriceDollarCnt\", \"BuiltYear\", data = trulia_copy)"
   ]
  },
  {
   "cell_type": "markdown",
   "metadata": {},
   "source": [
    "I think at this point it's just time to drop the column Built Year :( \n",
    "\n",
    "I really dislike having to drop data, but there are just so many null values in this column, it's best to just drop the column. "
   ]
  },
  {
   "cell_type": "code",
   "execution_count": 1261,
   "metadata": {
    "collapsed": true
   },
   "outputs": [],
   "source": [
    "trulia.drop(\"BuiltYear\", axis=1, inplace=True)"
   ]
  },
  {
   "cell_type": "code",
   "execution_count": 1262,
   "metadata": {},
   "outputs": [
    {
     "data": {
      "text/plain": [
       "Index(['PropertyID', 'ListingDate', 'Latitude', 'Longitude', 'ZipCode', 'CityName', 'CountyName', 'StateName', 'CountyListingCoverage', 'LeasePriceDollarCnt', 'LeaseTermMonths', 'FinishedSquareFeet', 'Bedrooms', 'Bathrooms', 'ListingDescription'], dtype='object')"
      ]
     },
     "execution_count": 1262,
     "metadata": {},
     "output_type": "execute_result"
    }
   ],
   "source": [
    "trulia.columns"
   ]
  },
  {
   "cell_type": "code",
   "execution_count": 1263,
   "metadata": {},
   "outputs": [
    {
     "name": "stdout",
     "output_type": "stream",
     "text": [
      "<class 'pandas.core.frame.DataFrame'>\n",
      "Int64Index: 30363 entries, 0 to 30960\n",
      "Data columns (total 15 columns):\n",
      "PropertyID               30363 non-null int64\n",
      "ListingDate              30363 non-null object\n",
      "Latitude                 30363 non-null int64\n",
      "Longitude                30363 non-null int64\n",
      "ZipCode                  30363 non-null int64\n",
      "CityName                 30363 non-null object\n",
      "CountyName               30363 non-null object\n",
      "StateName                30363 non-null object\n",
      "CountyListingCoverage    30363 non-null object\n",
      "LeasePriceDollarCnt      30363 non-null float64\n",
      "LeaseTermMonths          30363 non-null int64\n",
      "FinishedSquareFeet       30363 non-null int64\n",
      "Bedrooms                 30363 non-null float64\n",
      "Bathrooms                30363 non-null float64\n",
      "ListingDescription       29224 non-null object\n",
      "dtypes: float64(3), int64(6), object(6)\n",
      "memory usage: 5.0+ MB\n"
     ]
    }
   ],
   "source": [
    "trulia.info()"
   ]
  },
  {
   "cell_type": "markdown",
   "metadata": {
    "collapsed": true
   },
   "source": [
    "________\n",
    "\n",
    "Now time to deal with the Listing Description.  Since this is the column I am going to be utilizng to use to find \"English Bedrooms\" , I think it's fair to say I can drop all the records with no listing description "
   ]
  },
  {
   "cell_type": "code",
   "execution_count": 1264,
   "metadata": {
    "collapsed": true
   },
   "outputs": [],
   "source": [
    "trulia = trulia[trulia['ListingDescription'].notnull()]"
   ]
  },
  {
   "cell_type": "code",
   "execution_count": 1265,
   "metadata": {},
   "outputs": [
    {
     "name": "stdout",
     "output_type": "stream",
     "text": [
      "<class 'pandas.core.frame.DataFrame'>\n",
      "Int64Index: 29224 entries, 0 to 30960\n",
      "Data columns (total 15 columns):\n",
      "PropertyID               29224 non-null int64\n",
      "ListingDate              29224 non-null object\n",
      "Latitude                 29224 non-null int64\n",
      "Longitude                29224 non-null int64\n",
      "ZipCode                  29224 non-null int64\n",
      "CityName                 29224 non-null object\n",
      "CountyName               29224 non-null object\n",
      "StateName                29224 non-null object\n",
      "CountyListingCoverage    29224 non-null object\n",
      "LeasePriceDollarCnt      29224 non-null float64\n",
      "LeaseTermMonths          29224 non-null int64\n",
      "FinishedSquareFeet       29224 non-null int64\n",
      "Bedrooms                 29224 non-null float64\n",
      "Bathrooms                29224 non-null float64\n",
      "ListingDescription       29224 non-null object\n",
      "dtypes: float64(3), int64(6), object(6)\n",
      "memory usage: 3.6+ MB\n"
     ]
    }
   ],
   "source": [
    "trulia.info()"
   ]
  },
  {
   "cell_type": "markdown",
   "metadata": {
    "collapsed": true
   },
   "source": [
    "_________\n",
    "\n",
    "### 3. Identify \"English Basements\"\n",
    "\n",
    "There are a few ways of finding \"English basements\" in the ListingDescription column. \n",
    "\n",
    "1. Regular Expressions / RegEX \n",
    "\n",
    "2. string method str.extract\n",
    "\n",
    "3. string method str.contains \n",
    "\n"
   ]
  },
  {
   "cell_type": "markdown",
   "metadata": {},
   "source": [
    "#### Regular Expressions \n",
    "\n",
    "Regular expressings allow you to enter a string of spefified characters that allow you to look for a pattern in text data.  \n",
    "\n",
    "\\d --> any digit [0 - 9]\n",
    "\n",
    "\\D --> non digit \n",
    "\n",
    "\\s --> white space character , tab, space, new line, return \n",
    "\n",
    "\\S --> non white space character \n",
    "\n",
    "\\w --> any alpha numeric chaeracter [a - z ; A - Z, 0 - 9]\n",
    "\n",
    "\\W --> any non alpha numerica character [*, @ ,# ,$, % etc]\n",
    "                                         \n",
    "                                        __________________\n",
    "                                      \n",
    ".  --> matches any character \n",
    "\n",
    "^ --> matches start of string \n",
    "\n",
    "$ --> matches end of string\n",
    "\n",
    "* --> matches repitions for instance \"bc*\" matches \"b\", \"bc\" or \"bcccccccccccc\"\n",
    "\n",
    "+ --> matches 1 or more of characters for istance \"bc+\" matches \"b\" and then any number of \"c\"s\n",
    "\n",
    "? --> matches 0 or 1 repition \"bc?\" matches \"b\" or \"bc\"\n",
    "\n",
    "\n",
    "###### there's a lot more but these are just the basics that I will use ... regex is fun, complex, and a lot at times! \n",
    "\n",
    "(source: https://zeroturnaround.com/rebellabs/java-regular-expressions-cheat-sheet/) \n",
    "\n",
    "                                        __________________\n",
    "\n",
    "\n",
    "I am looking for \"English Basements\" \n",
    "\n",
    "--> English Basement\n",
    "\n",
    "\n",
    "\n",
    "(E|e).\\w+\\s(B|b).\\w+(ment)\n",
    "\n",
    "\n",
    "--> basement \n",
    "\n",
    "\n",
    "\n",
    "(B|b)asement\n",
    "\n",
    "\n"
   ]
  },
  {
   "cell_type": "code",
   "execution_count": 1266,
   "metadata": {},
   "outputs": [
    {
     "name": "stdout",
     "output_type": "stream",
     "text": [
      "Creating a regular expression to pull 'basement' from the ListingDescrition column yeilded 6874 records\n"
     ]
    }
   ],
   "source": [
    "\n",
    "\n",
    "\n",
    "basements = trulia[trulia.ListingDescription.str.contains(r\"[B|b]asement\")]\n",
    "\n",
    "print (\"Creating a regular expression to pull 'basement' from the ListingDescrition column yeilded {} records\"\n",
    "       .format(basements.shape[0]))\n",
    "\n"
   ]
  },
  {
   "cell_type": "code",
   "execution_count": 1267,
   "metadata": {},
   "outputs": [
    {
     "data": {
      "text/plain": [
       "42    $1975 spacious 1 BR 1 BA apartment available beginning June 1st. \\r\\n\\r\\nLOCATION! LOCATION! LOCATION! \\r\\n\\r\\nThis sunny and bright condo is located on the 6th floor of a beautiful art deco building called The Bader, at 2515 K Street. Centrally located in Foggy Bottom; 2 minute walk to the metro (orange/blue/silver line), George Washington University, World Bank, State Department, Georgetown, Georgetown Harbor, AMC Movie Theatre, Trader Joes, Whole Foods, restaurants, bars and the 30N, 30S, 31, 38B, L1 and L3 bus stops, and the Circulator Bus. \\r\\n\\r\\nRent includes all utilities as well as extra storage in the basement with a bike room to store your bike as well. Amenities in the building include a beautiful courtyard with tables and bbq grills, a large laundry room and an expansive roof deck with incredible views of Georgetown and the Potomac River. No parking spot available with building. Courtyard and rooftop deck are available for private reservations without a fee! \\r\\n\\r\\nBest part of living in this apartment, you get the best landlords in town! \\r\\n\\r\\n$2,000 1 month security deposit required before move in and 1 year signing of lease. \\r\\n\\r\\nAccording to the Washingtonian's April 2016 edition, in an article titled \"This Is The Insane Cost of Off-Campus Housing in DC\", the average rent in the GW area runs around $4,100 a month and in Georgetown, you are looking $3,012 a month. So $1,985 a month at The Bader is a steal! Don't wait too long to inquire about this place. Affordable apartments in this part of town are incredibly hard to come by!\n",
       "48                                                                                                                                                                                                                                                                                                                                                                                                                                                                                                                                                                                                                                                                                                                                                                                                                                                                                                                                                                                                                                                                                                                                                                                                                                                                                                                                         1010 25th St. NW #211 (The Swarthmore)\\r\\nLocated minutes from GW University and Foggy Bottom metro station.\\r\\nAll utilities included (tenant responsible for internet). Coin-operated washers and dryers in the basement.\\r\\nNo smoking or pets allowed in the building. One year minimum lease.\n",
       "49                                                                                                                                                                                                                                                                                                                                                                                                                                                                                                         2-bedroom furnished apartment in Foggy Bottom / West End area (25th and K St NW) with garage parking.  Available now.  Two blocks to Foggy Bottom metro, one block to Trader Joe's, three blocks to Whole Foods, GW School of Medicine, and GW Hospital.  Walking distance to Dupont circle, IMF, World Bank, Kennedy Center, White House, etc.\\r\\n\\r\\nOne parking spot in secure basement garage is included.  Additional spots are usually available to rent.  Roof deck with views of Georgetown, Potomac, and Virginia.  One bedroom is fully furnished, second bedroom furnished upon request.  Additional furniture is available; alternatively, existing furniture can be removed if desired.\\r\\n\\r\\nFully furnished new, high-end kitchen.  Stocked kitchen includes plates, glasses, silverware, and cooking equipment (removed upon request).  In-unit washer/dryer.  Water/trash/sewer included.  Pass-through billing for electrical and cable/internet available.  One-year lease preferred but negotiable.\\r\\n\\r\\nLocation: 2501 K St. Washington, DC 20037\\r\\nSize. 750ft2\\r\\nNo smoking\\r\\nCats ok\\r\\nRent: $2,950\n",
       "67                                                                                                                                                                                                                                                                                                                                                                                                                                                                                                                                                                                                                                                                                                                                                                                                                                                                                                                                                                                                                                                                                                                                                                                                                                                                                                                 Four Br, 2 Ba, 1,120 sq ft, roof deck, storage basement. \\r\\nShort walk to Metro, GWU, Kennedy Center, shops, restaurants. \\r\\n$5.875, one year or longer lease; $5,000 security deposit, electricity not included, covered parking $285 additional  Open 1-4 Sat,Sun, & Mon May 27,28,29.\\r\\n\\r\\nElectricity not included\n",
       "70                                                                  SPECIAL DEAL! Rent reduced to $2100/mo and all utilities included if you sign a lease by May 15th! ACT NOW! \\r\\n\\r\\nOpen house Saturday 5/9 & Sunday 5/10 2-4pm\\r\\n\\r\\nThe Residence\\r\\nRenovated Foggy Bottom Apartment with all utilities included! Deceptively large condo with brand new kitchen, updated bathroom, and wood floors. Wall-to-wall insulated windows offer ample sunshine and fresh breezes. Whip up a tasty treat in the renovated kitchen, featuring granite countertops, glass tile backsplash, track lighting, and SS appliances. Bedroom is complete with wall of windows and over 12 feet of closet space. Custom built-ins keep everything organized. Need more space to stash your belongings? There is a 6'x3' storage space in the basement. An updated bathroom with new vanity, mirrors, and lighting will help you start your day on the right foot. Enjoy the outdoor pool in the dog days of summer! Parking is available for $200/month.\\r\\n\\r\\nThe Neighborhood\\r\\nBest of locations! Easy to live car-free with Foggy Bottom Metro just a block away. Close by retail and restaurants with easy access to Georgetown, Kennedy Center, and downtown. 1 block to Whole Foods. Trader Joe's is minutes away. Easy access to IMF, World Bank, State Department and GWU.\\r\\n\\r\\n- Property is available as unfurnished - No Pets - No smoking - Renter's insurance required - Utilities included in rent\\r\\n\\r\\n- Property is available as unfurnished - Pets OK - No smoking - Renter's insurance required - Utilities included in rent.\n",
       "Name: ListingDescription, dtype: object"
      ]
     },
     "execution_count": 1267,
     "metadata": {},
     "output_type": "execute_result"
    }
   ],
   "source": [
    "basements[\"ListingDescription\"].head()"
   ]
  },
  {
   "cell_type": "markdown",
   "metadata": {},
   "source": [
    "Looking at the results that Basement pulled makes me think it's bit too broad...Time to narrow down the expression to capture only what's really an english basment."
   ]
  },
  {
   "cell_type": "code",
   "execution_count": 1296,
   "metadata": {},
   "outputs": [
    {
     "name": "stdout",
     "output_type": "stream",
     "text": [
      "Creating a regular expression to pull 'basement' from the ListingDescrition column yeilded 1104 records\n"
     ]
    }
   ],
   "source": [
    "\n",
    "\n",
    "english_basement = trulia[trulia.ListingDescription.str.contains(r'(E|e).\\w+\\s(B|b).\\w+(ment)')]\n",
    "\n",
    "print (\"Creating a regular expression to pull 'basement' from the ListingDescrition column yeilded {} records\"\n",
    "       .format(english_basement.shape[0]))\n",
    "\n",
    "\n"
   ]
  },
  {
   "cell_type": "code",
   "execution_count": 1298,
   "metadata": {},
   "outputs": [
    {
     "data": {
      "text/plain": [
       "49    2-bedroom furnished apartment in Foggy Bottom / West End area (25th and K St NW) with garage parking.  Available now.  Two blocks to Foggy Bottom metro, one block to Trader Joe's, three blocks to Whole Foods, GW School of Medicine, and GW Hospital.  Walking distance to Dupont circle, IMF, World Bank, Kennedy Center, White House, etc.\\r\\n\\r\\nOne parking spot in secure basement garage is included.  Additional spots are usually available to rent.  Roof deck with views of Georgetown, Potomac, and Virginia.  One bedroom is fully furnished, second bedroom furnished upon request.  Additional furniture is available; alternatively, existing furniture can be removed if desired.\\r\\n\\r\\nFully furnished new, high-end kitchen.  Stocked kitchen includes plates, glasses, silverware, and cooking equipment (removed upon request).  In-unit washer/dryer.  Water/trash/sewer included.  Pass-through billing for electrical and cable/internet available.  One-year lease preferred but negotiable.\\r\\n\\r\\nLocation: 2501 K St. Washington, DC 20037\\r\\nSize. 750ft2\\r\\nNo smoking\\r\\nCats ok\\r\\nRent: $2,950\n",
       "Name: ListingDescription, dtype: object"
      ]
     },
     "execution_count": 1298,
     "metadata": {},
     "output_type": "execute_result"
    }
   ],
   "source": [
    "\n",
    "english_basement[\"ListingDescription\"].head(1)"
   ]
  },
  {
   "cell_type": "markdown",
   "metadata": {},
   "source": [
    "I am going to inspect some of the ListingDescriptions from both english_basement and basement to see which one is more accurate to the needs of the challenge and the analysis."
   ]
  },
  {
   "cell_type": "code",
   "execution_count": 1288,
   "metadata": {},
   "outputs": [
    {
     "data": {
      "text/plain": [
       "1                                                                                                                                                                                                                                                                                                                                                                                                                                                                                                                                                                                                                                                                                                                                                                                                                                                                                                                                                                                                                                                                                                                                                                                                                                                                                                                                                                                                                                                                                                                                                                                                       HUGE STEAM ROOM/SAUNA!  In this open loft with amazing views, private terrace, nearly $100,000k of high-end updates:Caesarstone counter tops, Blue Cellini- style Ultra Craft cabinets, GE Profile and Bosch stainless appliances, Euro-style bath finishes, including Huge steam shower/sauna. Step down living room, Murphy bed, and flat screen TV, built-ins. On-site manager, Pet friendly, roof terrace, rental park $205/mo.  ASK ABOUT EXCITING PLANS FOR BUILDING. \n",
       "4                                                                                                                                                                                                                                                                                                                                                                                                                                                                                                                                                                                                                                                                                                                                                                                                                                                                                                                                                                                                                                                                                                                                                                                                                                                                                                                               The Westbridge is a contemporary building located in desirable West End and walking distance to Foggy Bottom METRO and GW. Building Amenities: 24 hr staffed front desk, fitness center, pool, lounging area, rooftop deck and garage parking. This 1 bedroom, 1 bathroom unit has been beautifully updated with granite counter tops in kitchen and bathroom, stainless steel appliances, hardwood floors, washer & dryer, many closets, and a balcony. parking and storage is included.\\r\\n\\r\\n1-5 Year Term Available. Application Fee: $50. Move in Fee: $400. Repair deductible: $100. Rent includes: Parking, Additional Storage Space, Trash Removal, Water and Sewer, Party Room, Recreational Facility. Tenant is responsible for Electric.\n",
       "6                                                                                                                                                                                                                                                                                                                                                                                                                                                                                                                                                                                                                                                                                                                                                                                                                                                                                                                                                                                                                                                                                                                                                                                                                                                                                                                                                                                                                                                                                                                                                                                                                                                                      Great location. This stylishly furnished one bedroom plus den  apartment is 1,140 square feet, with a master bath and powder room.There is an eat in kitchen, and the double balcony has fabulous views of Georgetown. A great place to observe the fantastic sunsets. All this at the highly sought after Westbridge . THe building has a 24 hour desk, outdoor pool and  Fitness Center. Parking available.\n",
       "7    This is a turn-key residence including everything you need to step into a hotel-like living experience.\\r\\n\\r\\nFEATURES:\\r\\n826 Sq Ft.\\r\\n1 Bedroom, 1 Bath\\r\\nDeposit (refundable): $1,500\\r\\nMove-in fee: $500\\r\\nPets: $500 (approval required)\\r\\nLaundry: Maytag Washer and Dryer installed 2 years ago\\r\\nFloor: 7th\\r\\nProperty Type: Condo\\r\\n\\r\\nWell maintained, bright and modern one bedroom feels like home. Get the convenience of centralized access to DC transit and major roadways along with the famed Georgetown living experience.\\r\\n\\r\\nUpdates within the past 3 years include newly renovated and furnished lobbies, hallways, outdoor pool, fitness center, and elevators. \\r\\n\\r\\n- All furniture shown, fully stocked kitchen and parking space are included in rent. \\r\\n- Stainless steel appliances, granite countertop and breakfast bar\\r\\n- 24hr front desk\\r\\n- Roof-deck with 360 degree views, \\r\\n- Trader Joe's, bike share, and Metrobus stop on the same block\\r\\n- Historical sites, freeway access, Foggy Bottom Metro rail within two blocks\\r\\n\\r\\nUNIT Includes:\\r\\nLiving Room\\r\\nWalk-in Closet\\r\\nMarble Tub with glass doors\\r\\nBreakfast bar\\r\\nModern Stainless steel appliances\\r\\nRefrigerator\\r\\nDishwasher\\r\\nRange / Oven\\r\\nMicrowave\\r\\nToaster Oven\\r\\nCoffee Maker\\r\\nCooking and eating utensils\\r\\nPots, pans, kettle, salt and pepper grinder\\r\\nGarbage Dispoal\\r\\nExpansive Balcony - recently re-masoned\\r\\nDual zone central A/C with Nest Smart Thermostat devices\\r\\nDouble pane / Storm windows\\r\\nHD TV w/ Cable service, Sound System, Printer, Internet Service\\r\\nHardwood Floor\\r\\nGranite Countertop \\r\\nLarge secure storage closet in parking garage\\r\\nLarge Reserved parking space can accommodate a truck\\r\\nStacked in-unit washer/dryer\\r\\nExpansive and recently re-masoned balcony\\r\\nAiry 10ft ceilings\\r\\nEast facing windows feature lots of light, view down Pennsylvania Avenue towards White House\\r\\n862 square feet of indoor living space\\r\\nPets allowed on a negotiable bas...\n",
       "8                                                                                                                                                                                                                                                                                                                                                                                                                                                                                                                                                                                                                                                                                                                                                                                                                                                                                                                                                                                                                                                                                                                                                                                             EDGE OF GEORGETOWN - The deluxe Westbridge offers chic living in the West End. Renovated 2 bedroom, 2 full bath apartment home boasting wall-to-wall glass doors in all rooms and huge balcony with breathtaking views of Georgetown and beyond! Open kitchen-dining-living area with steel backsplashes, SubZero under cabinet refrigerators & freezer.  New washer/dryer. Wood floors. Master bath offers a huge soaking tub with jets, and a separate glass enclosed shower.  Ammenities include an outdoor pool, well maintained fitness center, underground garage parking, extra storage, 24-hour front desk, and roof lounge with 360 degree panoramic views of DC. Close to buses, Metro, shopping, restaurants and landmarks. Equal Housing Opportunity.  Move-In Check Requirements: $4200 1st month's rent, $4200 security deposit, $40 application fee, $500 elevator fee.\n",
       "9                                                                                                                                                                                                                                                                                                                                                                                                                                                                                                                                                                                                                                                                                                                                                                                                                                                                                                                                                                                                                                                                                                                                                                                                                                                                                                                                                                                                                                                                                                                                                                                                                                                                                                    RARE FIND! 1BR/1B NEWLY RENOVATED CONDO ONE BLOCK TO GEORGETOWN. NEAR FOGGY BOTTOM METRO, GW UNIVERSITY/WHITE HOUSE/WORLD BANK. WONDERFUL SUN LIT ROOMS. GOURMET KITCHEN W/ NEW GRANITE, CUSTOM BACKSPLASH.SPACIOUS BEDROOM,NEWLY RENOVATED BATH W/SEPARATE VANITY, NEW CUSTOM TILING. BALCONY POOL WITH SUN DECK. FITNESS CENTER. WASHER-DRYER. STORAGE INCLUDED. SPECTACULAR!\n",
       "Name: ListingDescription, dtype: object"
      ]
     },
     "execution_count": 1288,
     "metadata": {},
     "output_type": "execute_result"
    }
   ],
   "source": [
    "pd.set_option('display.width', 1000)\n",
    "pd.set_option('display.max_colwidth', 2000)\n",
    "english_basement[\"ListingDescription\"].head(6)"
   ]
  },
  {
   "cell_type": "markdown",
   "metadata": {
    "collapsed": true
   },
   "source": [
    "___________________\n",
    "\n",
    "It looks like I can add a regular expression for basement apartment as well and then create a new dataframe that features, english basements and basement apartments.  "
   ]
  },
  {
   "cell_type": "code",
   "execution_count": 1294,
   "metadata": {},
   "outputs": [
    {
     "name": "stdout",
     "output_type": "stream",
     "text": [
      "Creating a regular expression to pull 'basement' from the ListingDescrition column yeilded 26 records\n"
     ]
    }
   ],
   "source": [
    "basement_apartment = trulia[trulia.ListingDescription.str.contains(r'(B|b).\\w+(ment)\\s(A|p).\\w+(ment)')]\n",
    "\n",
    "print (\"Creating a regular expression to pull 'basement' from the ListingDescrition column yeilded {} records\"\n",
    "       .format(basement_apartment.shape[0]))"
   ]
  },
  {
   "cell_type": "code",
   "execution_count": 1295,
   "metadata": {},
   "outputs": [
    {
     "data": {
      "text/plain": [
       "527     Open house Sunday, August 2 from 1 - 3 PM.\\r\\n\\r\\nReduced rent! $1,890 per month plus utilities. Available for move in beginning August 15th. Charming One Bedroom Renovated English Basement Apartment in the 1700 Block of Church Street, NW. Modern Kitchen with Dishwasher and Microwave. Washer-Dryer in the apartment. Separate entrances front and back. Plenty of closet space including large walk-in closet/storage room. Alcove in apt for a small office area. Ceramic tile floors throughout. Brand new Samsung washer just installed. Security bars and ADT security system.\\r\\n\\r\\nMany amenities a short walk away including: \\r\\n\\r\\n5 minutes to Dupont Circle Metro\\r\\n3 minutes to Safeway and CVS\\r\\n6 minutes to Whole Foods\\r\\n4 minutes to the JCC\\r\\n8 minutes to National Capitol YMCA\\r\\nMinutes to a vast selection of restaurants, bars, cleaners, etc on 17th Street, 14th Street, P Street and Connecticut Avenue\\r\\n30 seconds to newly renovated Keegan Theater across the street\\r\\n3 minutes to hardware store\\r\\n6 minutes to Metropole's Vida Fitness Center\\r\\n3-10 minutes to more than a half dozen yoga studios\\r\\n10-20 minutes to DC's central business district, White House and Federal Office Buildings.\\r\\n\\r\\n- Parking available at an additional charge of $190/month (right behind the house).\\r\\n- Your Lease will expire August 31, 2016.\\r\\n- Sorry, no pets and no smoking please.\\r\\n\\r\\nLease ends August 31, 2016. There will be a $25 application fee per person.\n",
       "1422                                                                                                                                                                                                                                                                                                                                                                                                                                                                                                                                                                                                                                                                                                                                                                                                                                                                                                                                                                                                                                                                                                                                                                                                                                                                                                                                                    1 BR Sunny, Modern English Basement Apartment in turn of the century row house 1-1/2 blocks to Eastern Mkt Metro.  Walking distance to work, grocery, restaurants, and more.\n",
       "1626                                                                                                                                                                                                                                                                                                                                                                                                                                                                                                                                                                                                                                                                                                                                                                                                                                                                                                                                                                                         ALL UTILITIES INCLUDED (Water Gas Electric)* Fabulous Nice & Bright 1-Bedroom/1-Bath Basement Apartment with Stone Tile Flooring ThruOut BRICK WALL ACCENTS IN LIVING ROOM Kitchen Bar APPROX 700 SQ FT Close to 3-Metro Rail Stations Washer/Dryer Gallaudet Univ Shopping Restaurants \"H\" St Corridor Trolley BUS STOP AT CORNER Close to Union Station\\r\\n**Monthly rent is $1,395 including Water/Electric/Gas\\r\\n**1 year lease minimum\\r\\n**No SMOKING\\r\\n**No PETS\\r\\nwww.davisinternationalrealestate.com\\r\\n\\r\\n12 MONTH LEASE\n",
       "1771                                                                                                                                                                                                                                                                                                                                                                                                                                                                                                                                                                                                                                                                                                                                                                                                                                                                                                                                                                                                                                                                                                                                     One bedroom, one bath, English Basement Apartment centrally located on a tree-lined street on Capitol Hill, Washington D.C.  Steps from the bustling H street corridor. On a Metro bus route and walking distance to Union Station. Washer/Dryer, Central Air, dishwasher, carpet, nearby restaurants.  No pets. No smoking please.  $1575 per month plus utilities. Available immediately.\n",
       "Name: ListingDescription, dtype: object"
      ]
     },
     "execution_count": 1295,
     "metadata": {},
     "output_type": "execute_result"
    }
   ],
   "source": [
    "basement_apartment[\"ListingDescription\"].head(4)"
   ]
  },
  {
   "cell_type": "code",
   "execution_count": 1291,
   "metadata": {
    "collapsed": true
   },
   "outputs": [],
   "source": [
    "english_basements_df = pd.concat([english_basement,basement_apartment]).drop_duplicates().reset_index(drop=True)"
   ]
  },
  {
   "cell_type": "code",
   "execution_count": 1292,
   "metadata": {},
   "outputs": [
    {
     "data": {
      "text/plain": [
       "15912"
      ]
     },
     "execution_count": 1292,
     "metadata": {},
     "output_type": "execute_result"
    }
   ],
   "source": [
    "english_basements_df.shape[0]\n"
   ]
  },
  {
   "cell_type": "markdown",
   "metadata": {
    "collapsed": true
   },
   "source": [
    "____________________\n",
    "The new dataframe that features \"basement apartments\" and \"english basements\" has 1113 records.  "
   ]
  },
  {
   "cell_type": "markdown",
   "metadata": {},
   "source": [
    "### 4. Exploratory Data Analysis \n",
    "\n",
    "In my exploratory data analysis phase, I am going to be looking at different parts of the data for the challenge (and to showcase some my skills)."
   ]
  },
  {
   "cell_type": "code",
   "execution_count": 1275,
   "metadata": {},
   "outputs": [
    {
     "name": "stdout",
     "output_type": "stream",
     "text": [
      "<class 'pandas.core.frame.DataFrame'>\n",
      "Int64Index: 29224 entries, 0 to 30960\n",
      "Data columns (total 15 columns):\n",
      "PropertyID               29224 non-null int64\n",
      "ListingDate              29224 non-null object\n",
      "Latitude                 29224 non-null int64\n",
      "Longitude                29224 non-null int64\n",
      "ZipCode                  29224 non-null int64\n",
      "CityName                 29224 non-null object\n",
      "CountyName               29224 non-null object\n",
      "StateName                29224 non-null object\n",
      "CountyListingCoverage    29224 non-null object\n",
      "LeasePriceDollarCnt      29224 non-null float64\n",
      "LeaseTermMonths          29224 non-null int64\n",
      "FinishedSquareFeet       29224 non-null int64\n",
      "Bedrooms                 29224 non-null float64\n",
      "Bathrooms                29224 non-null float64\n",
      "ListingDescription       29224 non-null object\n",
      "dtypes: float64(3), int64(6), object(6)\n",
      "memory usage: 3.6+ MB\n"
     ]
    }
   ],
   "source": [
    "trulia.info()"
   ]
  },
  {
   "cell_type": "code",
   "execution_count": 1276,
   "metadata": {},
   "outputs": [
    {
     "data": {
      "text/plain": [
       "Text(0.5,1,'Correlation')"
      ]
     },
     "execution_count": 1276,
     "metadata": {},
     "output_type": "execute_result"
    },
    {
     "data": {
      "image/png": "[encoded data removed]",
      "text/plain": [
       "<matplotlib.figure.Figure at 0x1a2c27ac88>"
      ]
     },
     "metadata": {},
     "output_type": "display_data"
    }
   ],
   "source": [
    "#I am going to drop all the object columns to see the correlation between different parts of the data set \n",
    "\n",
    "trulia_correlation = trulia.filter([\"Latitude\", \"Longitutde\", \"ZipCode\",\\\n",
    "                      \"LeasePriceDollarCnt\", \"LeaseTermMonths\", \\\n",
    "                      \"FinishedSquareFeet\", \"Bedrooms\", \"Bathrooms\"])\n",
    "\n",
    "plt.figure(figsize = (19, 8))\n",
    "sns.heatmap(trulia_correlation.corr(), cmap=\"Purples\", annot=True).set_title(\"Correlation\")\n",
    "\n"
   ]
  },
  {
   "cell_type": "markdown",
   "metadata": {},
   "source": [
    "By looking at the coorelation matrix I can see that Bathrooms, Bedrooms and FinishedSquareFeet are correlated.  \n",
    "\n",
    "I can also see that LeasePriceDollarCnt only mildly is correlated to Bathrooms, Bedrooms and FinishedSquareFeet. \n"
   ]
  },
  {
   "cell_type": "code",
   "execution_count": 1277,
   "metadata": {},
   "outputs": [
    {
     "name": "stdout",
     "output_type": "stream",
     "text": [
      "The average amount of Bathrooms is 2.16\n",
      "\n",
      "The average amount of Bedrooms is 2.57\n",
      "\n",
      "The average square feet of properties is 1456.52 sq ft\n",
      "\n",
      "The price expected to pay for lease per rental per month is $2266.87\n"
     ]
    }
   ],
   "source": [
    "average_bathrooms = round(trulia.Bathrooms.mean(),2)\n",
    "average_bedrooms = round(trulia.Bedrooms.mean(),2)\n",
    "average_sq_ft = round(trulia.FinishedSquareFeet.mean(),2)\n",
    "average_lease = round(trulia.LeasePriceDollarCnt.mean(), 2)\n",
    "\n",
    "print (\"The average amount of Bathrooms is {}\".format(average_bathrooms))\n",
    "print()\n",
    "print (\"The average amount of Bedrooms is {}\".format(average_bedrooms))\n",
    "print()\n",
    "print (\"The average square feet of properties is {} sq ft\".format(average_sq_ft))\n",
    "print()\n",
    "print (\"The price expected to pay for lease per rental per month is ${}\".format(average_lease))"
   ]
  },
  {
   "cell_type": "code",
   "execution_count": 1278,
   "metadata": {},
   "outputs": [
    {
     "data": {
      "image/png": "[encoded data removed]",
      "text/plain": [
       "<matplotlib.figure.Figure at 0x1a30e31588>"
      ]
     },
     "metadata": {},
     "output_type": "display_data"
    }
   ],
   "source": [
    "\n",
    "with sns.axes_style('white'):\n",
    "    sns.jointplot(x = \"Bedrooms\", y = \"Bathrooms\", data = trulia, kind='reg')"
   ]
  },
  {
   "cell_type": "markdown",
   "metadata": {},
   "source": [
    "There is an obvious relationship between Bedrooms and Bathrooms.  Having worked with a few housing datasets, I know that\n",
    "occasionally this can be seen a multicollinearity problem.  That is to say that these two features or variables are highly correlated. \n",
    "When conducting regression, you want to be very careful about having these types of features in the same model."
   ]
  },
  {
   "cell_type": "code",
   "execution_count": 1279,
   "metadata": {},
   "outputs": [
    {
     "data": {
      "image/png": "[encoded data removed]",
      "text/plain": [
       "<matplotlib.figure.Figure at 0x1a339b87b8>"
      ]
     },
     "metadata": {},
     "output_type": "display_data"
    }
   ],
   "source": [
    "\n",
    "with sns.axes_style('white'):\n",
    "    sns.jointplot(x = \"LeasePriceDollarCnt\", y = \"Bedrooms\", data = trulia, kind='reg')"
   ]
  },
  {
   "cell_type": "code",
   "execution_count": 1280,
   "metadata": {},
   "outputs": [
    {
     "data": {
      "image/png": "[encoded data removed]",
      "text/plain": [
       "<matplotlib.figure.Figure at 0x1a331a0630>"
      ]
     },
     "metadata": {},
     "output_type": "display_data"
    }
   ],
   "source": [
    "with sns.axes_style('white'):\n",
    "    sns.jointplot(x = \"FinishedSquareFeet\", y = \"Bedrooms\", data = trulia, kind='reg')"
   ]
  },
  {
   "cell_type": "markdown",
   "metadata": {},
   "source": [
    "\n",
    "______________\n",
    "\n",
    "It's some times helpful to look at the distribution of data to get a better understanding of the data. \n",
    "\n",
    "I'd like to see Lease price in particular "
   ]
  },
  {
   "cell_type": "code",
   "execution_count": 1281,
   "metadata": {},
   "outputs": [
    {
     "data": {
      "text/plain": [
       "<matplotlib.figure.Figure at 0x1a353d9f28>"
      ]
     },
     "metadata": {},
     "output_type": "display_data"
    },
    {
     "data": {
      "image/png": "[encoded data removed]",
      "text/plain": [
       "<matplotlib.figure.Figure at 0x1a342cf160>"
      ]
     },
     "metadata": {},
     "output_type": "display_data"
    }
   ],
   "source": [
    "sns.set(style=\"ticks\")\n",
    "\n",
    "plt.figure(figsize = (19, 8))\n",
    "f, (ax_box, ax_hist) = plt.subplots(2, sharex=True, gridspec_kw={\"height_ratios\": (.3, .5)})\n",
    " \n",
    "\n",
    "sns.boxplot(trulia[\"LeasePriceDollarCnt\"], ax=ax_box);\n",
    "sns.distplot(trulia[\"LeasePriceDollarCnt\"], ax=ax_hist);\n",
    " \n",
    "\n",
    "ax_box.set(xlabel='Lease Price');\n"
   ]
  },
  {
   "cell_type": "markdown",
   "metadata": {},
   "source": [
    "As seen above there is 1 rental in particular that is really skewing the data.  While. it' sa good idea to keep data in your dataset, this record will ultimately skew my final answer.\n",
    "\n",
    "I am going to drop the property listed for ~$10,000.  "
   ]
  },
  {
   "cell_type": "code",
   "execution_count": 1284,
   "metadata": {},
   "outputs": [
    {
     "data": {
      "text/html": [
       "<div>\n",
       "<style scoped>\n",
       "    .dataframe tbody tr th:only-of-type {\n",
       "        vertical-align: middle;\n",
       "    }\n",
       "\n",
       "    .dataframe tbody tr th {\n",
       "        vertical-align: top;\n",
       "    }\n",
       "\n",
       "    .dataframe thead th {\n",
       "        text-align: right;\n",
       "    }\n",
       "</style>\n",
       "<table border=\"1\" class=\"dataframe\">\n",
       "  <thead>\n",
       "    <tr style=\"text-align: right;\">\n",
       "      <th></th>\n",
       "      <th>PropertyID</th>\n",
       "      <th>ListingDate</th>\n",
       "      <th>Latitude</th>\n",
       "      <th>Longitude</th>\n",
       "      <th>ZipCode</th>\n",
       "      <th>CityName</th>\n",
       "      <th>CountyName</th>\n",
       "      <th>StateName</th>\n",
       "      <th>CountyListingCoverage</th>\n",
       "      <th>LeasePriceDollarCnt</th>\n",
       "      <th>LeaseTermMonths</th>\n",
       "      <th>FinishedSquareFeet</th>\n",
       "      <th>Bedrooms</th>\n",
       "      <th>Bathrooms</th>\n",
       "      <th>ListingDescription</th>\n",
       "    </tr>\n",
       "  </thead>\n",
       "  <tbody>\n",
       "    <tr>\n",
       "      <th>777</th>\n",
       "      <td>401983</td>\n",
       "      <td>10/9/15</td>\n",
       "      <td>38914640</td>\n",
       "      <td>-77033515</td>\n",
       "      <td>20009</td>\n",
       "      <td>Washington</td>\n",
       "      <td>District of Columbia</td>\n",
       "      <td>DC</td>\n",
       "      <td>0.89</td>\n",
       "      <td>10000.0</td>\n",
       "      <td>12</td>\n",
       "      <td>2200</td>\n",
       "      <td>3.0</td>\n",
       "      <td>4.0</td>\n",
       "      <td>1430 Swann Street- This is, without exaggeration, one of the loveliest blocks in Logan Circle.\\r\\n\\r\\nThis is a legal two unit property with Certificate of Occupancy (CO) for both units.\\r\\n\\r\\nThe lower unit is a legal one bath / one bedroom English Basement.  It is separately metered and features all new appliances, including washer &amp; dryer, hardwood floors throughout, plantation shutters and a new HVAC unit.  It has plenty of closet and storage space, a front and back door, and plenty of natural light.  \\r\\n\\r\\nThe upper two floors of the house is the main unit.  \\r\\n\\r\\nThe first floor of the house has an open floor plan design.   Spacious dining room, living room fireplace, kitchen and ½ bath.  Off the kitchen in the back is a private deck and parking space for one car.\\r\\n\\r\\nThe second floor has two nice size bedrooms each with their own private bath, a laundry room and attic stars to access plenty of attic storage.\\r\\n\\r\\n\\r\\n\\r\\n</td>\n",
       "    </tr>\n",
       "    <tr>\n",
       "      <th>780</th>\n",
       "      <td>401983</td>\n",
       "      <td>9/10/15</td>\n",
       "      <td>38914640</td>\n",
       "      <td>-77033515</td>\n",
       "      <td>20009</td>\n",
       "      <td>Washington</td>\n",
       "      <td>District of Columbia</td>\n",
       "      <td>DC</td>\n",
       "      <td>0.89</td>\n",
       "      <td>10000.0</td>\n",
       "      <td>12</td>\n",
       "      <td>2200</td>\n",
       "      <td>3.0</td>\n",
       "      <td>4.0</td>\n",
       "      <td>1430 Swann Street- This is, without exaggeration, one of the loveliest blocks in Logan Circle.\\r\\n\\r\\nThis is a legal two unit property with Certificate of Occupancy (CO) for both units.\\r\\n\\r\\nThe lower unit is a legal one bath / one bedroom English Basement.  It is separately metered and features all new appliances, including washer &amp; dryer, hardwood floors throughout, plantation shutters and a new HVAC unit.  It has plenty of closet and storage space, a front and back door, and plenty of natural light.  \\r\\n\\r\\nThe upper two floors of the house is the main unit.  \\r\\n\\r\\nThe first floor of the house has an open floor plan design.   Spacious dining room, living room fireplace, kitchen and ½ bath.  Off the kitchen in the back is a private deck and parking space for one car.\\r\\n\\r\\nThe second floor has two nice size bedrooms each with their own private bath, a laundry room and attic stars to access plenty of attic storage.\\r\\n\\r\\n\\r\\n\\r\\n</td>\n",
       "    </tr>\n",
       "    <tr>\n",
       "      <th>1665</th>\n",
       "      <td>417884</td>\n",
       "      <td>5/29/15</td>\n",
       "      <td>38890764</td>\n",
       "      <td>-76991851</td>\n",
       "      <td>20002</td>\n",
       "      <td>Washington</td>\n",
       "      <td>District of Columbia</td>\n",
       "      <td>DC</td>\n",
       "      <td>0.89</td>\n",
       "      <td>10000.0</td>\n",
       "      <td>12</td>\n",
       "      <td>767</td>\n",
       "      <td>2.0</td>\n",
       "      <td>1.0</td>\n",
       "      <td>Nestled less than a block from Lincoln park and the tree lined section of Massachusetts Ave.  Recently Renovated English basement with open floor plan of kitchen off of living space.  Two separated bedrooms and 1 bathroom.  Dishwasher, washer/ dryer, fridge, and stove.  Private little patio space off the back.  Only a few blocks from Eastern Market Metro, Available Immediately, Pets Welcome with One time Non-refundable fee.</td>\n",
       "    </tr>\n",
       "    <tr>\n",
       "      <th>1822</th>\n",
       "      <td>419865</td>\n",
       "      <td>1/14/16</td>\n",
       "      <td>38886558</td>\n",
       "      <td>-76989879</td>\n",
       "      <td>20003</td>\n",
       "      <td>Washington</td>\n",
       "      <td>District of Columbia</td>\n",
       "      <td>DC</td>\n",
       "      <td>0.89</td>\n",
       "      <td>10000.0</td>\n",
       "      <td>12</td>\n",
       "      <td>2100</td>\n",
       "      <td>3.0</td>\n",
       "      <td>2.5</td>\n",
       "      <td>FAQ: \\r\\n\\r\\nQ: Is the English basement a part of the rental?\\r\\nA: No. It is an entirely separate apartment that is currently rented. Can't seem to delete the pictures. Ok...fun stuff below. \\r\\n\\r\\nAwesome row home in Capitol Hill. Minutes from Lincoln Park, Eastern Market and Barracks Row. 5-8 min walk to Eastern Market Metro. Spacious (for DC) backyard w/ car port and storage shed. Across the street from a convenience store. The neighborhood is full of families, kids, and dogs. This charming home is also part of DC's historical society! Its exposed brick and original features make you feel like part of history. \\r\\n\\r\\nCouldn't ask for a more perfect location, able to travel anywhere in the city via metro, bike, or walking! Its the perfect place to be if you work on the Hill or in downtown DC, want to live close but feel like you are in a neighborhood and not a high-rise city building. Commute to work via bike!\\r\\n\\r\\nThe first floor of the home has a large living room, kitchen with stainless steel appliances, den with vaulted ceilings, bathroom, and brick wood burning fireplace. The top floor has three bedrooms, 2 full bathrooms, washer, and dryer. The oversized master suite easily fits a king size bed, several dressers, and sitting chairs (rare to find such a large master in DC).  The vaulted ceilings, jetted bathtub, tall windows, and skylight are upgraded, great amenities.  Ally access in the rear of the home.\\r\\n\\r\\nFAQ: \\r\\n\\r\\nQ: Is the English basement a part of the rental?\\r\\nA: No. It is an entirely separate apartment that is currently rented.\\r\\n\\r\\nAt least 1 year lease.</td>\n",
       "    </tr>\n",
       "    <tr>\n",
       "      <th>1823</th>\n",
       "      <td>419865</td>\n",
       "      <td>1/24/16</td>\n",
       "      <td>38886558</td>\n",
       "      <td>-76989879</td>\n",
       "      <td>20003</td>\n",
       "      <td>Washington</td>\n",
       "      <td>District of Columbia</td>\n",
       "      <td>DC</td>\n",
       "      <td>0.89</td>\n",
       "      <td>10000.0</td>\n",
       "      <td>12</td>\n",
       "      <td>2100</td>\n",
       "      <td>3.0</td>\n",
       "      <td>2.5</td>\n",
       "      <td>FAQ: \\r\\n\\r\\nQ: Is the English basement a part of the rental?\\r\\nA: No. It is an entirely separate apartment that is currently rented. Can't seem to delete the pictures. Ok...fun stuff below. \\r\\n\\r\\nAwesome row home in Capitol Hill. Minutes from Lincoln Park, Eastern Market and Barracks Row. 5-8 min walk to Eastern Market Metro. Spacious (for DC) backyard w/ car port and storage shed. Across the street from a convenience store. The neighborhood is full of families, kids, and dogs. This charming home is also part of DC's historical society! Its exposed brick and original features make you feel like part of history. \\r\\n\\r\\nCouldn't ask for a more perfect location, able to travel anywhere in the city via metro, bike, or walking! Its the perfect place to be if you work on the Hill or in downtown DC, want to live close but feel like you are in a neighborhood and not a high-rise city building. Commute to work via bike!\\r\\n\\r\\nThe first floor of the home has a large living room, kitchen with stainless steel appliances, den with vaulted ceilings, bathroom, and brick wood burning fireplace. The top floor has three bedrooms, 2 full bathrooms, washer, and dryer. The oversized master suite easily fits a king size bed, several dressers, and sitting chairs (rare to find such a large master in DC).  The vaulted ceilings, jetted bathtub, tall windows, and skylight are upgraded, great amenities.  Ally access in the rear of the home.\\r\\n\\r\\nFAQ: \\r\\n\\r\\nQ: Is the English basement a part of the rental?\\r\\nA: No. It is an entirely separate apartment that is currently rented.\\r\\n\\r\\nAt least 1 year lease.</td>\n",
       "    </tr>\n",
       "    <tr>\n",
       "      <th>2188</th>\n",
       "      <td>426254</td>\n",
       "      <td>12/9/15</td>\n",
       "      <td>38907327</td>\n",
       "      <td>-77069290</td>\n",
       "      <td>20007</td>\n",
       "      <td>Washington</td>\n",
       "      <td>District of Columbia</td>\n",
       "      <td>DC</td>\n",
       "      <td>0.89</td>\n",
       "      <td>10000.0</td>\n",
       "      <td>12</td>\n",
       "      <td>2238</td>\n",
       "      <td>1.0</td>\n",
       "      <td>1.0</td>\n",
       "      <td>Great English basement 2 blocks from Campus. 4 doors from Saxby's Coffee Shop. Available for spring semester 2017 thru end of May 2017. Also available for June 1st 2017- May 20th 2018. Washer Dryer in unit. Front and rear entrance. 1 car pa</td>\n",
       "    </tr>\n",
       "    <tr>\n",
       "      <th>2303</th>\n",
       "      <td>427956</td>\n",
       "      <td>7/29/15</td>\n",
       "      <td>38910552</td>\n",
       "      <td>-77065665</td>\n",
       "      <td>20007</td>\n",
       "      <td>Washington</td>\n",
       "      <td>District of Columbia</td>\n",
       "      <td>DC</td>\n",
       "      <td>0.89</td>\n",
       "      <td>10000.0</td>\n",
       "      <td>12</td>\n",
       "      <td>1851</td>\n",
       "      <td>5.0</td>\n",
       "      <td>3.0</td>\n",
       "      <td>Fantastic Georgetown location &amp; opportunity! 5BR/3BA Victorian rowhouse w/ a rarely available private English Basement apartment entirely separate from the upper 2 levels! Upper house has hardwood floors throughout, wood stove, builtins, main level bedroom &amp; bath &amp; rear patio. Top level has 3BR/1BA. Lower level has 1BR/1BA w/ separate exterior entrance. 1 block to Metro access! TOPA clear, too!</td>\n",
       "    </tr>\n",
       "    <tr>\n",
       "      <th>2350</th>\n",
       "      <td>428513</td>\n",
       "      <td>3/13/16</td>\n",
       "      <td>38910631</td>\n",
       "      <td>-77060186</td>\n",
       "      <td>20007</td>\n",
       "      <td>Washington</td>\n",
       "      <td>District of Columbia</td>\n",
       "      <td>DC</td>\n",
       "      <td>0.89</td>\n",
       "      <td>10000.0</td>\n",
       "      <td>12</td>\n",
       "      <td>1000</td>\n",
       "      <td>2.0</td>\n",
       "      <td>1.5</td>\n",
       "      <td>Located in the heart of Georgetown's East Village, steps from Rock Creek Park, Dumbarton \\r\\nOaks, great restaurants, shops and art galleries, this is truly in the heart of Georgetown. Buses stop across the street to take you downtown, to Capitol Hill and Friendship Heights.\\r\\nGracious detached brownstone built in 1907 as a single family residence, subsequently converted to condos ? one on each of the three floors and two English basement units. \\r\\n\\r\\nThis two bedroom, 1-1/2 bath 1st floor apartment feels and lives like a house:\\r\\n\\r\\n10 foot ceilings\\r\\nOriginal hardwood floors\\r\\nCrown molding\\r\\nBuilt-in bookshelves and television cabinet in living room\\r\\nIndirect lighting\\r\\n Lots of windows and natural light\\r\\nThree sets of French doors\\r\\nAssigned parking\\r\\nRecently renovated kitchen and bathrooms\\r\\nBosch dishwasher\\r\\nWasher/dryer in unit\\r\\nTwo (non-working) fireplaces\\r\\nRemarkably generous closet space including walk-in closet and storage room\\r\\nCentral air conditioning\\r\\nPrivate deck and brick patio with landscaped stone planter along the perimeter\\r\\nGardener \\r\\nAssigned parking\\r\\n\\r\\nRents unfurnished\\r\\n\\r\\nRents unfurnished\\r\\n\\r\\nAbsolutely no smoking\\r\\n\\r\\nAvailable April 1st\\r\\n$4,400 monthly rent  \\r\\n1 year minimum lease \\r\\nApplication fee of $35\\r\\nReferences and Credit Report required \\r\\nDeposit: 1 months rent\\r\\nTenant pays electricity, cable, internet</td>\n",
       "    </tr>\n",
       "    <tr>\n",
       "      <th>3657</th>\n",
       "      <td>464811</td>\n",
       "      <td>10/3/15</td>\n",
       "      <td>38924609</td>\n",
       "      <td>-77034896</td>\n",
       "      <td>20009</td>\n",
       "      <td>Washington</td>\n",
       "      <td>District of Columbia</td>\n",
       "      <td>DC</td>\n",
       "      <td>0.89</td>\n",
       "      <td>10000.0</td>\n",
       "      <td>12</td>\n",
       "      <td>1800</td>\n",
       "      <td>3.0</td>\n",
       "      <td>2.5</td>\n",
       "      <td>We are heading overseas for work and leaving behind our entirely custom, recently renovated townhouse - available November 1 for you to rent! The home is 2 large bedrooms plus an office. It will be unfurnished - we are moving out this month, and the entire home will be move-in ready by November 1. Main features:\\r\\n\\r\\n- 3 stories, with 3d story sunny master bedroom / bath / giant walk-in closet / rooftop deck\\r\\n- Two full baths with glass &amp; porcelain tiles / marble / Restoration Hardware fixtures\\r\\n- Tons and tons of storage, including a laundry room with HE washer and dryer, bike mount, shelving, and utility sink\\r\\n- Large office with wall-to-wall Norwegian style shelving and a built-in red cedar desk\\r\\n- Gourmet kitchen, with stainless steel appliances, double oven, 5-burner stovetop, lots of cabinet space, woodblock kitchen island, copper-top bar, hanging pot rack, and porcelain tiling\\r\\n- Comfy living/dining room with bay window, coat nook, and half bath with farm-style sink\\r\\n- Back porch with patio and grill (shared with tenants in separate English Basement) and some outdoor storage\\r\\n- Sustainable bamboo flooring and stairs throughout\\r\\n- Two parking spaces in back\\r\\n- Will leave all window treatments at tenants' request\\r\\n- Minutes from Meridian Hill Park, 4 blocks to Columbia Heights metro, 7 minute walk to 14th Street, U Street, Adams Morgan, yet a quiet spot off the main roads\\r\\n\\r\\nA bit of background: We completely remodeled our home a few years ago, and have customized it for classy, comfortable living. It's heartbreaking to leave DC, and especially this home. Please email us with any questions or to set up a time to view the home. We have more pictures and a floorplan available as well. The home will be managed by a local company that caters to individual homes and has 24-hour maintenance assistance.\\r\\n\\r\\nPets considered. Absolutely no smoking. Preference given to 2-year leases. Application fee of $40, which covers costs of backgroun...</td>\n",
       "    </tr>\n",
       "    <tr>\n",
       "      <th>3658</th>\n",
       "      <td>464811</td>\n",
       "      <td>10/3/15</td>\n",
       "      <td>38924609</td>\n",
       "      <td>-77034896</td>\n",
       "      <td>20009</td>\n",
       "      <td>Washington</td>\n",
       "      <td>District of Columbia</td>\n",
       "      <td>DC</td>\n",
       "      <td>0.89</td>\n",
       "      <td>10000.0</td>\n",
       "      <td>12</td>\n",
       "      <td>1800</td>\n",
       "      <td>3.0</td>\n",
       "      <td>2.5</td>\n",
       "      <td>SHOWING NOV. 2-5. Available December 1, beautiful, entirely custom and recently renovated townhome in a quiet Columbia Heights neighborhood. The home is 2 large bedrooms plus an extra bedroom or office. Main features:\\r\\n\\r\\n- 3 stories, with third-story sunny master bedroom / jacuzzi bath / giant walk-in closet / rooftop deck\\r\\n- Two full baths with glass &amp; porcelain tiles / marble / Restoration Hardware fixtures\\r\\n- Tons and tons of storage, including a laundry room with HE washer and dryer, bike mount, shelving, and utility sink\\r\\n- Large office/extra bedroom with wall-to-wall Norwegian style shelving and a built-in red cedar desk\\r\\n- Gourmet kitchen, with stainless steel appliances, double oven, 5-burner stovetop, lots of cabinet space, woodblock kitchen island, copper-top bar, hanging pot rack, and porcelain tiling\\r\\n- Comfy living/dining room with bay window, coat nook, and half bath with farm-style sink\\r\\n- Back porch with patio and grill (shared with tenants in separate English Basement) and some outdoor storage\\r\\n- Sustainable bamboo flooring and stairs throughout\\r\\n- Two parking spaces in back\\r\\n- Minutes from Meridian Hill Park, 4 blocks to Columbia Heights metro, 7 minute walk to 14th Street, U Street, Adams Morgan, Trader Joe's, yet a quiet spot off the main roads\\r\\n\\r\\nA bit of background: We completely remodeled our home a few years ago, and have customized it for classy, comfortable living. We loved the home, and were sad to leave for an overseas post. Please email us with any questions or to set up a time to view the home. We have more pictures and a floorplan available as well. The home is managed by a fantastic local company that caters to individual homes and has 24-hour maintenance assistance.\\r\\n\\r\\nPets considered with pet fee. Absolutely no smoking. Preference given to tenants who intend to stay long term. Application fee of $50, which covers costs of background check. Water/gas/electric separate. One month security deposit and ...</td>\n",
       "    </tr>\n",
       "    <tr>\n",
       "      <th>3659</th>\n",
       "      <td>464811</td>\n",
       "      <td>10/3/15</td>\n",
       "      <td>38924609</td>\n",
       "      <td>-77034896</td>\n",
       "      <td>20009</td>\n",
       "      <td>Washington</td>\n",
       "      <td>District of Columbia</td>\n",
       "      <td>DC</td>\n",
       "      <td>0.89</td>\n",
       "      <td>10000.0</td>\n",
       "      <td>12</td>\n",
       "      <td>1800</td>\n",
       "      <td>3.0</td>\n",
       "      <td>2.5</td>\n",
       "      <td>SHOWING NOV. 2-5. Available December 1, beautiful, entirely custom and recently renovated townhome in a quiet Columbia Heights neighborhood. The home is 2 large bedrooms plus an extra bedroom or office. Main features:\\r\\n\\r\\n- 3 stories, with third-story sunny master bedroom / jacuzzi bath / giant walk-in closet / rooftop deck\\r\\n- Two full baths with glass &amp; porcelain tiles / marble / Restoration Hardware fixtures\\r\\n- Tons and tons of storage, including a laundry room with HE washer and dryer, bike mount, shelving, and utility sink\\r\\n- Large office/extra bedroom with wall-to-wall Norwegian style shelving and a built-in red cedar desk\\r\\n- Gourmet kitchen, with stainless steel appliances, double oven, 5-burner stovetop, lots of cabinet space, concrete countertop, woodblock kitchen island, copper-top bar, hanging pot rack, and porcelain tiling\\r\\n- Comfy living/dining room with bay window, coat nook, and half bath with farm-style sink\\r\\n- Back porch with patio and grill (shared with tenants in separate English Basement) and some outdoor storage\\r\\n- Sustainable bamboo flooring and stairs throughout\\r\\n- Two parking spaces in back\\r\\n- Minutes from Meridian Hill Park, 4 blocks to Columbia Heights metro, 7 minute walk to 14th Street, U Street, Adams Morgan, Trader Joe's, yet a quiet spot off the main roads\\r\\n- ADT security included\\r\\n\\r\\nA bit of background: We completely remodeled our home a few years ago, and have customized it for classy, comfortable living. We loved the home, and were sad to leave for an overseas post. Please email us with any questions or to set up a time to view the home. We have more pictures and a floorplan available as well. The home is managed by a fantastic local company that caters to individual homes and has 24-hour maintenance assistance.\\r\\n\\r\\nPets considered with pet fee. Absolutely no smoking. Preference given to tenants who intend to stay long term. Application fee of $50, which covers costs of background check. Water/gas/el...</td>\n",
       "    </tr>\n",
       "    <tr>\n",
       "      <th>3715</th>\n",
       "      <td>466329</td>\n",
       "      <td>2/29/16</td>\n",
       "      <td>38956752</td>\n",
       "      <td>-77033828</td>\n",
       "      <td>20011</td>\n",
       "      <td>Washington</td>\n",
       "      <td>District of Columbia</td>\n",
       "      <td>DC</td>\n",
       "      <td>0.89</td>\n",
       "      <td>10000.0</td>\n",
       "      <td>12</td>\n",
       "      <td>1300</td>\n",
       "      <td>2.0</td>\n",
       "      <td>1.0</td>\n",
       "      <td>BEAUTIFUL, RENOVATED 2 bedroom, 1-bath English basement.  ALL utilities included! Stainless steel appliances, tile floors in the kitchen and bathroom with an open floor plan.  \\r\\n  \\r\\nLocated in 16th Street Heights, on upper 14th Street NW.  Close to Columbia Heights, U Street, and all of the new development on the 14th Street corridor, but with all the amenities of a safe, quiet neighborhood setting.  Steps to Rock Creek Park and only a short bus/bike ride to Columbia Heights, Red Derby, Lyman's Tavern.  Not far from Georgia Petworth, Tacoma, and Silver Spring.  Multiple bus lines just outside your door or less than a block away.  Be in Dupont Circle or downtown in 20 minutes, Columbia Heights in 10 minutes.  Ample street parking. \\r\\n\\r\\nBoth bedrooms large enough to accommodate a double or queen bed.  Substantial amount of closet space in both bedrooms, including a walk-in closet.  Washer/dryer is in separate utility room, which has additional storage space.  Unit walks out onto a quiet yard.  \\r\\n\\r\\nMore pictures available on request.   Showings arranged by email or phone.\\r\\n\\r\\nTHE APARTMENT\\r\\n* 2 large bedrooms, 1 bath.\\r\\n* Utilities (water, gas, electric) included.\\r\\n* Light-filled: windows in both bedrooms.\\r\\n* New kitchen with maple cabinets and stainless steel appliances, dishwasher, electric range &amp; garbage disposal.\\r\\n* Granite countertops.\\r\\n* Ample closet space.\\r\\n* Front loading washer/dryer in unit.\\r\\n* Central air &amp; heat.\\r\\n* Plenty of on-street, zoned parking available.  \\r\\n* Cable/internet ready.\\r\\n\\r\\nIDEAL LOCATION\\r\\n* CLOSE TO PUBLIC TRANSPORTATION - 6 bus lines in front of the house or less than a block away\\r\\n*20 minute bus/bike ride to U Street, Dupont Circle\\r\\n*10 minute bus/bike ride to Columbia Heights \\r\\n*10 minute drive to Silver Spring\\r\\n\\r\\nINTERESTED?\\r\\n* Available July 1. \\r\\n* One year minimum lease.\\r\\n* Security deposit plus first month's rent.\\r\\n* Credit check and references requested.\\r\\n* Email to arr...</td>\n",
       "    </tr>\n",
       "    <tr>\n",
       "      <th>3781</th>\n",
       "      <td>469269</td>\n",
       "      <td>5/12/16</td>\n",
       "      <td>38939445</td>\n",
       "      <td>-77031363</td>\n",
       "      <td>20011</td>\n",
       "      <td>Washington</td>\n",
       "      <td>District of Columbia</td>\n",
       "      <td>DC</td>\n",
       "      <td>0.89</td>\n",
       "      <td>10000.0</td>\n",
       "      <td>12</td>\n",
       "      <td>1578</td>\n",
       "      <td>4.0</td>\n",
       "      <td>3.5</td>\n",
       "      <td>Looking for responsible, self sufficient, and community minded renters for lovely Petworth DC rowhouse. Tree lined street with friendly and helpful neighbors all around.3 bedrooms and 2.5 bathrooms on the first 2 floors and a 1 bedroom apartment with kitchen in the english basement.Large living room and dining room; bright kitchen leading out to walk-out back deck Dual-zone central air conditioning ensures more efficiency and comfort. Natural gas heat.2 parking spaces behind the house, with alley access. Additional 2 sheds for bikes, etc. Attic for storage.Partially furnished with large dining table and chairs, china cabinets, drawers in common areas.Front garden is a low maintenance, established perennial flower gardenSolar panels on roof keep utility costs lower than comparable homes.1 minute walk to 14th st. bus routes - 5 minute bus ride to Columbia Heights Metro, or ride all the way downtown.3 minute walk to many new &amp; popular restaurants and bars on 14th St. - Little Coco's, Habanero's, Mezcalero's, Red Derby, etc...10 minute walk to the Upshur neighborhood. Petworth Library, Yes Organic Market, Safeway, Yoga Heights Yoga Studio, Upshur Street Books, Ruta Del Vino wine bar, Timber Pizza, and many more restaurants.Easy access to Rock Creek Park for running and biking.</td>\n",
       "    </tr>\n",
       "    <tr>\n",
       "      <th>4301</th>\n",
       "      <td>487594</td>\n",
       "      <td>5/4/16</td>\n",
       "      <td>38914592</td>\n",
       "      <td>-77008655</td>\n",
       "      <td>20002</td>\n",
       "      <td>Washington</td>\n",
       "      <td>District of Columbia</td>\n",
       "      <td>DC</td>\n",
       "      <td>0.89</td>\n",
       "      <td>10000.0</td>\n",
       "      <td>12</td>\n",
       "      <td>2233</td>\n",
       "      <td>3.0</td>\n",
       "      <td>2.5</td>\n",
       "      <td>Stately Victorian in highly sought after Eckington area.  Three floors total plus basement unit.  Main floor has full dining room and living room, laundry room, and kitchen.  Second floor has 3 Bed Rooms and 2 full baths.  Lots of character and high ceilings.  House includes many original details and expert craftsmanship, including: high ceilings, 12' pocket doors, new hardwood floors throughout.   Granite counters and stainless steel appliances.   Private stairwell from kitchen to 2nd level. Beautiful private deck &amp; patio on 1st and 2d floors.  The third floor sports an entertainment center, home office and guest bed.  \\r\\n\\r\\nNewly renovated 2br/1ba English Basement with Certificate of Occupancy.</td>\n",
       "    </tr>\n",
       "    <tr>\n",
       "      <th>4302</th>\n",
       "      <td>487594</td>\n",
       "      <td>5/4/16</td>\n",
       "      <td>38914592</td>\n",
       "      <td>-77008655</td>\n",
       "      <td>20002</td>\n",
       "      <td>Washington</td>\n",
       "      <td>District of Columbia</td>\n",
       "      <td>DC</td>\n",
       "      <td>0.89</td>\n",
       "      <td>10000.0</td>\n",
       "      <td>12</td>\n",
       "      <td>2233</td>\n",
       "      <td>3.0</td>\n",
       "      <td>2.5</td>\n",
       "      <td>Live in three beautiful levels of a grande dame of row houses built in 1900 along the North Capitol Street corridor complete with restored chestnut staircase and fireplace, plaster arch cornices, 10-foot pocket door, plus original rear 2nd stairwell.  Lovingly gut-renovated in 2016 with brand new marble bathrooms, custom bath fixtures, cabinetry, boutique lighting and exposed natural brick.  Deep and spacious with 2300 sq foot over three levels, the house has the main living area, dining room, half-bath, and kitchen on the first floor, 3 bedrooms and 2 full bathrooms on the second floor with a bonus 4th bedroom/office/playroom on the 3rd floor attic with a skylight.  The master suite has two brand new large closets, double vanity, and large marble shower.  Outside, there is an enclosed backyard with large tool shed and pedestrian access to the alley.  We are moving overseas and will have the house ready for you by Sat August 26 (no sooner - sorry we need it until then!). Fun fact: the house is in the opening shot of House of Cards!\\r\\n\\r\\nRENT INCLUDES WATER AND MONTHLY CLEANING.\\r\\n\\r\\nWALK SCORE 92+: \\r\\nWalk to the trendy restaurants and cafes of Bloomingdale: Red Hen (1 block away), Boundary Stone, Sylvan Bakery, Crisp, Big Bear Cafe, Sunday neighborhood Farmer's Market, Bacio Pizzeria, Pub and the People, Firehouse, and more.\\r\\n\\r\\nPractically in your backyard is Harry Thomas Park complete with two playgrounds, outdoor pool (open only in summer), tennis courts, and track/field!  Not too far away, enjoy one of the city's best kept secrets - Crispus Attucks Park. The popular urban park is the pride and joy of the neighborhood known for its secluded feel and lots of green space, benches and trails.\\r\\n\\r\\nWalking distance to Children's Hospital, and Washington Hospital Center, Veteran's Hospital, Howard University, Trinity University, Catholic University\\r\\n\\r\\nGet around the District on a bike! Capital Bikeshare station in Bloomingdale is one block away.\\r\\n...</td>\n",
       "    </tr>\n",
       "    <tr>\n",
       "      <th>12791</th>\n",
       "      <td>37167222</td>\n",
       "      <td>1/19/15</td>\n",
       "      <td>38950584</td>\n",
       "      <td>-77099237</td>\n",
       "      <td>20816</td>\n",
       "      <td>Bethesda</td>\n",
       "      <td>Montgomery</td>\n",
       "      <td>MD</td>\n",
       "      <td>0.64</td>\n",
       "      <td>10000.0</td>\n",
       "      <td>12</td>\n",
       "      <td>1700</td>\n",
       "      <td>6.0</td>\n",
       "      <td>4.5</td>\n",
       "      <td>Zillow needs to readjust their \"Zestimate;\"someone used info from an old rental ad (without my knowledge) and Zillow made a huge error:  This is an upgraded, classic Center Hall Colonial with all four floors finished. The basement, with a separate English basement-style entrance in addition to house stairs, has a legal bedroom and can be an Au-Pair/Mother-in-Law suite or a teen/guest bedroom and family room and has a full bathroom. Two main floors are solid, soon-to-be refinished hardwood and the finished basement and attic are carpeted. The house has been updated for comfort but traditional design features and original woodwork remain. It has a 2nd floor front loading W&amp;D in addition to the basement utility room W&amp;D set and house is wired for FIOS throughout. There are 2 side gardens and a patio for enjoying the outdoors. This is a lovely home with architectural details abounding from a formal dining room with wainscoting to the original basket-weave tiles in the bathrooms. Lots of mature trees and pretty garden. I love the screened in porch with a fan and spend a lot of time there. The finished attic has a lovely. \"Juliet balcony.\" Everything was repainted in the fall of 2013.</td>\n",
       "    </tr>\n",
       "    <tr>\n",
       "      <th>12793</th>\n",
       "      <td>37167222</td>\n",
       "      <td>4/13/15</td>\n",
       "      <td>38950584</td>\n",
       "      <td>-77099237</td>\n",
       "      <td>20816</td>\n",
       "      <td>Bethesda</td>\n",
       "      <td>Montgomery</td>\n",
       "      <td>MD</td>\n",
       "      <td>0.64</td>\n",
       "      <td>10000.0</td>\n",
       "      <td>12</td>\n",
       "      <td>1700</td>\n",
       "      <td>6.0</td>\n",
       "      <td>4.5</td>\n",
       "      <td>Zillow needs to readjust their \"Zestimate;\"someone used info from an old rental ad (without my knowledge) and Zillow made a huge error:  This is an upgraded, classic Center Hall Colonial with all four floors finished. The basement, with a separate English basement-style entrance in addition to house stairs, has a legal bedroom and can be an Au-Pair/Mother-in-Law suite or a teen/guest bedroom and family room and has a full bathroom. Two main floors are solid, soon-to-be refinished hardwood and the finished basement and attic are carpeted. The house has been updated for comfort but traditional design features and original woodwork remain. It has a 2nd floor front loading W&amp;D in addition to the basement utility room W&amp;D set and house is wired for FIOS throughout. There are 2 side gardens and a patio for enjoying the outdoors. This is a lovely home with architectural details abounding from a formal dining room with wainscoting to the original basket-weave tiles in the bathrooms. Lots of mature trees and pretty garden. I love the screened in porch with a fan and spend a lot of time there. The finished attic has a lovely. \"Juliet balcony.\" Everything was repainted in the fall of 2013.</td>\n",
       "    </tr>\n",
       "  </tbody>\n",
       "</table>\n",
       "</div>"
      ],
      "text/plain": [
       "       PropertyID ListingDate  Latitude  Longitude  ZipCode    CityName            CountyName StateName CountyListingCoverage  LeasePriceDollarCnt  LeaseTermMonths  FinishedSquareFeet  Bedrooms  Bathrooms  \\\n",
       "777        401983     10/9/15  38914640  -77033515    20009  Washington  District of Columbia        DC                  0.89              10000.0               12                2200       3.0        4.0   \n",
       "780        401983     9/10/15  38914640  -77033515    20009  Washington  District of Columbia        DC                  0.89              10000.0               12                2200       3.0        4.0   \n",
       "1665       417884     5/29/15  38890764  -76991851    20002  Washington  District of Columbia        DC                  0.89              10000.0               12                 767       2.0        1.0   \n",
       "1822       419865     1/14/16  38886558  -76989879    20003  Washington  District of Columbia        DC                  0.89              10000.0               12                2100       3.0        2.5   \n",
       "1823       419865     1/24/16  38886558  -76989879    20003  Washington  District of Columbia        DC                  0.89              10000.0               12                2100       3.0        2.5   \n",
       "2188       426254     12/9/15  38907327  -77069290    20007  Washington  District of Columbia        DC                  0.89              10000.0               12                2238       1.0        1.0   \n",
       "2303       427956     7/29/15  38910552  -77065665    20007  Washington  District of Columbia        DC                  0.89              10000.0               12                1851       5.0        3.0   \n",
       "2350       428513     3/13/16  38910631  -77060186    20007  Washington  District of Columbia        DC                  0.89              10000.0               12                1000       2.0        1.5   \n",
       "3657       464811     10/3/15  38924609  -77034896    20009  Washington  District of Columbia        DC                  0.89              10000.0               12                1800       3.0        2.5   \n",
       "3658       464811     10/3/15  38924609  -77034896    20009  Washington  District of Columbia        DC                  0.89              10000.0               12                1800       3.0        2.5   \n",
       "3659       464811     10/3/15  38924609  -77034896    20009  Washington  District of Columbia        DC                  0.89              10000.0               12                1800       3.0        2.5   \n",
       "3715       466329     2/29/16  38956752  -77033828    20011  Washington  District of Columbia        DC                  0.89              10000.0               12                1300       2.0        1.0   \n",
       "3781       469269     5/12/16  38939445  -77031363    20011  Washington  District of Columbia        DC                  0.89              10000.0               12                1578       4.0        3.5   \n",
       "4301       487594      5/4/16  38914592  -77008655    20002  Washington  District of Columbia        DC                  0.89              10000.0               12                2233       3.0        2.5   \n",
       "4302       487594      5/4/16  38914592  -77008655    20002  Washington  District of Columbia        DC                  0.89              10000.0               12                2233       3.0        2.5   \n",
       "12791    37167222     1/19/15  38950584  -77099237    20816    Bethesda            Montgomery        MD                  0.64              10000.0               12                1700       6.0        4.5   \n",
       "12793    37167222     4/13/15  38950584  -77099237    20816    Bethesda            Montgomery        MD                  0.64              10000.0               12                1700       6.0        4.5   \n",
       "\n",
       "                                                                                                                                                                                                                                                                                                                                                                                                                                                                                                                                                                                                                                                                                                                                                                                                                                                                                                                                                                                                                                                                                                                                                                                                                                                                                                                                                                                                                                                                                                                                                                                                                                                                                                                                                                                                                                                                                                                                                                                                                                                                    ListingDescription  \n",
       "777                                                                                                                                                                                                                                                                                                                                                                                                                                                                                                                                                                                                                                                                                                                                                                                                                                                                                                                                                                                                                                                                                           1430 Swann Street- This is, without exaggeration, one of the loveliest blocks in Logan Circle.\\r\\n\\r\\nThis is a legal two unit property with Certificate of Occupancy (CO) for both units.\\r\\n\\r\\nThe lower unit is a legal one bath / one bedroom English Basement.  It is separately metered and features all new appliances, including washer & dryer, hardwood floors throughout, plantation shutters and a new HVAC unit.  It has plenty of closet and storage space, a front and back door, and plenty of natural light.  \\r\\n\\r\\nThe upper two floors of the house is the main unit.  \\r\\n\\r\\nThe first floor of the house has an open floor plan design.   Spacious dining room, living room fireplace, kitchen and ½ bath.  Off the kitchen in the back is a private deck and parking space for one car.\\r\\n\\r\\nThe second floor has two nice size bedrooms each with their own private bath, a laundry room and attic stars to access plenty of attic storage.\\r\\n\\r\\n\\r\\n\\r\\n  \n",
       "780                                                                                                                                                                                                                                                                                                                                                                                                                                                                                                                                                                                                                                                                                                                                                                                                                                                                                                                                                                                                                                                                                           1430 Swann Street- This is, without exaggeration, one of the loveliest blocks in Logan Circle.\\r\\n\\r\\nThis is a legal two unit property with Certificate of Occupancy (CO) for both units.\\r\\n\\r\\nThe lower unit is a legal one bath / one bedroom English Basement.  It is separately metered and features all new appliances, including washer & dryer, hardwood floors throughout, plantation shutters and a new HVAC unit.  It has plenty of closet and storage space, a front and back door, and plenty of natural light.  \\r\\n\\r\\nThe upper two floors of the house is the main unit.  \\r\\n\\r\\nThe first floor of the house has an open floor plan design.   Spacious dining room, living room fireplace, kitchen and ½ bath.  Off the kitchen in the back is a private deck and parking space for one car.\\r\\n\\r\\nThe second floor has two nice size bedrooms each with their own private bath, a laundry room and attic stars to access plenty of attic storage.\\r\\n\\r\\n\\r\\n\\r\\n  \n",
       "1665                                                                                                                                                                                                                                                                                                                                                                                                                                                                                                                                                                                                                                                                                                                                                                                                                                                                                                                                                                                                                                                                                                                                                                                                                                                                                                                                                                                                                                                                                                                                                                                                                                       Nestled less than a block from Lincoln park and the tree lined section of Massachusetts Ave.  Recently Renovated English basement with open floor plan of kitchen off of living space.  Two separated bedrooms and 1 bathroom.  Dishwasher, washer/ dryer, fridge, and stove.  Private little patio space off the back.  Only a few blocks from Eastern Market Metro, Available Immediately, Pets Welcome with One time Non-refundable fee.  \n",
       "1822                                                                                                                                                                                                                                                                                                                                                                                                     FAQ: \\r\\n\\r\\nQ: Is the English basement a part of the rental?\\r\\nA: No. It is an entirely separate apartment that is currently rented. Can't seem to delete the pictures. Ok...fun stuff below. \\r\\n\\r\\nAwesome row home in Capitol Hill. Minutes from Lincoln Park, Eastern Market and Barracks Row. 5-8 min walk to Eastern Market Metro. Spacious (for DC) backyard w/ car port and storage shed. Across the street from a convenience store. The neighborhood is full of families, kids, and dogs. This charming home is also part of DC's historical society! Its exposed brick and original features make you feel like part of history. \\r\\n\\r\\nCouldn't ask for a more perfect location, able to travel anywhere in the city via metro, bike, or walking! Its the perfect place to be if you work on the Hill or in downtown DC, want to live close but feel like you are in a neighborhood and not a high-rise city building. Commute to work via bike!\\r\\n\\r\\nThe first floor of the home has a large living room, kitchen with stainless steel appliances, den with vaulted ceilings, bathroom, and brick wood burning fireplace. The top floor has three bedrooms, 2 full bathrooms, washer, and dryer. The oversized master suite easily fits a king size bed, several dressers, and sitting chairs (rare to find such a large master in DC).  The vaulted ceilings, jetted bathtub, tall windows, and skylight are upgraded, great amenities.  Ally access in the rear of the home.\\r\\n\\r\\nFAQ: \\r\\n\\r\\nQ: Is the English basement a part of the rental?\\r\\nA: No. It is an entirely separate apartment that is currently rented.\\r\\n\\r\\nAt least 1 year lease.  \n",
       "1823                                                                                                                                                                                                                                                                                                                                                                                                     FAQ: \\r\\n\\r\\nQ: Is the English basement a part of the rental?\\r\\nA: No. It is an entirely separate apartment that is currently rented. Can't seem to delete the pictures. Ok...fun stuff below. \\r\\n\\r\\nAwesome row home in Capitol Hill. Minutes from Lincoln Park, Eastern Market and Barracks Row. 5-8 min walk to Eastern Market Metro. Spacious (for DC) backyard w/ car port and storage shed. Across the street from a convenience store. The neighborhood is full of families, kids, and dogs. This charming home is also part of DC's historical society! Its exposed brick and original features make you feel like part of history. \\r\\n\\r\\nCouldn't ask for a more perfect location, able to travel anywhere in the city via metro, bike, or walking! Its the perfect place to be if you work on the Hill or in downtown DC, want to live close but feel like you are in a neighborhood and not a high-rise city building. Commute to work via bike!\\r\\n\\r\\nThe first floor of the home has a large living room, kitchen with stainless steel appliances, den with vaulted ceilings, bathroom, and brick wood burning fireplace. The top floor has three bedrooms, 2 full bathrooms, washer, and dryer. The oversized master suite easily fits a king size bed, several dressers, and sitting chairs (rare to find such a large master in DC).  The vaulted ceilings, jetted bathtub, tall windows, and skylight are upgraded, great amenities.  Ally access in the rear of the home.\\r\\n\\r\\nFAQ: \\r\\n\\r\\nQ: Is the English basement a part of the rental?\\r\\nA: No. It is an entirely separate apartment that is currently rented.\\r\\n\\r\\nAt least 1 year lease.  \n",
       "2188                                                                                                                                                                                                                                                                                                                                                                                                                                                                                                                                                                                                                                                                                                                                                                                                                                                                                                                                                                                                                                                                                                                                                                                                                                                                                                                                                                                                                                                                                                                                                                                                                                                                                                                                                                                                                                  Great English basement 2 blocks from Campus. 4 doors from Saxby's Coffee Shop. Available for spring semester 2017 thru end of May 2017. Also available for June 1st 2017- May 20th 2018. Washer Dryer in unit. Front and rear entrance. 1 car pa  \n",
       "2303                                                                                                                                                                                                                                                                                                                                                                                                                                                                                                                                                                                                                                                                                                                                                                                                                                                                                                                                                                                                                                                                                                                                                                                                                                                                                                                                                                                                                                                                                                                                                                                                                                                                     Fantastic Georgetown location & opportunity! 5BR/3BA Victorian rowhouse w/ a rarely available private English Basement apartment entirely separate from the upper 2 levels! Upper house has hardwood floors throughout, wood stove, builtins, main level bedroom & bath & rear patio. Top level has 3BR/1BA. Lower level has 1BR/1BA w/ separate exterior entrance. 1 block to Metro access! TOPA clear, too!  \n",
       "2350                                                                                                                                                                                                                                                                                                                                                                                                                                                                                                                                                                                                              Located in the heart of Georgetown's East Village, steps from Rock Creek Park, Dumbarton \\r\\nOaks, great restaurants, shops and art galleries, this is truly in the heart of Georgetown. Buses stop across the street to take you downtown, to Capitol Hill and Friendship Heights.\\r\\nGracious detached brownstone built in 1907 as a single family residence, subsequently converted to condos ? one on each of the three floors and two English basement units. \\r\\n\\r\\nThis two bedroom, 1-1/2 bath 1st floor apartment feels and lives like a house:\\r\\n\\r\\n10 foot ceilings\\r\\nOriginal hardwood floors\\r\\nCrown molding\\r\\nBuilt-in bookshelves and television cabinet in living room\\r\\nIndirect lighting\\r\\n Lots of windows and natural light\\r\\nThree sets of French doors\\r\\nAssigned parking\\r\\nRecently renovated kitchen and bathrooms\\r\\nBosch dishwasher\\r\\nWasher/dryer in unit\\r\\nTwo (non-working) fireplaces\\r\\nRemarkably generous closet space including walk-in closet and storage room\\r\\nCentral air conditioning\\r\\nPrivate deck and brick patio with landscaped stone planter along the perimeter\\r\\nGardener \\r\\nAssigned parking\\r\\n\\r\\nRents unfurnished\\r\\n\\r\\nRents unfurnished\\r\\n\\r\\nAbsolutely no smoking\\r\\n\\r\\nAvailable April 1st\\r\\n$4,400 monthly rent  \\r\\n1 year minimum lease \\r\\nApplication fee of $35\\r\\nReferences and Credit Report required \\r\\nDeposit: 1 months rent\\r\\nTenant pays electricity, cable, internet  \n",
       "3657   We are heading overseas for work and leaving behind our entirely custom, recently renovated townhouse - available November 1 for you to rent! The home is 2 large bedrooms plus an office. It will be unfurnished - we are moving out this month, and the entire home will be move-in ready by November 1. Main features:\\r\\n\\r\\n- 3 stories, with 3d story sunny master bedroom / bath / giant walk-in closet / rooftop deck\\r\\n- Two full baths with glass & porcelain tiles / marble / Restoration Hardware fixtures\\r\\n- Tons and tons of storage, including a laundry room with HE washer and dryer, bike mount, shelving, and utility sink\\r\\n- Large office with wall-to-wall Norwegian style shelving and a built-in red cedar desk\\r\\n- Gourmet kitchen, with stainless steel appliances, double oven, 5-burner stovetop, lots of cabinet space, woodblock kitchen island, copper-top bar, hanging pot rack, and porcelain tiling\\r\\n- Comfy living/dining room with bay window, coat nook, and half bath with farm-style sink\\r\\n- Back porch with patio and grill (shared with tenants in separate English Basement) and some outdoor storage\\r\\n- Sustainable bamboo flooring and stairs throughout\\r\\n- Two parking spaces in back\\r\\n- Will leave all window treatments at tenants' request\\r\\n- Minutes from Meridian Hill Park, 4 blocks to Columbia Heights metro, 7 minute walk to 14th Street, U Street, Adams Morgan, yet a quiet spot off the main roads\\r\\n\\r\\nA bit of background: We completely remodeled our home a few years ago, and have customized it for classy, comfortable living. It's heartbreaking to leave DC, and especially this home. Please email us with any questions or to set up a time to view the home. We have more pictures and a floorplan available as well. The home will be managed by a local company that caters to individual homes and has 24-hour maintenance assistance.\\r\\n\\r\\nPets considered. Absolutely no smoking. Preference given to 2-year leases. Application fee of $40, which covers costs of backgroun...  \n",
       "3658   SHOWING NOV. 2-5. Available December 1, beautiful, entirely custom and recently renovated townhome in a quiet Columbia Heights neighborhood. The home is 2 large bedrooms plus an extra bedroom or office. Main features:\\r\\n\\r\\n- 3 stories, with third-story sunny master bedroom / jacuzzi bath / giant walk-in closet / rooftop deck\\r\\n- Two full baths with glass & porcelain tiles / marble / Restoration Hardware fixtures\\r\\n- Tons and tons of storage, including a laundry room with HE washer and dryer, bike mount, shelving, and utility sink\\r\\n- Large office/extra bedroom with wall-to-wall Norwegian style shelving and a built-in red cedar desk\\r\\n- Gourmet kitchen, with stainless steel appliances, double oven, 5-burner stovetop, lots of cabinet space, woodblock kitchen island, copper-top bar, hanging pot rack, and porcelain tiling\\r\\n- Comfy living/dining room with bay window, coat nook, and half bath with farm-style sink\\r\\n- Back porch with patio and grill (shared with tenants in separate English Basement) and some outdoor storage\\r\\n- Sustainable bamboo flooring and stairs throughout\\r\\n- Two parking spaces in back\\r\\n- Minutes from Meridian Hill Park, 4 blocks to Columbia Heights metro, 7 minute walk to 14th Street, U Street, Adams Morgan, Trader Joe's, yet a quiet spot off the main roads\\r\\n\\r\\nA bit of background: We completely remodeled our home a few years ago, and have customized it for classy, comfortable living. We loved the home, and were sad to leave for an overseas post. Please email us with any questions or to set up a time to view the home. We have more pictures and a floorplan available as well. The home is managed by a fantastic local company that caters to individual homes and has 24-hour maintenance assistance.\\r\\n\\r\\nPets considered with pet fee. Absolutely no smoking. Preference given to tenants who intend to stay long term. Application fee of $50, which covers costs of background check. Water/gas/electric separate. One month security deposit and ...  \n",
       "3659   SHOWING NOV. 2-5. Available December 1, beautiful, entirely custom and recently renovated townhome in a quiet Columbia Heights neighborhood. The home is 2 large bedrooms plus an extra bedroom or office. Main features:\\r\\n\\r\\n- 3 stories, with third-story sunny master bedroom / jacuzzi bath / giant walk-in closet / rooftop deck\\r\\n- Two full baths with glass & porcelain tiles / marble / Restoration Hardware fixtures\\r\\n- Tons and tons of storage, including a laundry room with HE washer and dryer, bike mount, shelving, and utility sink\\r\\n- Large office/extra bedroom with wall-to-wall Norwegian style shelving and a built-in red cedar desk\\r\\n- Gourmet kitchen, with stainless steel appliances, double oven, 5-burner stovetop, lots of cabinet space, concrete countertop, woodblock kitchen island, copper-top bar, hanging pot rack, and porcelain tiling\\r\\n- Comfy living/dining room with bay window, coat nook, and half bath with farm-style sink\\r\\n- Back porch with patio and grill (shared with tenants in separate English Basement) and some outdoor storage\\r\\n- Sustainable bamboo flooring and stairs throughout\\r\\n- Two parking spaces in back\\r\\n- Minutes from Meridian Hill Park, 4 blocks to Columbia Heights metro, 7 minute walk to 14th Street, U Street, Adams Morgan, Trader Joe's, yet a quiet spot off the main roads\\r\\n- ADT security included\\r\\n\\r\\nA bit of background: We completely remodeled our home a few years ago, and have customized it for classy, comfortable living. We loved the home, and were sad to leave for an overseas post. Please email us with any questions or to set up a time to view the home. We have more pictures and a floorplan available as well. The home is managed by a fantastic local company that caters to individual homes and has 24-hour maintenance assistance.\\r\\n\\r\\nPets considered with pet fee. Absolutely no smoking. Preference given to tenants who intend to stay long term. Application fee of $50, which covers costs of background check. Water/gas/el...  \n",
       "3715   BEAUTIFUL, RENOVATED 2 bedroom, 1-bath English basement.  ALL utilities included! Stainless steel appliances, tile floors in the kitchen and bathroom with an open floor plan.  \\r\\n  \\r\\nLocated in 16th Street Heights, on upper 14th Street NW.  Close to Columbia Heights, U Street, and all of the new development on the 14th Street corridor, but with all the amenities of a safe, quiet neighborhood setting.  Steps to Rock Creek Park and only a short bus/bike ride to Columbia Heights, Red Derby, Lyman's Tavern.  Not far from Georgia Petworth, Tacoma, and Silver Spring.  Multiple bus lines just outside your door or less than a block away.  Be in Dupont Circle or downtown in 20 minutes, Columbia Heights in 10 minutes.  Ample street parking. \\r\\n\\r\\nBoth bedrooms large enough to accommodate a double or queen bed.  Substantial amount of closet space in both bedrooms, including a walk-in closet.  Washer/dryer is in separate utility room, which has additional storage space.  Unit walks out onto a quiet yard.  \\r\\n\\r\\nMore pictures available on request.   Showings arranged by email or phone.\\r\\n\\r\\nTHE APARTMENT\\r\\n* 2 large bedrooms, 1 bath.\\r\\n* Utilities (water, gas, electric) included.\\r\\n* Light-filled: windows in both bedrooms.\\r\\n* New kitchen with maple cabinets and stainless steel appliances, dishwasher, electric range & garbage disposal.\\r\\n* Granite countertops.\\r\\n* Ample closet space.\\r\\n* Front loading washer/dryer in unit.\\r\\n* Central air & heat.\\r\\n* Plenty of on-street, zoned parking available.  \\r\\n* Cable/internet ready.\\r\\n\\r\\nIDEAL LOCATION\\r\\n* CLOSE TO PUBLIC TRANSPORTATION - 6 bus lines in front of the house or less than a block away\\r\\n*20 minute bus/bike ride to U Street, Dupont Circle\\r\\n*10 minute bus/bike ride to Columbia Heights \\r\\n*10 minute drive to Silver Spring\\r\\n\\r\\nINTERESTED?\\r\\n* Available July 1. \\r\\n* One year minimum lease.\\r\\n* Security deposit plus first month's rent.\\r\\n* Credit check and references requested.\\r\\n* Email to arr...  \n",
       "3781                                                                                                                                                                                                                                                                                                                                                                                                                                                                                                                                                                                                                                                                                                                                     Looking for responsible, self sufficient, and community minded renters for lovely Petworth DC rowhouse. Tree lined street with friendly and helpful neighbors all around.3 bedrooms and 2.5 bathrooms on the first 2 floors and a 1 bedroom apartment with kitchen in the english basement.Large living room and dining room; bright kitchen leading out to walk-out back deck Dual-zone central air conditioning ensures more efficiency and comfort. Natural gas heat.2 parking spaces behind the house, with alley access. Additional 2 sheds for bikes, etc. Attic for storage.Partially furnished with large dining table and chairs, china cabinets, drawers in common areas.Front garden is a low maintenance, established perennial flower gardenSolar panels on roof keep utility costs lower than comparable homes.1 minute walk to 14th st. bus routes - 5 minute bus ride to Columbia Heights Metro, or ride all the way downtown.3 minute walk to many new & popular restaurants and bars on 14th St. - Little Coco's, Habanero's, Mezcalero's, Red Derby, etc...10 minute walk to the Upshur neighborhood. Petworth Library, Yes Organic Market, Safeway, Yoga Heights Yoga Studio, Upshur Street Books, Ruta Del Vino wine bar, Timber Pizza, and many more restaurants.Easy access to Rock Creek Park for running and biking.  \n",
       "4301                                                                                                                                                                                                                                                                                                                                                                                                                                                                                                                                                                                                                                                                                                                                                                                                                                                                                                                                                                                                                                                                                                                                                                                                                                                                                                                                               Stately Victorian in highly sought after Eckington area.  Three floors total plus basement unit.  Main floor has full dining room and living room, laundry room, and kitchen.  Second floor has 3 Bed Rooms and 2 full baths.  Lots of character and high ceilings.  House includes many original details and expert craftsmanship, including: high ceilings, 12' pocket doors, new hardwood floors throughout.   Granite counters and stainless steel appliances.   Private stairwell from kitchen to 2nd level. Beautiful private deck & patio on 1st and 2d floors.  The third floor sports an entertainment center, home office and guest bed.  \\r\\n\\r\\nNewly renovated 2br/1ba English Basement with Certificate of Occupancy.  \n",
       "4302   Live in three beautiful levels of a grande dame of row houses built in 1900 along the North Capitol Street corridor complete with restored chestnut staircase and fireplace, plaster arch cornices, 10-foot pocket door, plus original rear 2nd stairwell.  Lovingly gut-renovated in 2016 with brand new marble bathrooms, custom bath fixtures, cabinetry, boutique lighting and exposed natural brick.  Deep and spacious with 2300 sq foot over three levels, the house has the main living area, dining room, half-bath, and kitchen on the first floor, 3 bedrooms and 2 full bathrooms on the second floor with a bonus 4th bedroom/office/playroom on the 3rd floor attic with a skylight.  The master suite has two brand new large closets, double vanity, and large marble shower.  Outside, there is an enclosed backyard with large tool shed and pedestrian access to the alley.  We are moving overseas and will have the house ready for you by Sat August 26 (no sooner - sorry we need it until then!). Fun fact: the house is in the opening shot of House of Cards!\\r\\n\\r\\nRENT INCLUDES WATER AND MONTHLY CLEANING.\\r\\n\\r\\nWALK SCORE 92+: \\r\\nWalk to the trendy restaurants and cafes of Bloomingdale: Red Hen (1 block away), Boundary Stone, Sylvan Bakery, Crisp, Big Bear Cafe, Sunday neighborhood Farmer's Market, Bacio Pizzeria, Pub and the People, Firehouse, and more.\\r\\n\\r\\nPractically in your backyard is Harry Thomas Park complete with two playgrounds, outdoor pool (open only in summer), tennis courts, and track/field!  Not too far away, enjoy one of the city's best kept secrets - Crispus Attucks Park. The popular urban park is the pride and joy of the neighborhood known for its secluded feel and lots of green space, benches and trails.\\r\\n\\r\\nWalking distance to Children's Hospital, and Washington Hospital Center, Veteran's Hospital, Howard University, Trinity University, Catholic University\\r\\n\\r\\nGet around the District on a bike! Capital Bikeshare station in Bloomingdale is one block away.\\r\\n...  \n",
       "12791                                                                                                                                                                                                                                                                                                                                                                                                                                                                                                                                                                                                                                                                                                                                                                                                                                   Zillow needs to readjust their \"Zestimate;\"someone used info from an old rental ad (without my knowledge) and Zillow made a huge error:  This is an upgraded, classic Center Hall Colonial with all four floors finished. The basement, with a separate English basement-style entrance in addition to house stairs, has a legal bedroom and can be an Au-Pair/Mother-in-Law suite or a teen/guest bedroom and family room and has a full bathroom. Two main floors are solid, soon-to-be refinished hardwood and the finished basement and attic are carpeted. The house has been updated for comfort but traditional design features and original woodwork remain. It has a 2nd floor front loading W&D in addition to the basement utility room W&D set and house is wired for FIOS throughout. There are 2 side gardens and a patio for enjoying the outdoors. This is a lovely home with architectural details abounding from a formal dining room with wainscoting to the original basket-weave tiles in the bathrooms. Lots of mature trees and pretty garden. I love the screened in porch with a fan and spend a lot of time there. The finished attic has a lovely. \"Juliet balcony.\" Everything was repainted in the fall of 2013.   \n",
       "12793                                                                                                                                                                                                                                                                                                                                                                                                                                                                                                                                                                                                                                                                                                                                                                                                                                   Zillow needs to readjust their \"Zestimate;\"someone used info from an old rental ad (without my knowledge) and Zillow made a huge error:  This is an upgraded, classic Center Hall Colonial with all four floors finished. The basement, with a separate English basement-style entrance in addition to house stairs, has a legal bedroom and can be an Au-Pair/Mother-in-Law suite or a teen/guest bedroom and family room and has a full bathroom. Two main floors are solid, soon-to-be refinished hardwood and the finished basement and attic are carpeted. The house has been updated for comfort but traditional design features and original woodwork remain. It has a 2nd floor front loading W&D in addition to the basement utility room W&D set and house is wired for FIOS throughout. There are 2 side gardens and a patio for enjoying the outdoors. This is a lovely home with architectural details abounding from a formal dining room with wainscoting to the original basket-weave tiles in the bathrooms. Lots of mature trees and pretty garden. I love the screened in porch with a fan and spend a lot of time there. The finished attic has a lovely. \"Juliet balcony.\" Everything was repainted in the fall of 2013.   "
      ]
     },
     "execution_count": 1284,
     "metadata": {},
     "output_type": "execute_result"
    }
   ],
   "source": [
    "trulia_9500_lease = trulia[(trulia.LeasePriceDollarCnt > 9500)]\n",
    "\n",
    "trulia_9500_lease"
   ]
  },
  {
   "cell_type": "markdown",
   "metadata": {},
   "source": [
    "After examining the records with Lease amonts higher than $9,500 / a month, I am not sure I can actually delete all of these records.  \n",
    "\n",
    "Property id 419865 is not an enlish basement, so that record can be removed.  (it's actually not included in the english basements dataframe! "
   ]
  },
  {
   "cell_type": "code",
   "execution_count": 1306,
   "metadata": {},
   "outputs": [
    {
     "data": {
      "image/png": "[encoded data removed]",
      "text/plain": [
       "<matplotlib.figure.Figure at 0x1a339ab9e8>"
      ]
     },
     "metadata": {},
     "output_type": "display_data"
    }
   ],
   "source": [
    "plt.figure(figsize = (30, 8))\n",
    "zipcode_count = sns.countplot(data=trulia, x=\"ZipCode\")\n",
    "\n",
    "#this figure isn't very useful but  a large scale interactive countplot could be (hover over zipcode bin and stats could pop up)."
   ]
  },
  {
   "cell_type": "markdown",
   "metadata": {},
   "source": [
    "### 5. Explore relationship of \"English Basements\" in terms of price and location \n",
    "\n",
    "Below I will replicate the same EDA that occured for the original data set but this time for  the english basement dataset.  "
   ]
  },
  {
   "cell_type": "code",
   "execution_count": 1082,
   "metadata": {},
   "outputs": [
    {
     "name": "stdout",
     "output_type": "stream",
     "text": [
      "<class 'pandas.core.frame.DataFrame'>\n",
      "RangeIndex: 1113 entries, 0 to 1112\n",
      "Data columns (total 15 columns):\n",
      "PropertyID               1113 non-null int64\n",
      "ListingDate              1113 non-null object\n",
      "Latitude                 1113 non-null int64\n",
      "Longitude                1113 non-null int64\n",
      "ZipCode                  1113 non-null int64\n",
      "CityName                 1113 non-null object\n",
      "CountyName               1113 non-null object\n",
      "StateName                1113 non-null object\n",
      "CountyListingCoverage    1113 non-null object\n",
      "LeasePriceDollarCnt      1113 non-null float64\n",
      "LeaseTermMonths          1113 non-null int64\n",
      "FinishedSquareFeet       1113 non-null int64\n",
      "Bedrooms                 1113 non-null float64\n",
      "Bathrooms                1113 non-null float64\n",
      "ListingDescription       1113 non-null object\n",
      "dtypes: float64(3), int64(6), object(6)\n",
      "memory usage: 130.5+ KB\n"
     ]
    }
   ],
   "source": [
    "english_basements_df.info()"
   ]
  },
  {
   "cell_type": "code",
   "execution_count": 1083,
   "metadata": {},
   "outputs": [
    {
     "data": {
      "text/plain": [
       "Text(0.5,1,'Correlation')"
      ]
     },
     "execution_count": 1083,
     "metadata": {},
     "output_type": "execute_result"
    },
    {
     "data": {
      "image/png": "[encoded data removed]",
      "text/plain": [
       "<matplotlib.figure.Figure at 0x1a344864e0>"
      ]
     },
     "metadata": {},
     "output_type": "display_data"
    }
   ],
   "source": [
    "\n",
    "english_basement_correlation = english_basements_df.filter([\"Latitude\", \"Longitutde\", \"ZipCode\",\\\n",
    "                      \"LeasePriceDollarCnt\", \"LeaseTermMonths\", \\\n",
    "                      \"FinishedSquareFeet\", \"Bedrooms\", \"Bathrooms\"])\n",
    "\n",
    "plt.figure(figsize = (19, 8))\n",
    "cmap = sns.cubehelix_palette(light=1, as_cmap=True)\n",
    "sns.heatmap(english_basement_correlation.corr(), cmap=cmap, annot=True).set_title(\"Correlation\")\n",
    "\n"
   ]
  },
  {
   "cell_type": "markdown",
   "metadata": {
    "collapsed": true
   },
   "source": [
    "The correlations between the original dataset and the new dataset that features english basements looks the same.  \n",
    "\n",
    "\n"
   ]
  },
  {
   "cell_type": "code",
   "execution_count": 1084,
   "metadata": {},
   "outputs": [
    {
     "name": "stdout",
     "output_type": "stream",
     "text": [
      "The average amount of Bathrooms is 2.25\n",
      "\n",
      "The average amount of Bedrooms is 2.7\n",
      "\n",
      "The average square feet of properties is 1537.41 sq ft\n",
      "\n",
      "The price expected to pay for lease per rental per month is $2431.46\n"
     ]
    }
   ],
   "source": [
    "eb_average_bathrooms = round(english_basements_df.Bathrooms.mean(),2)\n",
    "eb_average_bedrooms = round(english_basements_df.Bedrooms.mean(),2)\n",
    "eb_average_sq_ft = round(english_basements_df.FinishedSquareFeet.mean(),2)\n",
    "eb_average_lease = round(english_basements_df.LeasePriceDollarCnt.mean(), 2)\n",
    "\n",
    "print (\"The average amount of Bathrooms is {}\".format(eb_average_bathrooms))\n",
    "print()\n",
    "print (\"The average amount of Bedrooms is {}\".format(eb_average_bedrooms))\n",
    "print()\n",
    "print (\"The average square feet of properties is {} sq ft\".format(eb_average_sq_ft))\n",
    "print()\n",
    "print (\"The price expected to pay for lease per rental per month is ${}\".format(eb_average_lease))"
   ]
  },
  {
   "cell_type": "markdown",
   "metadata": {
    "collapsed": true
   },
   "source": [
    "## Drumroll...\n",
    "\n",
    "## The top 10 cities with the most English basements ...."
   ]
  },
  {
   "cell_type": "code",
   "execution_count": 1085,
   "metadata": {},
   "outputs": [
    {
     "name": "stdout",
     "output_type": "stream",
     "text": [
      "\n",
      "The Top 10 Cities that Feature English \n",
      "Basements in the DC Metro Area are \n",
      "\n",
      "Washington       369\n",
      "Arlington         76\n",
      "Silver Spring     46\n",
      "Alexandria        40\n",
      "Fairfax           29\n",
      "Falls Church      29\n",
      "Woodbridge        27\n",
      "Mc Lean           23\n",
      "Germantown        22\n",
      "Frederick         20\n",
      "Name: CityName, dtype: int64\n"
     ]
    }
   ],
   "source": [
    "top_10_cities = english_basements_df[\"CityName\"].value_counts().head(10)\n",
    "print(\"\\nThe Top 10 Cities that Feature English \\nBasements in the DC Metro Area are \\n\\n{}\".format(top_10_cities))"
   ]
  },
  {
   "cell_type": "code",
   "execution_count": 1123,
   "metadata": {},
   "outputs": [
    {
     "data": {
      "text/plain": [
       "Index(['Count', 'City_Name'], dtype='object')"
      ]
     },
     "execution_count": 1123,
     "metadata": {},
     "output_type": "execute_result"
    }
   ],
   "source": [
    "top_10_cities = pd.DataFrame(english_basements_df[\"CityName\"].value_counts().head(10))\n",
    "\n",
    "new_index = range(1, len(top_10_zips) + 1)\n",
    "\n",
    "top_10_cities[\"City_Name\"] = top_10_cities.index\n",
    "top_10_cities.rename(columns={\"CityName\": \"Count\"}, inplace=True)\n",
    "\n",
    "top_10_cities.columns\n"
   ]
  },
  {
   "cell_type": "code",
   "execution_count": 1124,
   "metadata": {},
   "outputs": [
    {
     "data": {
      "image/png": "[encoded data removed]",
      "text/plain": [
       "<matplotlib.figure.Figure at 0x1a3146c898>"
      ]
     },
     "metadata": {},
     "output_type": "display_data"
    }
   ],
   "source": [
    "cmap = sns.cubehelix_palette(8, start=.5, rot=-.75, reverse=True)\n",
    "sns.set_palette(cmap)\n",
    "plt.figure(figsize = (20, 6))\n",
    "ax = sns.barplot(x = top_10_cities[\"City_Name\"],\\\n",
    "            y= top_10_cities[\"Count\"],\\\n",
    "            palette=cmap\\\n",
    "            \n",
    "           )\n",
    "ax.set(xlabel='City Name', ylabel='Number of English Basements')\n",
    "\n",
    "plt.show()"
   ]
  },
  {
   "cell_type": "markdown",
   "metadata": {},
   "source": [
    "The top 10 cities very close to Washington DC geographically.  Silver Spring MD boarders DC and is a short Metro Ride away.  Most of the English Basements are close to the metro area. \n",
    "I suspect this has something to do with architectural and construction patterns.  "
   ]
  },
  {
   "cell_type": "markdown",
   "metadata": {},
   "source": [
    "## The top 10 zipcodes  with the most English basements ...."
   ]
  },
  {
   "cell_type": "code",
   "execution_count": 1125,
   "metadata": {},
   "outputs": [
    {
     "name": "stdout",
     "output_type": "stream",
     "text": [
      "\n",
      "The Top 10 Zipcodes that Feature English \n",
      "Basements in the DC Metro Area are \n",
      "\n",
      "20002    68\n",
      "20011    58\n",
      "20009    38\n",
      "20010    37\n",
      "20007    30\n",
      "20003    29\n",
      "20001    27\n",
      "22201    19\n",
      "22102    17\n",
      "20874    17\n",
      "Name: ZipCode, dtype: int64\n"
     ]
    }
   ],
   "source": [
    "top_10_zips = english_basements_df[\"ZipCode\"].value_counts().head(10)\n",
    "print(\"\\nThe Top 10 Zipcodes that Feature English \\nBasements in the DC Metro Area are \\n\\n{}\".format(top_10_zips))"
   ]
  },
  {
   "cell_type": "code",
   "execution_count": 1126,
   "metadata": {},
   "outputs": [
    {
     "data": {
      "text/plain": [
       "Index(['Count', 'Zipcode'], dtype='object')"
      ]
     },
     "execution_count": 1126,
     "metadata": {},
     "output_type": "execute_result"
    }
   ],
   "source": [
    "top_10_zips = pd.DataFrame(english_basements_df[\"ZipCode\"].value_counts().head(10))\n",
    "\n",
    "new_index = range(1, len(top_10_zips) + 1)\n",
    "\n",
    "top_10_zips[\"Zipcode\"] = top_10_zips.index\n",
    "top_10_zips.rename(columns={\"ZipCode\": \"Count\"}, inplace=True)\n",
    "\n",
    "top_10_zips.columns\n"
   ]
  },
  {
   "cell_type": "code",
   "execution_count": 1127,
   "metadata": {},
   "outputs": [
    {
     "data": {
      "image/png": "[encoded data removed]",
      "text/plain": [
       "<matplotlib.figure.Figure at 0x1a31504a90>"
      ]
     },
     "metadata": {},
     "output_type": "display_data"
    }
   ],
   "source": [
    "cmap = sns.cubehelix_palette(8, start=.5, rot=-.75, reverse=True)\n",
    "sns.set_palette(cmap)\n",
    "plt.figure(figsize = (20, 8))\n",
    "ax = sns.barplot(x = top_10_zips[\"Zipcode\"],\\\n",
    "            y= top_10_zips[\"Count\"],\\\n",
    "            palette=cmap\\\n",
    "            \n",
    "           )\n",
    "ax.set(xlabel='Zipcode', ylabel='Number of English Basements')\n",
    "\n",
    "plt.show()"
   ]
  },
  {
   "cell_type": "markdown",
   "metadata": {},
   "source": [
    "#### How much more/less should a renter expect to pay for an english basement ? "
   ]
  },
  {
   "cell_type": "markdown",
   "metadata": {},
   "source": [
    "To compare the prices, I will need to drop the basement apartments and english basements from the original data set, I will call this new data frame trulia_no_basements"
   ]
  },
  {
   "cell_type": "code",
   "execution_count": 1308,
   "metadata": {},
   "outputs": [
    {
     "data": {
      "text/plain": [
       "1113"
      ]
     },
     "execution_count": 1308,
     "metadata": {},
     "output_type": "execute_result"
    }
   ],
   "source": [
    "# basement_apartment = trulia[trulia.ListingDescription.str.contains(r'(B|b).\\w+(ment)\\s(A|p).\\w+(ment)')]\n",
    "\n",
    "#inverse of that is trulia[~trulia.ListingDescription.str.contains(r'(B|b).\\w+(ment)\\s(A|p).\\w+(ment)')]\n",
    "\n",
    "trulia_no_basements = trulia[~trulia.ListingDescription.str.contains(r'(B|b).\\w+(ment)\\s(A|p).\\w+(ment)')]\n",
    "#english_basement = trulia[trulia.ListingDescription.str.contains(r'(E|e).\\w+\\s(B|b).\\w+(ment)')]\n",
    "\n",
    "#inverse of that is trulia[~trulia.ListingDescription.str.contains(r'(E|e).\\w+\\s(B|b).\\w+(ment)')]\n",
    "\n",
    "trulia_no_basements = trulia_no_basements[~trulia_no_basements.ListingDescription.str.contains(r'(E|e).\\w+\\s(B|b).\\w+(ment)')]\n",
    "\n",
    "#want to ensure that I'm subtracting the correct number of values from the dataframe \n",
    "trulia_shape = trulia.shape[0]\n",
    "\n",
    "trulia_no_basements_shape = trulia_no_basements.shape[0]\n",
    "\n",
    "trulia_shape - trulia_no_basements_shape\n",
    "\n"
   ]
  },
  {
   "cell_type": "code",
   "execution_count": 1310,
   "metadata": {},
   "outputs": [
    {
     "name": "stdout",
     "output_type": "stream",
     "text": [
      "\n",
      "The average lease price per properties that have no English Basements is  $2260.35. \n",
      "While the average price per English Basement properity is $2328.55\n",
      "\n"
     ]
    }
   ],
   "source": [
    "no_basement_avg_lease = round(trulia_no_basements[\"LeasePriceDollarCnt\"].mean(),2)\n",
    "\n",
    "\n",
    "english_basements_avg_lease = round(english_basements_df[\"LeasePriceDollarCnt\"].mean(),2)\n",
    "\n",
    "#Time to check out the Average Lease price  english basements vs no english basement\n",
    "print(\"\\nThe average lease price per properties that have no English Basements is  ${}. \\n\\\n",
    "While the average price per English Basement properity is ${}\\n\".format(no_basement_avg_lease, \\\n",
    "                                                                     english_basements_avg_lease))\n"
   ]
  },
  {
   "cell_type": "markdown",
   "metadata": {},
   "source": [
    "At first glance, it appears that higher prices for English Basements are due to the location.  As seen above, there is a high concentration of English Basements in and around in Core DC Metro Area.  "
   ]
  },
  {
   "cell_type": "code",
   "execution_count": 1131,
   "metadata": {},
   "outputs": [
    {
     "data": {
      "text/plain": [
       "1537.4123989218328"
      ]
     },
     "execution_count": 1131,
     "metadata": {},
     "output_type": "execute_result"
    }
   ],
   "source": [
    "english_basements_df[\"Bedrooms\"].mean()\n",
    "english_basements_df[\"FinishedSquareFeet\"].mean()\n"
   ]
  },
  {
   "cell_type": "code",
   "execution_count": 1132,
   "metadata": {},
   "outputs": [
    {
     "data": {
      "text/plain": [
       "1456.516561730085"
      ]
     },
     "execution_count": 1132,
     "metadata": {},
     "output_type": "execute_result"
    }
   ],
   "source": [
    "trulia[\"Bedrooms\"].mean()\n",
    "trulia[\"FinishedSquareFeet\"].mean()\n"
   ]
  },
  {
   "cell_type": "code",
   "execution_count": 1133,
   "metadata": {
    "collapsed": true
   },
   "outputs": [],
   "source": [
    "#To fully answer this question I must look at the average price per property per CityName \n",
    "\n",
    "\n",
    "\n"
   ]
  },
  {
   "cell_type": "code",
   "execution_count": 1134,
   "metadata": {},
   "outputs": [
    {
     "name": "stdout",
     "output_type": "stream",
     "text": [
      "This is the distribution of properties that do not advertise or have English basements\n"
     ]
    },
    {
     "data": {
      "image/png": "[encoded data removed]",
      "text/plain": [
       "<matplotlib.figure.Figure at 0x1a2c60e940>"
      ]
     },
     "metadata": {},
     "output_type": "display_data"
    }
   ],
   "source": [
    "print(\"This is the distribution of properties that do not advertise or have English basements\")\n",
    "\n",
    "new_index = range(1, len(grouping_trulia_top_zip) + 1)\n",
    "\n",
    "grouping_trulia_top_zip[\"Zipcode\"] = grouping_trulia_top_zip.index\n",
    "\n",
    "grouping_trulia_top_zip.rename(columns={\"ZipCode\": \"Count\"}, inplace=True)\n",
    "\n",
    "grouping_trulia_top_zip.columns\n",
    "\n",
    "cmap = sns.cubehelix_palette(8, start=.5, rot=-.75, reverse=True)\n",
    "sns.set_palette(cmap)\n",
    "plt.figure(figsize = (20, 8))\n",
    "ax = sns.barplot(x = top_10_zips_trulia[\"Zipcode\"],\\\n",
    "            y= grouping_trulia_top_zip[\"Count\"],\\\n",
    "            palette=cmap\\\n",
    "            \n",
    "           )\n",
    "ax.set(xlabel='Zipcode', ylabel=\"Number of Units\")\n",
    "\n",
    "plt.show()\n",
    "\n"
   ]
  },
  {
   "cell_type": "code",
   "execution_count": 1135,
   "metadata": {},
   "outputs": [
    {
     "name": "stdout",
     "output_type": "stream",
     "text": [
      "Compared to properties that feature or list English Basements.  You'll notice the higest number of \n",
      "properties are in the 20002 area, which is Washington DC. \n"
     ]
    },
    {
     "data": {
      "image/png": "[encoded data removed]",
      "text/plain": [
       "<matplotlib.figure.Figure at 0x1a329f5550>"
      ]
     },
     "metadata": {},
     "output_type": "display_data"
    }
   ],
   "source": [
    "print(\"Compared to properties that feature or list English Basements.  You'll notice the higest number of \\n\\\n",
    "properties are in the 20002 area, which is Washington DC. \")\n",
    "cmap = sns.cubehelix_palette(8, start=.5, rot=-.75, reverse=True)\n",
    "sns.set_palette(cmap)\n",
    "plt.figure(figsize = (20, 8))\n",
    "ax = sns.barplot(x = top_10_zips[\"Zipcode\"],\\\n",
    "            y= top_10_zips[\"Count\"],\\\n",
    "            palette=cmap\\\n",
    "            \n",
    "           )\n",
    "ax.set(xlabel='Zipcode', ylabel='Number of English Basements')\n",
    "\n",
    "plt.show()"
   ]
  },
  {
   "cell_type": "markdown",
   "metadata": {},
   "source": [
    "To be more specific, it's a good idea to see what average lease prices are in 20002 versus lease prices for English bedrooms in 20002 and in general. "
   ]
  },
  {
   "cell_type": "code",
   "execution_count": 1136,
   "metadata": {
    "collapsed": true
   },
   "outputs": [],
   "source": [
    "trulia_20002 = trulia[(trulia.ZipCode == 20002)]\n",
    "\n",
    "trulia_avg_lease_20002 = round(trulia_20002[\"LeasePriceDollarCnt\"].mean(),2)\n",
    "\n",
    "eb_20002 = english_basements_df[(english_basements_df.ZipCode == 20002)]\n",
    "\n",
    "eb_avg_lease_20002 = round(eb_20002[\"LeasePriceDollarCnt\"].mean(),2)"
   ]
  },
  {
   "cell_type": "code",
   "execution_count": 1137,
   "metadata": {},
   "outputs": [
    {
     "name": "stdout",
     "output_type": "stream",
     "text": [
      "The average lease price for a property in 20002 is $2649.87,\n",
      "while the average price of an English Basement property in 20002 is $2511.87\n"
     ]
    }
   ],
   "source": [
    "print(\"The average lease price for a property in 20002 is ${},\\n\\\n",
    "while the average price of an English Basement property in 20002 is ${}\".format\\\n",
    "     (trulia_avg_lease_20002, eb_avg_lease_20002))"
   ]
  },
  {
   "cell_type": "code",
   "execution_count": 1138,
   "metadata": {},
   "outputs": [
    {
     "data": {
      "text/plain": [
       "138.0"
      ]
     },
     "execution_count": 1138,
     "metadata": {},
     "output_type": "execute_result"
    }
   ],
   "source": [
    "(trulia_avg_lease_20002 - eb_avg_lease_20002)\n",
    "\n"
   ]
  },
  {
   "cell_type": "markdown",
   "metadata": {},
   "source": [
    "### How much more or less should an invididual expect to pay for an English Basement in the DC Metro Area? \n",
    "\n",
    "\n",
    "So, in Washington DC 20002 it's cheaper by $130 a month to rent an English Basement."
   ]
  },
  {
   "cell_type": "code",
   "execution_count": 1183,
   "metadata": {},
   "outputs": [
    {
     "name": "stdout",
     "output_type": "stream",
     "text": [
      "You're looking to save on average $164.59 by renting an English Basement.\n",
      "\n",
      "\n"
     ]
    }
   ],
   "source": [
    "avg_lease = round(trulia[\"LeasePriceDollarCnt\"].mean(),2)\n",
    "avg_eb_lease = round(english_basements_df[\"LeasePriceDollarCnt\"].mean(),2)\n",
    "\n",
    "avg_savings = round(avg_eb_lease - avg_lease, 2)\n",
    "\n",
    "print(\"You're looking to save on average ${} by renting an English Basement.\\n\\n\".format(avg_savings))\n"
   ]
  },
  {
   "cell_type": "markdown",
   "metadata": {},
   "source": [
    "Looking at the average Lease prices for the overall data set, it's safe to say that renting an English Basement can save you $165 / month. Considering English Basements are basement units and are lacking some of the aesthetic appeals of an above ground unit, it's a bit shocking that the savings aren't greater.  The take away about this dataset is that location matters.  Had most of the English Bedromss been further from the Core DC Metro area, there likely would have been greater savings.  "
   ]
  },
  {
   "cell_type": "code",
   "execution_count": 1139,
   "metadata": {
    "collapsed": true
   },
   "outputs": [],
   "source": [
    "#This is just some code I wrote incase to recycle etc .... \n",
    "\n",
    "#grouping_trulia_zip = trulia[\"LeasePriceDollarCnt\"].groupby(trulia[\"ZipCode\"]).mean()\n",
    "#grouping_trulia_cityname = trulia[\"LeasePriceDollarCnt\"].groupby(trulia[\"CityName\"]).mean()\n",
    "#grouping_trulia_top_zip = pd.DataFrame(trulia[\"ZipCode\"].value_counts().head(10))\n",
    "#grouping_trulia_top_cityname = pd.DataFrame(trulia[\"CityName\"].value_counts().head(10))\n",
    "\n",
    "\n",
    "\n",
    "#grouping_eb_zip = english_basements_df[\"LeasePriceDollarCnt\"].groupby(english_basements_df[\"ZipCode\"]).mean()\n",
    "#grouping_eb_cityname = english_basements_df[\"LeasePriceDollarCnt\"].groupby(english_basements_df[\"CityName\"]).mean()\n",
    "#grouping_eb_top_zip = pd.DataFrame(trulia[\"ZipCode\"].value_counts().head(10))\n",
    "#grouping_trulia_top_cityname = pd.DataFrame(trulia[\"CityName\"].value_counts().head(10))\n"
   ]
  },
  {
   "cell_type": "markdown",
   "metadata": {},
   "source": [
    "## Premiums & Discounts\n",
    "To find out the premiums I am going to create first 2 DataFrames.  The DataFrames will feature Zipcode and average Lease price. I will rename the columnns with Lease Price for each DataFrame to reflect english basement, no english basement.  \n",
    "\n",
    "Next, I will concatinate the DataFrames.  I will then create a new column that will house the difference in price between the english basement, no english basement. The last step will be to sort the values by ascending and decending to see which Zipcodes have the largest discounts and the largest premiums.  \n",
    "\n",
    "I will repeate the process for City Names as well \n",
    "\n",
    "#### Premiums & Discounts by City Name"
   ]
  },
  {
   "cell_type": "code",
   "execution_count": 1140,
   "metadata": {
    "collapsed": true
   },
   "outputs": [],
   "source": [
    "#create dataframes \n",
    "grouping_trulia_zip_df = pd.DataFrame(trulia_no_basements[\"LeasePriceDollarCnt\"].groupby(trulia_no_basements[\"ZipCode\"]).mean())\n",
    "\n",
    "grouping_eb_zip_df = pd.DataFrame(english_basements_df[\"LeasePriceDollarCnt\"].groupby(english_basements_df[\"ZipCode\"]).mean())\n",
    "\n",
    "\n",
    "#re-name columns and reset index \n",
    "grouping_trulia_zip_df.rename(columns={\"LeasePriceDollarCnt\": \"No_EB_avg_lease\"}, inplace=True)\n",
    "grouping_trulia_zip_df.reset_index(level=0, inplace=True)\n",
    "\n",
    "\n",
    "\n",
    "grouping_eb_zip_df.rename(columns={\"LeasePriceDollarCnt\": \"EB_avg_lease\"}, inplace=True)\n",
    "grouping_eb_zip_df.reset_index(level=0, inplace=True)\n",
    "\n",
    "\n"
   ]
  },
  {
   "cell_type": "code",
   "execution_count": 1141,
   "metadata": {},
   "outputs": [
    {
     "name": "stdout",
     "output_type": "stream",
     "text": [
      "<class 'pandas.core.frame.DataFrame'>\n",
      "Int64Index: 171 entries, 0 to 170\n",
      "Data columns (total 3 columns):\n",
      "ZipCode            171 non-null int64\n",
      "No_EB_avg_lease    171 non-null float64\n",
      "EB_avg_lease       171 non-null float64\n",
      "dtypes: float64(2), int64(1)\n",
      "memory usage: 5.3 KB\n"
     ]
    }
   ],
   "source": [
    "#merge data set on Zipcode column \n",
    "\n",
    "avg_lease_by_zip = pd.merge(grouping_trulia_zip_df,\\\n",
    "                 grouping_eb_zip_df,\\\n",
    "                 on=\"ZipCode\")\n",
    "\n",
    "avg_lease_by_zip.info()\n"
   ]
  },
  {
   "cell_type": "code",
   "execution_count": 1142,
   "metadata": {},
   "outputs": [
    {
     "data": {
      "text/html": [
       "<div>\n",
       "<style scoped>\n",
       "    .dataframe tbody tr th:only-of-type {\n",
       "        vertical-align: middle;\n",
       "    }\n",
       "\n",
       "    .dataframe tbody tr th {\n",
       "        vertical-align: top;\n",
       "    }\n",
       "\n",
       "    .dataframe thead th {\n",
       "        text-align: right;\n",
       "    }\n",
       "</style>\n",
       "<table border=\"1\" class=\"dataframe\">\n",
       "  <thead>\n",
       "    <tr style=\"text-align: right;\">\n",
       "      <th></th>\n",
       "      <th>ZipCode</th>\n",
       "      <th>No_EB_avg_lease</th>\n",
       "      <th>EB_avg_lease</th>\n",
       "      <th>Difference</th>\n",
       "    </tr>\n",
       "  </thead>\n",
       "  <tbody>\n",
       "    <tr>\n",
       "      <th>0</th>\n",
       "      <td>20001</td>\n",
       "      <td>2796.749629</td>\n",
       "      <td>2480.296296</td>\n",
       "      <td>316.453333</td>\n",
       "    </tr>\n",
       "    <tr>\n",
       "      <th>1</th>\n",
       "      <td>20002</td>\n",
       "      <td>2661.885116</td>\n",
       "      <td>2511.867647</td>\n",
       "      <td>150.017469</td>\n",
       "    </tr>\n",
       "    <tr>\n",
       "      <th>2</th>\n",
       "      <td>20003</td>\n",
       "      <td>2916.671864</td>\n",
       "      <td>2800.689655</td>\n",
       "      <td>115.982209</td>\n",
       "    </tr>\n",
       "    <tr>\n",
       "      <th>3</th>\n",
       "      <td>20005</td>\n",
       "      <td>2700.747759</td>\n",
       "      <td>2255.000000</td>\n",
       "      <td>445.747759</td>\n",
       "    </tr>\n",
       "    <tr>\n",
       "      <th>4</th>\n",
       "      <td>20007</td>\n",
       "      <td>3137.897743</td>\n",
       "      <td>3895.042510</td>\n",
       "      <td>-757.144767</td>\n",
       "    </tr>\n",
       "  </tbody>\n",
       "</table>\n",
       "</div>"
      ],
      "text/plain": [
       "   ZipCode  No_EB_avg_lease  EB_avg_lease  Difference\n",
       "0    20001      2796.749629   2480.296296  316.453333\n",
       "1    20002      2661.885116   2511.867647  150.017469\n",
       "2    20003      2916.671864   2800.689655  115.982209\n",
       "3    20005      2700.747759   2255.000000  445.747759\n",
       "4    20007      3137.897743   3895.042510 -757.144767"
      ]
     },
     "execution_count": 1142,
     "metadata": {},
     "output_type": "execute_result"
    }
   ],
   "source": [
    "#create a new colum with (No_EB_avg_lease - EB_avg_lease)\n",
    "\n",
    "avg_lease_by_zip[\"Difference\"] = avg_lease_by_zip[\"No_EB_avg_lease\"] - avg_lease_by_zip[\"EB_avg_lease\"]#.shift(-1)\n",
    "\n",
    "avg_lease_by_zip.head()"
   ]
  },
  {
   "cell_type": "code",
   "execution_count": 1172,
   "metadata": {
    "collapsed": true
   },
   "outputs": [],
   "source": [
    "#Time to sort the values, highest and lowest, but first need to set index  as ZipCode"
   ]
  },
  {
   "cell_type": "code",
   "execution_count": 1151,
   "metadata": {
    "collapsed": true
   },
   "outputs": [],
   "source": [
    "avg_lease_by_zip.set_index(\"ZipCode\", inplace=True)"
   ]
  },
  {
   "cell_type": "code",
   "execution_count": 1156,
   "metadata": {},
   "outputs": [
    {
     "name": "stdout",
     "output_type": "stream",
     "text": [
      "In these Zipcodes, English Basements are more expensive \n",
      "\n",
      "ZipCode\n",
      "20816   -6445.857143\n",
      "20815   -1450.699921\n",
      "20640   -1044.166667\n",
      "20708    -844.705882\n",
      "22044    -820.527426\n",
      "21773    -804.512647\n",
      "20007    -757.144767\n",
      "20036    -745.597916\n",
      "22043    -731.759825\n",
      "20009    -724.141665\n",
      "Name: Difference, dtype: float64\n"
     ]
    }
   ],
   "source": [
    "eb_more_expensive = avg_lease_by_zip[\"Difference\"].sort_values(ascending=True).head(10)\n",
    "\n",
    "eb_more_expensive\n",
    "print(\"In these Zipcodes, English Basements are more expensive \\n\\n{}\"\\\n",
    ".format(eb_more_expensive))"
   ]
  },
  {
   "cell_type": "code",
   "execution_count": 1157,
   "metadata": {},
   "outputs": [
    {
     "name": "stdout",
     "output_type": "stream",
     "text": [
      "In these Zipcodes, you get the most for your money for English Basements. The greatest savings are located here\n",
      "\n",
      "ZipCode\n",
      "20151    1288.480000\n",
      "20720    1069.301887\n",
      "20607     955.000000\n",
      "22734     833.333333\n",
      "20695     736.153846\n",
      "22079     668.637427\n",
      "20603     640.097087\n",
      "20748     591.319444\n",
      "20781     573.910389\n",
      "22027     568.342857\n",
      "Name: Difference, dtype: float64\n"
     ]
    }
   ],
   "source": [
    "eb_cheaper = avg_lease_by_zip[\"Difference\"].sort_values(ascending=False).head(10)\n",
    "print(\"In these Zipcodes, you get the most for your money for English Basements. \\\n",
    "The greatest savings are located here\\n\\n{}\"\\\n",
    ".format(eb_cheaper))"
   ]
  },
  {
   "cell_type": "markdown",
   "metadata": {},
   "source": [
    "#### Premiums & Discounts by City Name"
   ]
  },
  {
   "cell_type": "code",
   "execution_count": 1162,
   "metadata": {
    "collapsed": true
   },
   "outputs": [],
   "source": [
    "#create dataframes \n",
    "grouping_trulia_city_df = pd.DataFrame(trulia_no_basements[\"LeasePriceDollarCnt\"].groupby(trulia_no_basements[\"CityName\"]).mean())\n",
    "\n",
    "grouping_eb_city_df = pd.DataFrame(english_basements_df[\"LeasePriceDollarCnt\"].groupby(english_basements_df[\"CityName\"]).mean())\n",
    "\n",
    "\n",
    "#re-name columns and reset index \n",
    "grouping_trulia_city_df.rename(columns={\"LeasePriceDollarCnt\": \"No_EB_avg_lease\"}, inplace=True)\n",
    "grouping_trulia_city_df.reset_index(level=0, inplace=True)\n",
    "\n",
    "\n",
    "\n",
    "grouping_eb_city_df.rename(columns={\"LeasePriceDollarCnt\": \"EB_avg_lease\"}, inplace=True)\n",
    "grouping_eb_city_df.reset_index(level=0, inplace=True)\n",
    "\n",
    "#merge data set on Zipcode column \n",
    "\n",
    "avg_lease_by_city = pd.merge(grouping_trulia_city_df,\\\n",
    "                 grouping_eb_city_df,\\\n",
    "                 on=\"CityName\")\n",
    "\n",
    "\n",
    "\n",
    "#avg_lease_by_zip.set_index(\"CityName\", inplace=True)\n",
    "\n"
   ]
  },
  {
   "cell_type": "code",
   "execution_count": 1171,
   "metadata": {},
   "outputs": [
    {
     "data": {
      "text/html": [
       "<div>\n",
       "<style scoped>\n",
       "    .dataframe tbody tr th:only-of-type {\n",
       "        vertical-align: middle;\n",
       "    }\n",
       "\n",
       "    .dataframe tbody tr th {\n",
       "        vertical-align: top;\n",
       "    }\n",
       "\n",
       "    .dataframe thead th {\n",
       "        text-align: right;\n",
       "    }\n",
       "</style>\n",
       "<table border=\"1\" class=\"dataframe\">\n",
       "  <thead>\n",
       "    <tr style=\"text-align: right;\">\n",
       "      <th></th>\n",
       "      <th>No_EB_avg_lease</th>\n",
       "      <th>EB_avg_lease</th>\n",
       "      <th>Difference</th>\n",
       "    </tr>\n",
       "    <tr>\n",
       "      <th>CityName</th>\n",
       "      <th></th>\n",
       "      <th></th>\n",
       "      <th></th>\n",
       "    </tr>\n",
       "  </thead>\n",
       "  <tbody>\n",
       "    <tr>\n",
       "      <th>Accokeek</th>\n",
       "      <td>2207.083333</td>\n",
       "      <td>1450.000000</td>\n",
       "      <td>757.083333</td>\n",
       "    </tr>\n",
       "    <tr>\n",
       "      <th>Alexandria</th>\n",
       "      <td>2287.634375</td>\n",
       "      <td>2687.400000</td>\n",
       "      <td>-399.765625</td>\n",
       "    </tr>\n",
       "    <tr>\n",
       "      <th>Annandale</th>\n",
       "      <td>2159.018018</td>\n",
       "      <td>1763.750000</td>\n",
       "      <td>395.268018</td>\n",
       "    </tr>\n",
       "    <tr>\n",
       "      <th>Arlington</th>\n",
       "      <td>2552.181670</td>\n",
       "      <td>2929.539474</td>\n",
       "      <td>-377.357804</td>\n",
       "    </tr>\n",
       "    <tr>\n",
       "      <th>Ashburn</th>\n",
       "      <td>2104.796601</td>\n",
       "      <td>2275.000000</td>\n",
       "      <td>-170.203399</td>\n",
       "    </tr>\n",
       "  </tbody>\n",
       "</table>\n",
       "</div>"
      ],
      "text/plain": [
       "            No_EB_avg_lease  EB_avg_lease  Difference\n",
       "CityName                                             \n",
       "Accokeek        2207.083333   1450.000000  757.083333\n",
       "Alexandria      2287.634375   2687.400000 -399.765625\n",
       "Annandale       2159.018018   1763.750000  395.268018\n",
       "Arlington       2552.181670   2929.539474 -377.357804\n",
       "Ashburn         2104.796601   2275.000000 -170.203399"
      ]
     },
     "execution_count": 1171,
     "metadata": {},
     "output_type": "execute_result"
    }
   ],
   "source": [
    "avg_lease_by_city[\"Difference\"] = avg_lease_by_city[\"No_EB_avg_lease\"] - avg_lease_by_city[\"EB_avg_lease\"]#.shift(-1)\n",
    "avg_lease_by_city.head()\n"
   ]
  },
  {
   "cell_type": "code",
   "execution_count": 1168,
   "metadata": {
    "collapsed": true
   },
   "outputs": [],
   "source": [
    "avg_lease_by_city.set_index(\"CityName\", inplace=True)\n"
   ]
  },
  {
   "cell_type": "code",
   "execution_count": 1169,
   "metadata": {},
   "outputs": [
    {
     "name": "stdout",
     "output_type": "stream",
     "text": [
      "In these Zipcodes, English Basements are more expensive \n",
      "\n",
      "CityName\n",
      "Bethesda              -1482.001807\n",
      "Laurel                -1168.531532\n",
      "Indian Head           -1044.166667\n",
      "Travilah               -966.666667\n",
      "Myersville             -804.512647\n",
      "Mount Airy             -580.447368\n",
      "Mount Rainier          -526.666667\n",
      "Manassas Park          -491.793103\n",
      "Chevy Chase Terrace    -455.286516\n",
      "Rockville              -437.287582\n",
      "Name: Difference, dtype: float64\n"
     ]
    }
   ],
   "source": [
    "eb_more_expensive_city = avg_lease_by_city[\"Difference\"].sort_values(ascending=True).head(10)\n",
    "\n",
    "eb_more_expensive_city\n",
    "print(\"In these Zipcodes, English Basements are more expensive \\n\\n{}\"\\\n",
    ".format(eb_more_expensive_city))"
   ]
  },
  {
   "cell_type": "code",
   "execution_count": 1184,
   "metadata": {},
   "outputs": [
    {
     "name": "stdout",
     "output_type": "stream",
     "text": [
      "In these Zipcodes, you get the most for your money for English Basements. The greatest savings are located here\n",
      "\n",
      "CityName\n",
      "Accokeek            757.083333\n",
      "White Plains        738.333333\n",
      "Chantilly           712.364706\n",
      "Lorton              653.359649\n",
      "Temple Hills        601.042857\n",
      "Triangle            591.800000\n",
      "Bowie               558.707031\n",
      "Dunn Loring         505.842857\n",
      "North Kensington    474.843750\n",
      "Hyattsville         438.022745\n",
      "Name: Difference, dtype: float64\n"
     ]
    }
   ],
   "source": [
    "eb_cheaper_city = avg_lease_by_city[\"Difference\"].sort_values(ascending=False).head(10)\n",
    "print(\"In these Zipcodes, you get the most for your money for English Basements. \\\n",
    "The greatest savings are located here\\n\\n{}\"\\\n",
    ".format(eb_cheaper_city))"
   ]
  },
  {
   "cell_type": "markdown",
   "metadata": {},
   "source": [
    "# Limitations of the Data & Assumptions of my Analysis"
   ]
  },
  {
   "cell_type": "markdown",
   "metadata": {},
   "source": [
    "The largest limitations I encountered were the ListingDescripion and LeasePriceDollarCnt columns.  Had I been given more time, \n",
    "I would have found a better way to parse the text data.  It's very likely that I missed some records with my regular\n",
    "expressions, even though I tested them on data before using them.   In addition to maybe missing data, the way the\n",
    "listings were created, I may have cast too wide of a net.  Some of the descriptions that mentioned \"English Basements,\"\n",
    "were for entire house listings that happened to feature a seperate basement for rent.  So had I identfied and created\n",
    "better patterns to parse the data, I may have been more specific with my regular expressions.  \n",
    "\n",
    "I think doing a proximity analysis would have really aided my research.  I could have looked at the prices\n",
    "in terms of distance from a particular location. For instance, I would have calculate the Haversine distance \n",
    "between the latitude and longitude of listings and from a predetermined centeroid (Center of DC for instance). \n",
    "\n"
   ]
  },
  {
   "cell_type": "code",
   "execution_count": null,
   "metadata": {
    "collapsed": true
   },
   "outputs": [],
   "source": []
  }
 ],
 "metadata": {
  "kernelspec": {
   "display_name": "Python 3",
   "language": "python",
   "name": "python3"
  },
  "language_info": {
   "codemirror_mode": {
    "name": "ipython",
    "version": 3
   },
   "file_extension": ".py",
   "mimetype": "text/x-python",
   "name": "python",
   "nbconvert_exporter": "python",
   "pygments_lexer": "ipython3",
   "version": "3.6.4"
  }
 },
 "nbformat": 4,
 "nbformat_minor": 2
}
