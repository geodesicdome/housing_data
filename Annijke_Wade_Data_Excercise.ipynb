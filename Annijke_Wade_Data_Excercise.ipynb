{
 "cells": [
  {
   "cell_type": "markdown",
   "metadata": {},
   "source": [
    "# Trulia Rental Listings \n",
    "\n",
    "This jupyter notebook provides my solution to the Data Exericse for the Trulia position of Economic Data Analyst. \n",
    "\n",
    "I will be approaching this problem in a very structured manner.  \n",
    "\n",
    "### 1. Load Packages and Data\n",
    "\n",
    "### 2. Clean Data\n",
    "\n",
    "### 3. Identify \"English Basements\"\n",
    "\n",
    "### 4. Exploratory Data Analysis \n",
    "\n",
    "### 5. Explore relationship of \"English Basements\" in terms of price and location \n",
    "\n",
    "### 6.  Conclusion \n",
    "\n",
    "\n",
    "I have chosen to do this exercise in python3 and display my code and comments in a jupyter notebook"
   ]
  },
  {
   "cell_type": "markdown",
   "metadata": {},
   "source": [
    "### 1. Load Packages and Data\n",
    "\n",
    "I will be using pandas, numpy, matplotlib and seaborn for this Data Exercise.  While there are many packages and modules that may be of use, these are my go to \"tools\" in my data analysis toolbox."
   ]
  },
  {
   "cell_type": "code",
   "execution_count": 1037,
   "metadata": {},
   "outputs": [],
   "source": [
    "\n",
    "\n",
    "import pandas as pd\n",
    "import numpy as np\n",
    "import matplotlib.pyplot as plt\n",
    "%matplotlib inline\n",
    "import seaborn as sns\n",
    "\n",
    "import warnings\n",
    "warnings.filterwarnings(\"ignore\")\n",
    "\n"
   ]
  },
  {
   "cell_type": "markdown",
   "metadata": {},
   "source": [
    "#### Load the Data set into a Pandas DataFrame "
   ]
  },
  {
   "cell_type": "code",
   "execution_count": 1038,
   "metadata": {
    "collapsed": true
   },
   "outputs": [],
   "source": [
    "trulia = pd.read_csv(\"Trulia_RentalListings_DataExercise.csv\", encoding = 'iso-8859-1')"
   ]
  },
  {
   "cell_type": "markdown",
   "metadata": {
    "collapsed": true
   },
   "source": [
    "Why am I specifying encoding = 'iso-8859-1' ? \n",
    "\n",
    "I recieved an error when I did not specify encoding.  Pandas default tries to load data with UTF-8 encoding, when  I speficied encoding as 'iso-8859-1' the dataset loaded properly into a PandasDataFrame\n",
    "__________"
   ]
  },
  {
   "cell_type": "markdown",
   "metadata": {},
   "source": [
    "I also check that a dataset has been loaded propertly by using .head(), and this gives me a great introduction to the dataset"
   ]
  },
  {
   "cell_type": "code",
   "execution_count": 1039,
   "metadata": {},
   "outputs": [
    {
     "data": {
      "text/html": [
       "<div>\n",
       "<style scoped>\n",
       "    .dataframe tbody tr th:only-of-type {\n",
       "        vertical-align: middle;\n",
       "    }\n",
       "\n",
       "    .dataframe tbody tr th {\n",
       "        vertical-align: top;\n",
       "    }\n",
       "\n",
       "    .dataframe thead th {\n",
       "        text-align: right;\n",
       "    }\n",
       "</style>\n",
       "<table border=\"1\" class=\"dataframe\">\n",
       "  <thead>\n",
       "    <tr style=\"text-align: right;\">\n",
       "      <th></th>\n",
       "      <th>PropertyID</th>\n",
       "      <th>ListingDate</th>\n",
       "      <th>Latitude</th>\n",
       "      <th>Longitude</th>\n",
       "      <th>ZipCode</th>\n",
       "      <th>CityName</th>\n",
       "      <th>CountyName</th>\n",
       "      <th>StateName</th>\n",
       "      <th>CountyListingCoverage</th>\n",
       "      <th>LeasePriceDollarCnt</th>\n",
       "      <th>LeaseTermMonths</th>\n",
       "      <th>FinishedSquareFeet</th>\n",
       "      <th>Bedrooms</th>\n",
       "      <th>Bathrooms</th>\n",
       "      <th>BuiltYear</th>\n",
       "      <th>ListingDescription</th>\n",
       "    </tr>\n",
       "  </thead>\n",
       "  <tbody>\n",
       "    <tr>\n",
       "      <th>0</th>\n",
       "      <td>391329</td>\n",
       "      <td>3/2/16</td>\n",
       "      <td>38899907</td>\n",
       "      <td>-77056204</td>\n",
       "      <td>20037</td>\n",
       "      <td>Washington</td>\n",
       "      <td>District of Columbia</td>\n",
       "      <td>DC</td>\n",
       "      <td>0.89</td>\n",
       "      <td>4100.0</td>\n",
       "      <td>12</td>\n",
       "      <td>1800</td>\n",
       "      <td>2.0</td>\n",
       "      <td>2.5</td>\n",
       "      <td>NaN</td>\n",
       "      <td>This 2 BR, 2.5 bath unit has an abundant amount of natural sunlight, a large terrace and a breathtaking view of the Potomac River. \\r\\n\\r\\nWalking distance to Georgetown waterfront, Foggy Bottom Metro, George Washington University &amp; University Hospital, Whole Foods and restaurants.</td>\n",
       "    </tr>\n",
       "    <tr>\n",
       "      <th>1</th>\n",
       "      <td>391331</td>\n",
       "      <td>1/10/15</td>\n",
       "      <td>38905551</td>\n",
       "      <td>-77053871</td>\n",
       "      <td>20037</td>\n",
       "      <td>Washington</td>\n",
       "      <td>District of Columbia</td>\n",
       "      <td>DC</td>\n",
       "      <td>0.89</td>\n",
       "      <td>3200.0</td>\n",
       "      <td>12</td>\n",
       "      <td>863</td>\n",
       "      <td>0.0</td>\n",
       "      <td>2.0</td>\n",
       "      <td>NaN</td>\n",
       "      <td>HUGE STEAM ROOM/SAUNA!  In this open loft with amazing views, private terrace, nearly $100,000k of high-end updates:Caesarstone counter tops, Blue Cellini- style Ultra Craft cabinets, GE Profile and Bosch stainless appliances, Euro-style bath finishes, including Huge steam shower/sauna. Step down living room, Murphy bed, and flat screen TV, built-ins. On-site manager, Pet friendly, roof terrace, rental park $205/mo.  ASK ABOUT EXCITING PLANS FOR BUILDING.</td>\n",
       "    </tr>\n",
       "    <tr>\n",
       "      <th>2</th>\n",
       "      <td>391331</td>\n",
       "      <td>1/10/15</td>\n",
       "      <td>38905551</td>\n",
       "      <td>-77053871</td>\n",
       "      <td>20037</td>\n",
       "      <td>Washington</td>\n",
       "      <td>District of Columbia</td>\n",
       "      <td>DC</td>\n",
       "      <td>0.89</td>\n",
       "      <td>3200.0</td>\n",
       "      <td>12</td>\n",
       "      <td>863</td>\n",
       "      <td>0.0</td>\n",
       "      <td>2.0</td>\n",
       "      <td>NaN</td>\n",
       "      <td>Amazing views! in this cool open space with large Euro-style kitchen perfect for entertaining, stainless appliances, Ultra craft appliances, terrace, huge private steam shower, extra half bath. Building features 7 day concierge, roof terrace, pet friendly, garage parking $205/mo. Near Trader Joes, 2 metros, Four Seasons, Ritz Carlton.Amazing Views! in this cool furnished flat, perfect for entertaining; has large open Euro-style kitchen with stainless appliances, terrace, bamboo flooring, powder room, washer/dryer, huge steam sauna; building has 7-day concierge, roof terrace, garage rental parking. Near Trader Joes and 2 metros.</td>\n",
       "    </tr>\n",
       "    <tr>\n",
       "      <th>3</th>\n",
       "      <td>391377</td>\n",
       "      <td>5/10/16</td>\n",
       "      <td>38904110</td>\n",
       "      <td>-77054247</td>\n",
       "      <td>20037</td>\n",
       "      <td>Washington</td>\n",
       "      <td>District of Columbia</td>\n",
       "      <td>DC</td>\n",
       "      <td>0.89</td>\n",
       "      <td>3350.0</td>\n",
       "      <td>12</td>\n",
       "      <td>847</td>\n",
       "      <td>1.0</td>\n",
       "      <td>1.0</td>\n",
       "      <td>NaN</td>\n",
       "      <td>Urban living space is now available for rent in this very well located West End condo building. Features a spacious, living room/dining room combination with a wall of windows overlooking a private terrace, a kitchen with updated appliances, laundry closet, large bedroom, and great closet space. The terrace has approximately 400 sq. ft. of outdoor space. One car garage parking included.</td>\n",
       "    </tr>\n",
       "    <tr>\n",
       "      <th>4</th>\n",
       "      <td>391416</td>\n",
       "      <td>7/1/16</td>\n",
       "      <td>38903981</td>\n",
       "      <td>-77054160</td>\n",
       "      <td>20037</td>\n",
       "      <td>Washington</td>\n",
       "      <td>District of Columbia</td>\n",
       "      <td>DC</td>\n",
       "      <td>0.89</td>\n",
       "      <td>3100.0</td>\n",
       "      <td>12</td>\n",
       "      <td>845</td>\n",
       "      <td>1.0</td>\n",
       "      <td>1.0</td>\n",
       "      <td>NaN</td>\n",
       "      <td>The Westbridge is a contemporary building located in desirable West End and walking distance to Foggy Bottom METRO and GW. Building Amenities: 24 hr staffed front desk, fitness center, pool, lounging area, rooftop deck and garage parking. This 1 bedroom, 1 bathroom unit has been beautifully updated with granite counter tops in kitchen and bathroom, stainless steel appliances, hardwood floors, washer &amp; dryer, many closets, and a balcony. parking and storage is included.\\r\\n\\r\\n1-5 Year Term Available. Application Fee: $50. Move in Fee: $400. Repair deductible: $100. Rent includes: Parking, Additional Storage Space, Trash Removal, Water and Sewer, Party Room, Recreational Facility. Tenant is responsible for Electric.</td>\n",
       "    </tr>\n",
       "  </tbody>\n",
       "</table>\n",
       "</div>"
      ],
      "text/plain": [
       "   PropertyID ListingDate  Latitude  Longitude  ZipCode    CityName            CountyName StateName CountyListingCoverage  LeasePriceDollarCnt  LeaseTermMonths  FinishedSquareFeet  Bedrooms  Bathrooms  BuiltYear                                                                                                                                                                                                                                                                                                                                                                                                                                                                                                                                                                                                                                                                                                                                    ListingDescription\n",
       "0      391329      3/2/16  38899907  -77056204    20037  Washington  District of Columbia        DC                  0.89               4100.0               12                1800       2.0        2.5        NaN                                                                                                                                                                                                                                                                                                                                                                                                                                                            This 2 BR, 2.5 bath unit has an abundant amount of natural sunlight, a large terrace and a breathtaking view of the Potomac River. \\r\\n\\r\\nWalking distance to Georgetown waterfront, Foggy Bottom Metro, George Washington University & University Hospital, Whole Foods and restaurants.\n",
       "1      391331     1/10/15  38905551  -77053871    20037  Washington  District of Columbia        DC                  0.89               3200.0               12                 863       0.0        2.0        NaN                                                                                                                                                                                                                                                                          HUGE STEAM ROOM/SAUNA!  In this open loft with amazing views, private terrace, nearly $100,000k of high-end updates:Caesarstone counter tops, Blue Cellini- style Ultra Craft cabinets, GE Profile and Bosch stainless appliances, Euro-style bath finishes, including Huge steam shower/sauna. Step down living room, Murphy bed, and flat screen TV, built-ins. On-site manager, Pet friendly, roof terrace, rental park $205/mo.  ASK ABOUT EXCITING PLANS FOR BUILDING. \n",
       "2      391331     1/10/15  38905551  -77053871    20037  Washington  District of Columbia        DC                  0.89               3200.0               12                 863       0.0        2.0        NaN                                                                                           Amazing views! in this cool open space with large Euro-style kitchen perfect for entertaining, stainless appliances, Ultra craft appliances, terrace, huge private steam shower, extra half bath. Building features 7 day concierge, roof terrace, pet friendly, garage parking $205/mo. Near Trader Joes, 2 metros, Four Seasons, Ritz Carlton.Amazing Views! in this cool furnished flat, perfect for entertaining; has large open Euro-style kitchen with stainless appliances, terrace, bamboo flooring, powder room, washer/dryer, huge steam sauna; building has 7-day concierge, roof terrace, garage rental parking. Near Trader Joes and 2 metros.\n",
       "3      391377     5/10/16  38904110  -77054247    20037  Washington  District of Columbia        DC                  0.89               3350.0               12                 847       1.0        1.0        NaN                                                                                                                                                                                                                                                                                                                                                 Urban living space is now available for rent in this very well located West End condo building. Features a spacious, living room/dining room combination with a wall of windows overlooking a private terrace, a kitchen with updated appliances, laundry closet, large bedroom, and great closet space. The terrace has approximately 400 sq. ft. of outdoor space. One car garage parking included.\n",
       "4      391416      7/1/16  38903981  -77054160    20037  Washington  District of Columbia        DC                  0.89               3100.0               12                 845       1.0        1.0        NaN  The Westbridge is a contemporary building located in desirable West End and walking distance to Foggy Bottom METRO and GW. Building Amenities: 24 hr staffed front desk, fitness center, pool, lounging area, rooftop deck and garage parking. This 1 bedroom, 1 bathroom unit has been beautifully updated with granite counter tops in kitchen and bathroom, stainless steel appliances, hardwood floors, washer & dryer, many closets, and a balcony. parking and storage is included.\\r\\n\\r\\n1-5 Year Term Available. Application Fee: $50. Move in Fee: $400. Repair deductible: $100. Rent includes: Parking, Additional Storage Space, Trash Removal, Water and Sewer, Party Room, Recreational Facility. Tenant is responsible for Electric."
      ]
     },
     "execution_count": 1039,
     "metadata": {},
     "output_type": "execute_result"
    }
   ],
   "source": [
    "trulia.head()"
   ]
  },
  {
   "cell_type": "markdown",
   "metadata": {},
   "source": [
    "Calling .shape on a DataFrame allows me to see the shape of the data.  \n",
    "\n",
    "The output of calling .shape is a list where the x = the number of rows in the dataset & y = the number of columns in the dataset."
   ]
  },
  {
   "cell_type": "code",
   "execution_count": 1040,
   "metadata": {},
   "outputs": [
    {
     "data": {
      "text/plain": [
       "(30961, 16)"
      ]
     },
     "execution_count": 1040,
     "metadata": {},
     "output_type": "execute_result"
    }
   ],
   "source": [
    "trulia.shape"
   ]
  },
  {
   "cell_type": "markdown",
   "metadata": {},
   "source": [
    "There are 30961 records and 16 columns in the dataset \n",
    "__________\n",
    "\n",
    "\n",
    "After checking the shape of the DataFrame, I typically look at the column names. Sometimes there are spacs in the column names that need to be removed, as spaces are very \"un-pythonic.\"  "
   ]
  },
  {
   "cell_type": "code",
   "execution_count": 1041,
   "metadata": {},
   "outputs": [
    {
     "data": {
      "text/plain": [
       "Index(['PropertyID', 'ListingDate', 'Latitude', 'Longitude', 'ZipCode', 'CityName', 'CountyName', 'StateName', 'CountyListingCoverage', 'LeasePriceDollarCnt', 'LeaseTermMonths', 'FinishedSquareFeet', 'Bedrooms', 'Bathrooms', 'BuiltYear', 'ListingDescription'], dtype='object')"
      ]
     },
     "execution_count": 1041,
     "metadata": {},
     "output_type": "execute_result"
    }
   ],
   "source": [
    "trulia.columns"
   ]
  },
  {
   "cell_type": "markdown",
   "metadata": {},
   "source": [
    "### 2. Clean Data\n",
    "\n",
    "Now that the dataset has been loaded and I have a basic understanding of the data I'm working with, it's time to begin to investigate the data.  It's always a good idea to call .info() on the DataFrame.  \n",
    "\n",
    "Calling .info() allows you to first see how many null values are in each column and also see what data type each column is.  "
   ]
  },
  {
   "cell_type": "code",
   "execution_count": 1042,
   "metadata": {},
   "outputs": [
    {
     "name": "stdout",
     "output_type": "stream",
     "text": [
      "<class 'pandas.core.frame.DataFrame'>\n",
      "RangeIndex: 30961 entries, 0 to 30960\n",
      "Data columns (total 16 columns):\n",
      "PropertyID               30961 non-null int64\n",
      "ListingDate              30961 non-null object\n",
      "Latitude                 30961 non-null int64\n",
      "Longitude                30961 non-null int64\n",
      "ZipCode                  30961 non-null int64\n",
      "CityName                 30366 non-null object\n",
      "CountyName               30961 non-null object\n",
      "StateName                30366 non-null object\n",
      "CountyListingCoverage    30961 non-null object\n",
      "LeasePriceDollarCnt      30780 non-null float64\n",
      "LeaseTermMonths          30961 non-null int64\n",
      "FinishedSquareFeet       30961 non-null int64\n",
      "Bedrooms                 30958 non-null float64\n",
      "Bathrooms                30961 non-null float64\n",
      "BuiltYear                6589 non-null float64\n",
      "ListingDescription       29797 non-null object\n",
      "dtypes: float64(4), int64(6), object(6)\n",
      "memory usage: 3.8+ MB\n"
     ]
    }
   ],
   "source": [
    "trulia.info()"
   ]
  },
  {
   "cell_type": "markdown",
   "metadata": {},
   "source": [
    "CityName, StateName , LeasePriceDollarCnt , Bedrooms, BuiltYear and ListingDescription all have null values "
   ]
  },
  {
   "cell_type": "code",
   "execution_count": 1043,
   "metadata": {},
   "outputs": [
    {
     "name": "stdout",
     "output_type": "stream",
     "text": [
      "CityName has 595 null values\n",
      "\n",
      "StateName has 595 null values\n",
      "\n",
      "LeasePriceDollarCnt has 181 null values\n",
      "\n",
      "Bedrooms has 3 null values\n",
      "\n",
      "BuiltYear has 24372 null values\n",
      "\n",
      "ListingDescription has 1164 null values\n",
      "\n"
     ]
    }
   ],
   "source": [
    "\n",
    "cityname_null = (30961 - 30366 )\n",
    "statename_null = (30961 - 30366)\n",
    "leasepricedollarcnt_null = (30961 - 30780)\n",
    "bedrooms_null = (30961 - 30958)\n",
    "builtyear_null = (30961 - 6589)\n",
    "listingdescription_null = (30961 - 29797)\n",
    "\n",
    "print (\"CityName has {} null values\\n\".format(cityname_null))\n",
    "print (\"StateName has {} null values\\n\".format(statename_null))\n",
    "print (\"LeasePriceDollarCnt has {} null values\\n\".format(leasepricedollarcnt_null))\n",
    "print (\"Bedrooms has {} null values\\n\".format(bedrooms_null))\n",
    "print (\"BuiltYear has {} null values\\n\".format(builtyear_null))\n",
    "print (\"ListingDescription has {} null values\\n\".format(listingdescription_null))"
   ]
  },
  {
   "cell_type": "markdown",
   "metadata": {},
   "source": [
    "### A LOT OF NULL VALUES ! \n",
    "\n",
    "Anytime I see null values, I want to inspect the columns to see what I should do with the values. \n",
    "\n",
    "My options for dealing with null values include \n",
    "\n",
    "\n",
    "1) dropping records that feature null values in one or more of the columns \n",
    "\n",
    "2) changing the null values to another value like the Mean for instance , this is called imputation \n",
    "\n",
    "3) changing the null value to another value based on domain knowledge of the dataset\n",
    "\n",
    "4) dropping a column that features a lot of null values \n",
    "\n",
    "\n",
    "Before deciding on which method to use with each column, a look at the data inside is important.  \n",
    "\n",
    "##### I always consider how many total records there are when deciding what to do. Sometimes, it makes more sense to drop null values vs imputing or changing their value "
   ]
  },
  {
   "cell_type": "code",
   "execution_count": 1044,
   "metadata": {},
   "outputs": [
    {
     "data": {
      "text/plain": [
       "array(['Washington', 'Alexandria', 'Arlington', 'Culpeper', 'Jeffersonton',\n",
       "       'Amissville', 'Boston', 'Falls Church', 'Markham', 'Delaplane',\n",
       "       'Upperville', 'Remington', 'Manassas', 'Bealeton', 'Sumerduck',\n",
       "       'Hume', 'Marshall', 'Warrenton', 'The Plains', 'Midland',\n",
       "       'Broad Run', 'Catlett', 'Nokesville', 'Fredericksburg', 'Fairfax',\n",
       "       'Sterling', 'Great Falls', 'Ashburn', 'Leesburg', 'Chantilly',\n",
       "       'Aldie', 'Lovettsville', 'Waterford', 'Paeonian Springs',\n",
       "       'Hamilton', 'Purcellville', 'Middleburg', 'Hillsboro', 'Round Hill',\n",
       "       'Triangle', 'Woodbridge', 'Dumfries', 'Haymarket', 'Yorkshire',\n",
       "       'Gainesville', 'West Gate', 'Loch Lomond', 'Quantico', nan,\n",
       "       'Bristow', 'Stafford', 'Dowell', 'Saint Leonard', 'Broomes Island',\n",
       "       'Solomons', 'Lusby', 'Port Republic', 'Huntingtown',\n",
       "       'Chesapeake Beach', 'Prince Frederick', 'Dunkirk', 'North Beach',\n",
       "       'Marbury', 'Indian Head', 'La Plata', 'Bel Alton', 'Nanjemoy',\n",
       "       'Mechanicsville', 'Cobb Island', 'Newburg', 'Issue', 'Waldorf',\n",
       "       'White Plains', 'Bryans Road', 'Hughesville', 'Frederick',\n",
       "       'Dickerson', 'Sabillasville', 'Adamstown', 'Woodsboro', 'Jefferson',\n",
       "       'Thurmont', 'Myersville', 'Union Bridge', 'Mount Airy',\n",
       "       'New Windsor', 'Brunswick', 'Walkersville', 'New Market',\n",
       "       'Middletown', 'Rocky Ridge', 'Emmitsburg', 'Smithsburg',\n",
       "       'Ijamsville', 'Monrovia', 'Derwood', 'Brookeville',\n",
       "       'Montgomery Village', 'Clarksburg', 'Boyds', 'Germantown',\n",
       "       'Poolesville', 'North Bethesda', 'Travilah', 'Potomac', 'Rockville',\n",
       "       'North Potomac', 'Silver Spring', 'Beltsville', 'Burtonsville',\n",
       "       'Darnestown', 'Bethesda', 'Cabin John', 'Brookmont',\n",
       "       'Chevy Chase Village', 'Chevy Chase Section Three', 'Chevy Chase',\n",
       "       'Chevy Chase Section Five', 'Chevy Chase Terrace', 'Glen Echo',\n",
       "       'Martins Additions', 'North Chevy Chase', 'Somerset',\n",
       "       'Friendship Village', 'Olney', 'Sandy Spring', 'Gaithersburg',\n",
       "       'Damascus', 'Takoma Park', 'South Kensington', 'North Kensington',\n",
       "       'Kensington', 'College Park', 'Cottage City', 'Cheverly',\n",
       "       'Woodlawn', 'Bladensburg', 'East Riverdale', 'Greater Landover',\n",
       "       'Greater Upper Marlboro', 'Upper Marlboro', 'Brandywine',\n",
       "       'Fort Washington', 'Accokeek', 'Clinton', 'Suitland-Silver Hill',\n",
       "       'Temple Hills', 'District Heights', 'Coral Hills', 'Bowie',\n",
       "       'Kettering', 'Rosaryville', 'Laurel', 'Cheltenham',\n",
       "       'Forest Heights', 'Glenarden', 'Largo', 'Lanham Seabrook',\n",
       "       'Glenn Dale', 'Marlton', 'Hyattsville', 'Edmonston', 'Adelphi',\n",
       "       'Chillum', 'Mount Rainier', 'Brentwood', 'Seat Pleasant',\n",
       "       'Fairmount Heights', 'Carmody Hills-Pepper Mill Village',\n",
       "       'Capitol Heights', 'Walker Mill', 'Riverdale', 'University Park',\n",
       "       'Springdale', 'New Carrollton', 'Berwyn Heights', 'Greenbelt',\n",
       "       'Herndon', 'Reston', 'Vienna', 'Mc Lean', 'Oakton', 'Dunn Loring',\n",
       "       'Centreville', 'Clifton', 'Annandale', 'Lincolnia', 'Burke',\n",
       "       'Springfield', 'Rose Hill', 'Franconia', 'Groveton', 'Huntington',\n",
       "       'Belle Haven', 'Hybla Valley', 'Fort Hunt', 'Lorton',\n",
       "       'Mount Vernon', 'Flint Hill', 'Sperryville', 'Castleton',\n",
       "       'Manassas Park', 'Fort Belvoir', 'Spotsylvania', 'Locust Grove',\n",
       "       'Partlow', 'Goldvein', 'Berryville', 'Boyce', 'White Post',\n",
       "       'Front Royal', 'Linden', 'Bumpass', 'Bentonville', 'Occoquan'], dtype=object)"
      ]
     },
     "execution_count": 1044,
     "metadata": {},
     "output_type": "execute_result"
    }
   ],
   "source": [
    "#first to look at CityName column, I want to look at all the unique values\n",
    "\n",
    "trulia[\"CityName\"].unique()"
   ]
  },
  {
   "cell_type": "markdown",
   "metadata": {},
   "source": [
    "The first thing I notice when looking at the unique City names is that the dataset includeds much more than Washington DC.  The Dataset features the DC Metro Area.  \n",
    "\n",
    "<img src = \"https://upload.wikimedia.org/wikipedia/commons/5/5f/Washington_DC_metropolitan_map.jpg \">\n",
    "\n",
    "credit:  https://en.wikipedia.org/wiki/Washington_metropolitan_area"
   ]
  },
  {
   "cell_type": "code",
   "execution_count": 1045,
   "metadata": {
    "collapsed": true
   },
   "outputs": [],
   "source": [
    "# I may be able to deduce the city names ZipCode! "
   ]
  },
  {
   "cell_type": "code",
   "execution_count": 1046,
   "metadata": {},
   "outputs": [
    {
     "name": "stdout",
     "output_type": "stream",
     "text": [
      "These are the ZipCodes to the Missing CityNames [20111 21758 20882 20879 20854 20874 20878 20850 20817 20853 20877 20886\n",
      " 20855 20815 20895 20784 20785 20746 20743 20774 20745 20748 20706 20772\n",
      " 20712 20740 20783 20737 22311 22302 22312 22039 22315 20770]\n"
     ]
    }
   ],
   "source": [
    "missing_city_name = trulia[trulia['CityName'].isnull()] \n",
    "\n",
    "\n",
    "zips_to_null_city_name = missing_state_name[\"ZipCode\"].unique()\n",
    "print(\"These are the ZipCodes to the Missing CityNames {}\".format(zips_to_null_city_name))"
   ]
  },
  {
   "cell_type": "code",
   "execution_count": 1047,
   "metadata": {},
   "outputs": [
    {
     "data": {
      "text/plain": [
       "array(['Yorkshire', nan, 'Manassas Park', 'Loch Lomond'], dtype=object)"
      ]
     },
     "execution_count": 1047,
     "metadata": {},
     "output_type": "execute_result"
    }
   ],
   "source": [
    "trulia[trulia.ZipCode == 20111]\n",
    "\n",
    "zip_20111 = trulia[(trulia.ZipCode == 20111)]\n",
    "\n",
    "zip_20111.CityName.unique()\n"
   ]
  },
  {
   "cell_type": "markdown",
   "metadata": {},
   "source": [
    "I'm noticing a problem when inspecting the first zipcode 20111.  The Zipcode is actually associated with a few different CityNames, Yorkshire, Manaassas Park and Loch Lomond. "
   ]
  },
  {
   "cell_type": "code",
   "execution_count": 1048,
   "metadata": {},
   "outputs": [
    {
     "data": {
      "text/plain": [
       "array([nan], dtype=object)"
      ]
     },
     "execution_count": 1048,
     "metadata": {},
     "output_type": "execute_result"
    }
   ],
   "source": [
    "trulia[trulia.ZipCode == 21758]\n",
    "\n",
    "zip_21758 = trulia[(trulia.ZipCode == 21758)]\n",
    "\n",
    "zip_21758.CityName.unique()\n"
   ]
  },
  {
   "cell_type": "code",
   "execution_count": 1049,
   "metadata": {},
   "outputs": [
    {
     "data": {
      "text/plain": [
       "array([nan], dtype=object)"
      ]
     },
     "execution_count": 1049,
     "metadata": {},
     "output_type": "execute_result"
    }
   ],
   "source": [
    "trulia[trulia.ZipCode == 20882]\n",
    "\n",
    "zip_20882 = trulia[(trulia.ZipCode == 20882)]\n",
    "\n",
    "zip_20882.CityName.unique()\n",
    "\n"
   ]
  },
  {
   "cell_type": "markdown",
   "metadata": {},
   "source": [
    "### Making an executive decision on Missing City Names ...\n"
   ]
  },
  {
   "cell_type": "markdown",
   "metadata": {},
   "source": [
    "I am noticing a pattern.  ZipCodes in this dataset relate to many cities.  It's going to be hard to deduce CityNames from the zips with out other domain knowledge. \n",
    "One way of dealing with this would be to find shapefiles or geojsons of City boundaries and plot the lat, long of the missing values. By doing a spatial join you could reassign the values.  \n",
    "\n",
    "Both City and StateName both have 595 null vallues, this accounts for ~ 2% of the data. As much as I want to solve the issue, 2% of the data is very low.  By removing the values, I will still have enough data to perform the analysis on. \n",
    "\n",
    "I have also run the analysis with out dropping the null values and didn't find much of a difference.  "
   ]
  },
  {
   "cell_type": "code",
   "execution_count": 1050,
   "metadata": {
    "collapsed": true
   },
   "outputs": [],
   "source": [
    "trulia = trulia[trulia['CityName'].notnull()]"
   ]
  },
  {
   "cell_type": "code",
   "execution_count": 1051,
   "metadata": {},
   "outputs": [
    {
     "name": "stdout",
     "output_type": "stream",
     "text": [
      "<class 'pandas.core.frame.DataFrame'>\n",
      "Int64Index: 30366 entries, 0 to 30960\n",
      "Data columns (total 16 columns):\n",
      "PropertyID               30366 non-null int64\n",
      "ListingDate              30366 non-null object\n",
      "Latitude                 30366 non-null int64\n",
      "Longitude                30366 non-null int64\n",
      "ZipCode                  30366 non-null int64\n",
      "CityName                 30366 non-null object\n",
      "CountyName               30366 non-null object\n",
      "StateName                30366 non-null object\n",
      "CountyListingCoverage    30366 non-null object\n",
      "LeasePriceDollarCnt      30186 non-null float64\n",
      "LeaseTermMonths          30366 non-null int64\n",
      "FinishedSquareFeet       30366 non-null int64\n",
      "Bedrooms                 30363 non-null float64\n",
      "Bathrooms                30366 non-null float64\n",
      "BuiltYear                6530 non-null float64\n",
      "ListingDescription       29226 non-null object\n",
      "dtypes: float64(4), int64(6), object(6)\n",
      "memory usage: 3.9+ MB\n"
     ]
    }
   ],
   "source": [
    "trulia.info()"
   ]
  },
  {
   "cell_type": "markdown",
   "metadata": {},
   "source": [
    "\n",
    "________\n",
    "\n",
    "\n",
    "LeasePriceDollarCnt has only 181 null values,  I can probably get rid of those or better yet, I can impute.  I'm imputing because there are only 181 values that need to be replaced "
   ]
  },
  {
   "cell_type": "code",
   "execution_count": 1052,
   "metadata": {},
   "outputs": [
    {
     "data": {
      "text/plain": [
       "2265.637646591135"
      ]
     },
     "execution_count": 1052,
     "metadata": {},
     "output_type": "execute_result"
    }
   ],
   "source": [
    "trulia[\"LeasePriceDollarCnt\"].mean()"
   ]
  },
  {
   "cell_type": "code",
   "execution_count": 1053,
   "metadata": {},
   "outputs": [
    {
     "name": "stdout",
     "output_type": "stream",
     "text": [
      "<class 'pandas.core.frame.DataFrame'>\n",
      "Int64Index: 30366 entries, 0 to 30960\n",
      "Data columns (total 16 columns):\n",
      "PropertyID               30366 non-null int64\n",
      "ListingDate              30366 non-null object\n",
      "Latitude                 30366 non-null int64\n",
      "Longitude                30366 non-null int64\n",
      "ZipCode                  30366 non-null int64\n",
      "CityName                 30366 non-null object\n",
      "CountyName               30366 non-null object\n",
      "StateName                30366 non-null object\n",
      "CountyListingCoverage    30366 non-null object\n",
      "LeasePriceDollarCnt      30366 non-null float64\n",
      "LeaseTermMonths          30366 non-null int64\n",
      "FinishedSquareFeet       30366 non-null int64\n",
      "Bedrooms                 30363 non-null float64\n",
      "Bathrooms                30366 non-null float64\n",
      "BuiltYear                6530 non-null float64\n",
      "ListingDescription       29226 non-null object\n",
      "dtypes: float64(4), int64(6), object(6)\n",
      "memory usage: 3.9+ MB\n",
      "None\n"
     ]
    }
   ],
   "source": [
    "trulia[[\"LeasePriceDollarCnt\"]] = trulia[[\"LeasePriceDollarCnt\"]].apply(lambda x: x.fillna(x.mean()))\n",
    "\n",
    "#Alternatively I could have also written this code trulia[\"LeasePriceDollarCnt\"].fillna((trulia[\"LeasePriceDollarCnt\"].mean()))\n",
    "\n",
    "print(trulia.info())"
   ]
  },
  {
   "cell_type": "markdown",
   "metadata": {
    "collapsed": true
   },
   "source": [
    "_______\n",
    "\n",
    "Since there are only 3 null values for bedrooms, I can drop the data \n"
   ]
  },
  {
   "cell_type": "code",
   "execution_count": 1054,
   "metadata": {
    "collapsed": true
   },
   "outputs": [],
   "source": [
    "trulia = trulia[trulia['Bedrooms'].notnull()]"
   ]
  },
  {
   "cell_type": "code",
   "execution_count": 1055,
   "metadata": {},
   "outputs": [
    {
     "name": "stdout",
     "output_type": "stream",
     "text": [
      "<class 'pandas.core.frame.DataFrame'>\n",
      "Int64Index: 30363 entries, 0 to 30960\n",
      "Data columns (total 16 columns):\n",
      "PropertyID               30363 non-null int64\n",
      "ListingDate              30363 non-null object\n",
      "Latitude                 30363 non-null int64\n",
      "Longitude                30363 non-null int64\n",
      "ZipCode                  30363 non-null int64\n",
      "CityName                 30363 non-null object\n",
      "CountyName               30363 non-null object\n",
      "StateName                30363 non-null object\n",
      "CountyListingCoverage    30363 non-null object\n",
      "LeasePriceDollarCnt      30363 non-null float64\n",
      "LeaseTermMonths          30363 non-null int64\n",
      "FinishedSquareFeet       30363 non-null int64\n",
      "Bedrooms                 30363 non-null float64\n",
      "Bathrooms                30363 non-null float64\n",
      "BuiltYear                6529 non-null float64\n",
      "ListingDescription       29224 non-null object\n",
      "dtypes: float64(4), int64(6), object(6)\n",
      "memory usage: 3.9+ MB\n"
     ]
    }
   ],
   "source": [
    "trulia.info()"
   ]
  },
  {
   "cell_type": "markdown",
   "metadata": {},
   "source": [
    "\n",
    "___________\n",
    "Built year by far, has the most null values, might be good to see on a historgram the distribution. I want to make an educated decision regarding the null values.  \n"
   ]
  },
  {
   "cell_type": "code",
   "execution_count": 1056,
   "metadata": {},
   "outputs": [
    {
     "name": "stdout",
     "output_type": "stream",
     "text": [
      "The Median Year houses were build in this dataset is 2006.0\n"
     ]
    },
    {
     "data": {
      "image/png": "[encoded data removed]",
      "text/plain": [
       "<matplotlib.figure.Figure at 0x1a33798550>"
      ]
     },
     "metadata": {},
     "output_type": "display_data"
    }
   ],
   "source": [
    "built_year = trulia[trulia['BuiltYear'].notnull()]\n",
    "\n",
    "distplot = sns.distplot(built_year[\"BuiltYear\"])\n",
    "\n",
    "print(\"The Median Year houses were build in this dataset is {}\".format(built_year[\"BuiltYear\"].median()))"
   ]
  },
  {
   "cell_type": "markdown",
   "metadata": {},
   "source": [
    "The data falls within 1940 to present and is skewed to the left.  The median built year is 2006 (wow, lots of new construction!) \n",
    "\n",
    "Since there are a lot of null values. I want to see how important Built year  is to the data set.  "
   ]
  },
  {
   "cell_type": "code",
   "execution_count": 1057,
   "metadata": {
    "collapsed": true
   },
   "outputs": [],
   "source": [
    "trulia_copy = trulia.filter([\"ZipCode\", \"BuiltYear\"])"
   ]
  },
  {
   "cell_type": "code",
   "execution_count": 1058,
   "metadata": {},
   "outputs": [
    {
     "data": {
      "text/html": [
       "<div>\n",
       "<style scoped>\n",
       "    .dataframe tbody tr th:only-of-type {\n",
       "        vertical-align: middle;\n",
       "    }\n",
       "\n",
       "    .dataframe tbody tr th {\n",
       "        vertical-align: top;\n",
       "    }\n",
       "\n",
       "    .dataframe thead th {\n",
       "        text-align: right;\n",
       "    }\n",
       "</style>\n",
       "<table border=\"1\" class=\"dataframe\">\n",
       "  <thead>\n",
       "    <tr style=\"text-align: right;\">\n",
       "      <th></th>\n",
       "      <th>ZipCode</th>\n",
       "      <th>BuiltYear</th>\n",
       "    </tr>\n",
       "  </thead>\n",
       "  <tbody>\n",
       "    <tr>\n",
       "      <th>ZipCode</th>\n",
       "      <td>1.000000</td>\n",
       "      <td>-0.143301</td>\n",
       "    </tr>\n",
       "    <tr>\n",
       "      <th>BuiltYear</th>\n",
       "      <td>-0.143301</td>\n",
       "      <td>1.000000</td>\n",
       "    </tr>\n",
       "  </tbody>\n",
       "</table>\n",
       "</div>"
      ],
      "text/plain": [
       "            ZipCode  BuiltYear\n",
       "ZipCode    1.000000  -0.143301\n",
       "BuiltYear -0.143301   1.000000"
      ]
     },
     "execution_count": 1058,
     "metadata": {},
     "output_type": "execute_result"
    }
   ],
   "source": [
    "trulia_copy.corr()"
   ]
  },
  {
   "cell_type": "code",
   "execution_count": 1059,
   "metadata": {},
   "outputs": [
    {
     "data": {
      "text/plain": [
       "<seaborn.axisgrid.FacetGrid at 0x1a327c2588>"
      ]
     },
     "execution_count": 1059,
     "metadata": {},
     "output_type": "execute_result"
    },
    {
     "data": {
      "image/png": "[encoded data removed]",
      "text/plain": [
       "<matplotlib.figure.Figure at 0x1a3393ce80>"
      ]
     },
     "metadata": {},
     "output_type": "display_data"
    }
   ],
   "source": [
    "sns.lmplot(\"ZipCode\", \"BuiltYear\", data = trulia_copy)\n"
   ]
  },
  {
   "cell_type": "markdown",
   "metadata": {
    "collapsed": true
   },
   "source": [
    "This tells me that there's no meaningful relationship between zipcode and built year, which is surpriseing considering how i thought development occured in the DC metro area"
   ]
  },
  {
   "cell_type": "code",
   "execution_count": 1060,
   "metadata": {},
   "outputs": [
    {
     "data": {
      "text/plain": [
       "<seaborn.axisgrid.FacetGrid at 0x1a33a787f0>"
      ]
     },
     "execution_count": 1060,
     "metadata": {},
     "output_type": "execute_result"
    },
    {
     "data": {
      "image/png": "[encoded data removed]",
      "text/plain": [
       "<matplotlib.figure.Figure at 0x1a328f5e48>"
      ]
     },
     "metadata": {},
     "output_type": "display_data"
    }
   ],
   "source": [
    "trulia_copy = trulia.filter([\"BuiltYear\", \"LeasePriceDollarCnt\"])\n",
    "trulia_copy.corr()\n",
    "\n",
    "sns.lmplot(\"LeasePriceDollarCnt\", \"BuiltYear\", data = trulia_copy)"
   ]
  },
  {
   "cell_type": "markdown",
   "metadata": {},
   "source": [
    "I think at this point it's just time to drop the column Built Year :( \n",
    "\n",
    "I really dislike having to drop data, but there are just so many null values in this column, it's best to just drop the column. "
   ]
  },
  {
   "cell_type": "code",
   "execution_count": 1061,
   "metadata": {
    "collapsed": true
   },
   "outputs": [],
   "source": [
    "trulia.drop(\"BuiltYear\", axis=1, inplace=True)"
   ]
  },
  {
   "cell_type": "code",
   "execution_count": 1062,
   "metadata": {},
   "outputs": [
    {
     "data": {
      "text/plain": [
       "Index(['PropertyID', 'ListingDate', 'Latitude', 'Longitude', 'ZipCode', 'CityName', 'CountyName', 'StateName', 'CountyListingCoverage', 'LeasePriceDollarCnt', 'LeaseTermMonths', 'FinishedSquareFeet', 'Bedrooms', 'Bathrooms', 'ListingDescription'], dtype='object')"
      ]
     },
     "execution_count": 1062,
     "metadata": {},
     "output_type": "execute_result"
    }
   ],
   "source": [
    "trulia.columns"
   ]
  },
  {
   "cell_type": "code",
   "execution_count": 1063,
   "metadata": {},
   "outputs": [
    {
     "name": "stdout",
     "output_type": "stream",
     "text": [
      "<class 'pandas.core.frame.DataFrame'>\n",
      "Int64Index: 30363 entries, 0 to 30960\n",
      "Data columns (total 15 columns):\n",
      "PropertyID               30363 non-null int64\n",
      "ListingDate              30363 non-null object\n",
      "Latitude                 30363 non-null int64\n",
      "Longitude                30363 non-null int64\n",
      "ZipCode                  30363 non-null int64\n",
      "CityName                 30363 non-null object\n",
      "CountyName               30363 non-null object\n",
      "StateName                30363 non-null object\n",
      "CountyListingCoverage    30363 non-null object\n",
      "LeasePriceDollarCnt      30363 non-null float64\n",
      "LeaseTermMonths          30363 non-null int64\n",
      "FinishedSquareFeet       30363 non-null int64\n",
      "Bedrooms                 30363 non-null float64\n",
      "Bathrooms                30363 non-null float64\n",
      "ListingDescription       29224 non-null object\n",
      "dtypes: float64(3), int64(6), object(6)\n",
      "memory usage: 5.0+ MB\n"
     ]
    }
   ],
   "source": [
    "trulia.info()"
   ]
  },
  {
   "cell_type": "markdown",
   "metadata": {
    "collapsed": true
   },
   "source": [
    "________\n",
    "\n",
    "Now time to deal with the Listing Description.  Since this is the column I am going to be utilizng to use to find \"English Bedrooms\" , I think it's fair to say I can drop all the records with no listing description "
   ]
  },
  {
   "cell_type": "code",
   "execution_count": 1064,
   "metadata": {
    "collapsed": true
   },
   "outputs": [],
   "source": [
    "trulia = trulia[trulia['ListingDescription'].notnull()]"
   ]
  },
  {
   "cell_type": "code",
   "execution_count": 1065,
   "metadata": {},
   "outputs": [
    {
     "name": "stdout",
     "output_type": "stream",
     "text": [
      "<class 'pandas.core.frame.DataFrame'>\n",
      "Int64Index: 29224 entries, 0 to 30960\n",
      "Data columns (total 15 columns):\n",
      "PropertyID               29224 non-null int64\n",
      "ListingDate              29224 non-null object\n",
      "Latitude                 29224 non-null int64\n",
      "Longitude                29224 non-null int64\n",
      "ZipCode                  29224 non-null int64\n",
      "CityName                 29224 non-null object\n",
      "CountyName               29224 non-null object\n",
      "StateName                29224 non-null object\n",
      "CountyListingCoverage    29224 non-null object\n",
      "LeasePriceDollarCnt      29224 non-null float64\n",
      "LeaseTermMonths          29224 non-null int64\n",
      "FinishedSquareFeet       29224 non-null int64\n",
      "Bedrooms                 29224 non-null float64\n",
      "Bathrooms                29224 non-null float64\n",
      "ListingDescription       29224 non-null object\n",
      "dtypes: float64(3), int64(6), object(6)\n",
      "memory usage: 3.6+ MB\n"
     ]
    }
   ],
   "source": [
    "trulia.info()"
   ]
  },
  {
   "cell_type": "markdown",
   "metadata": {
    "collapsed": true
   },
   "source": [
    "_________\n",
    "\n",
    "### 3. Identify \"English Basements\"\n",
    "\n",
    "There are a few ways of finding \"English basements\" in the ListingDescription column. \n",
    "\n",
    "1. Regular Expressions / RegEX \n",
    "\n",
    "2. string method str.extract\n",
    "\n",
    "3. string method str.contains \n",
    "\n"
   ]
  },
  {
   "cell_type": "markdown",
   "metadata": {},
   "source": [
    "#### Regular Expressions \n",
    "\n",
    "Regular expressings allow you to enter a string of spefified characters that allow you to look for a pattern in text data.  \n",
    "\n",
    "\\d --> any digit [0 - 9]\n",
    "\n",
    "\\D --> non digit \n",
    "\n",
    "\\s --> white space character , tab, space, new line, return \n",
    "\n",
    "\\S --> non white space character \n",
    "\n",
    "\\w --> any alpha numeric chaeracter [a - z ; A - Z, 0 - 9]\n",
    "\n",
    "\\W --> any non alpha numerica character [*, @ ,# ,$, % etc]\n",
    "                                         \n",
    "                                        __________________\n",
    "                                      \n",
    ".  --> matches any character \n",
    "\n",
    "^ --> matches start of string \n",
    "\n",
    "$ --> matches end of string\n",
    "\n",
    "* --> matches repitions for instance \"bc*\" matches \"b\", \"bc\" or \"bcccccccccccc\"\n",
    "\n",
    "+ --> matches 1 or more of characters for istance \"bc+\" matches \"b\" and then any number of \"c\"s\n",
    "\n",
    "? --> matches 0 or 1 repition \"bc?\" matches \"b\" or \"bc\"\n",
    "\n",
    "\n",
    "###### there's a lot more but these are just the basics that I will use ... regex is fun, complex, and a lot at times! \n",
    "\n",
    "(source: https://zeroturnaround.com/rebellabs/java-regular-expressions-cheat-sheet/) \n",
    "\n",
    "                                        __________________\n",
    "\n",
    "\n",
    "I am looking for \"English Basements\" \n",
    "\n",
    "--> English Basement\n",
    "\n",
    "\n",
    "\n",
    "(E|e).\\w+\\s(B|b).\\w+(ment)\n",
    "\n",
    "\n",
    "--> basement \n",
    "\n",
    "\n",
    "\n",
    "(B|b)asement\n",
    "\n",
    "\n"
   ]
  },
  {
   "cell_type": "code",
   "execution_count": 1066,
   "metadata": {},
   "outputs": [
    {
     "name": "stdout",
     "output_type": "stream",
     "text": [
      "Creating a regular expression to pull 'basement' from the ListingDescrition column yeilded 6874 records\n"
     ]
    }
   ],
   "source": [
    "\n",
    "\n",
    "\n",
    "basements = trulia[trulia.ListingDescription.str.contains(r\"[B|b]asement\")]\n",
    "\n",
    "print (\"Creating a regular expression to pull 'basement' from the ListingDescrition column yeilded {} records\"\n",
    "       .format(basements.shape[0]))\n",
    "\n"
   ]
  },
  {
   "cell_type": "code",
   "execution_count": 1067,
   "metadata": {},
   "outputs": [
    {
     "data": {
      "text/plain": [
       "42    $1975 spacious 1 BR 1 BA apartment available beginning June 1st. \\r\\n\\r\\nLOCATION! LOCATION! LOCATION! \\r\\n\\r\\nThis sunny and bright condo is located on the 6th floor of a beautiful art deco building called The Bader, at 2515 K Street. Centrally located in Foggy Bottom; 2 minute walk to the metro (orange/blue/silver line), George Washington University, World Bank, State Department, Georgetown, Georgetown Harbor, AMC Movie Theatre, Trader Joes, Whole Foods, restaurants, bars and the 30N, 30S, 31, 38B, L1 and L3 bus stops, and the Circulator Bus. \\r\\n\\r\\nRent includes all utilities as well as extra storage in the basement with a bike room to store your bike as well. Amenities in the building include a beautiful courtyard with tables and bbq grills, a large laundry room and an expansive roof deck with incredible views of Georgetown and the Potomac River. No parking spot available with building. Courtyard and rooftop deck are available for private reservations without a fee! \\r\\n\\r\\nBest part of living in this apartment, you get the best landlords in town! \\r\\n\\r\\n$2,000 1 month security deposit required before move in and 1 year signing of lease. \\r\\n\\r\\nAccording to the Washingtonian's April 2016 edition, in an article titled \"This Is The Insane Cost of Off-Campus Housing in DC\", the average rent in the GW area runs around $4,100 a month and in Georgetown, you are looking $3,012 a month. So $1,985 a month at The Bader is a steal! Don't wait too long to inquire about this place. Affordable apartments in this part of town are incredibly hard to come by!\n",
       "48                                                                                                                                                                                                                                                                                                                                                                                                                                                                                                                                                                                                                                                                                                                                                                                                                                                                                                                                                                                                                                                                                                                                                                                                                                                                                                                                         1010 25th St. NW #211 (The Swarthmore)\\r\\nLocated minutes from GW University and Foggy Bottom metro station.\\r\\nAll utilities included (tenant responsible for internet). Coin-operated washers and dryers in the basement.\\r\\nNo smoking or pets allowed in the building. One year minimum lease.\n",
       "49                                                                                                                                                                                                                                                                                                                                                                                                                                                                                                         2-bedroom furnished apartment in Foggy Bottom / West End area (25th and K St NW) with garage parking.  Available now.  Two blocks to Foggy Bottom metro, one block to Trader Joe's, three blocks to Whole Foods, GW School of Medicine, and GW Hospital.  Walking distance to Dupont circle, IMF, World Bank, Kennedy Center, White House, etc.\\r\\n\\r\\nOne parking spot in secure basement garage is included.  Additional spots are usually available to rent.  Roof deck with views of Georgetown, Potomac, and Virginia.  One bedroom is fully furnished, second bedroom furnished upon request.  Additional furniture is available; alternatively, existing furniture can be removed if desired.\\r\\n\\r\\nFully furnished new, high-end kitchen.  Stocked kitchen includes plates, glasses, silverware, and cooking equipment (removed upon request).  In-unit washer/dryer.  Water/trash/sewer included.  Pass-through billing for electrical and cable/internet available.  One-year lease preferred but negotiable.\\r\\n\\r\\nLocation: 2501 K St. Washington, DC 20037\\r\\nSize. 750ft2\\r\\nNo smoking\\r\\nCats ok\\r\\nRent: $2,950\n",
       "67                                                                                                                                                                                                                                                                                                                                                                                                                                                                                                                                                                                                                                                                                                                                                                                                                                                                                                                                                                                                                                                                                                                                                                                                                                                                                                                 Four Br, 2 Ba, 1,120 sq ft, roof deck, storage basement. \\r\\nShort walk to Metro, GWU, Kennedy Center, shops, restaurants. \\r\\n$5.875, one year or longer lease; $5,000 security deposit, electricity not included, covered parking $285 additional  Open 1-4 Sat,Sun, & Mon May 27,28,29.\\r\\n\\r\\nElectricity not included\n",
       "70                                                                  SPECIAL DEAL! Rent reduced to $2100/mo and all utilities included if you sign a lease by May 15th! ACT NOW! \\r\\n\\r\\nOpen house Saturday 5/9 & Sunday 5/10 2-4pm\\r\\n\\r\\nThe Residence\\r\\nRenovated Foggy Bottom Apartment with all utilities included! Deceptively large condo with brand new kitchen, updated bathroom, and wood floors. Wall-to-wall insulated windows offer ample sunshine and fresh breezes. Whip up a tasty treat in the renovated kitchen, featuring granite countertops, glass tile backsplash, track lighting, and SS appliances. Bedroom is complete with wall of windows and over 12 feet of closet space. Custom built-ins keep everything organized. Need more space to stash your belongings? There is a 6'x3' storage space in the basement. An updated bathroom with new vanity, mirrors, and lighting will help you start your day on the right foot. Enjoy the outdoor pool in the dog days of summer! Parking is available for $200/month.\\r\\n\\r\\nThe Neighborhood\\r\\nBest of locations! Easy to live car-free with Foggy Bottom Metro just a block away. Close by retail and restaurants with easy access to Georgetown, Kennedy Center, and downtown. 1 block to Whole Foods. Trader Joe's is minutes away. Easy access to IMF, World Bank, State Department and GWU.\\r\\n\\r\\n- Property is available as unfurnished - No Pets - No smoking - Renter's insurance required - Utilities included in rent\\r\\n\\r\\n- Property is available as unfurnished - Pets OK - No smoking - Renter's insurance required - Utilities included in rent.\n",
       "Name: ListingDescription, dtype: object"
      ]
     },
     "execution_count": 1067,
     "metadata": {},
     "output_type": "execute_result"
    }
   ],
   "source": [
    "basements[\"ListingDescription\"].head()"
   ]
  },
  {
   "cell_type": "markdown",
   "metadata": {},
   "source": [
    "Looking at the results that Basement pulled makes me think it's bit too broad...Time to narrow down the expression to capture only what's really an english basment."
   ]
  },
  {
   "cell_type": "code",
   "execution_count": 1068,
   "metadata": {},
   "outputs": [
    {
     "name": "stdout",
     "output_type": "stream",
     "text": [
      "Creating a regular expression to pull 'basement' from the ListingDescrition column yeilded 1104 records\n"
     ]
    }
   ],
   "source": [
    "\n",
    "\n",
    "english_basement = trulia[trulia.ListingDescription.str.contains(r'(E|e).\\w+\\s(B|b).\\w+(ment)')]\n",
    "\n",
    "print (\"Creating a regular expression to pull 'basement' from the ListingDescrition column yeilded {} records\"\n",
    "       .format(english_basement.shape[0]))\n",
    "\n",
    "\n"
   ]
  },
  {
   "cell_type": "code",
   "execution_count": 1069,
   "metadata": {},
   "outputs": [
    {
     "data": {
      "text/plain": [
       "49    2-bedroom furnished apartment in Foggy Bottom / West End area (25th and K St NW) with garage parking.  Available now.  Two blocks to Foggy Bottom metro, one block to Trader Joe's, three blocks to Whole Foods, GW School of Medicine, and GW Hospital.  Walking distance to Dupont circle, IMF, World Bank, Kennedy Center, White House, etc.\\r\\n\\r\\nOne parking spot in secure basement garage is included.  Additional spots are usually available to rent.  Roof deck with views of Georgetown, Potomac, and Virginia.  One bedroom is fully furnished, second bedroom furnished upon request.  Additional furniture is available; alternatively, existing furniture can be removed if desired.\\r\\n\\r\\nFully furnished new, high-end kitchen.  Stocked kitchen includes plates, glasses, silverware, and cooking equipment (removed upon request).  In-unit washer/dryer.  Water/trash/sewer included.  Pass-through billing for electrical and cable/internet available.  One-year lease preferred but negotiable.\\r\\n\\r\\nLocation: 2501 K St. Washington, DC 20037\\r\\nSize. 750ft2\\r\\nNo smoking\\r\\nCats ok\\r\\nRent: $2,950\n",
       "Name: ListingDescription, dtype: object"
      ]
     },
     "execution_count": 1069,
     "metadata": {},
     "output_type": "execute_result"
    }
   ],
   "source": [
    "english_basement[\"ListingDescription\"].head(1)"
   ]
  },
  {
   "cell_type": "markdown",
   "metadata": {},
   "source": [
    "I am going to inspect some of the ListingDescriptions from both english_basement and basement to see which one is more accurate to the needs of the challenge and the analysis."
   ]
  },
  {
   "cell_type": "code",
   "execution_count": 1071,
   "metadata": {},
   "outputs": [
    {
     "data": {
      "text/plain": [
       "49     2-bedroom furnished apartment in Foggy Bottom / West End area (25th and K St NW) with garage parking.  Available now.  Two blocks to Foggy Bottom metro, one block to Trader Joe's, three blocks to Whole Foods, GW School of Medicine, and GW Hospital.  Walking distance to Dupont circle, IMF, World Bank, Kennedy Center, White House, etc.\\r\\n\\r\\nOne parking spot in secure basement garage is included.  Additional spots are usually available to rent.  Roof deck with views of Georgetown, Potomac, and Virginia.  One bedroom is fully furnished, second bedroom furnished upon request.  Additional furniture is available; alternatively, existing furniture can be removed if desired.\\r\\n\\r\\nFully furnished new, high-end kitchen.  Stocked kitchen includes plates, glasses, silverware, and cooking equipment (removed upon request).  In-unit washer/dryer.  Water/trash/sewer included.  Pass-through billing for electrical and cable/internet available.  One-year lease preferred but negotiable.\\r\\n\\r\\nLocation: 2501 K St. Washington, DC 20037\\r\\nSize. 750ft2\\r\\nNo smoking\\r\\nCats ok\\r\\nRent: $2,950\n",
       "180                                                                                                                                                                                                                                                                                                                                      Spacious 860 square foot large 1 bedroom apartment in a beautiful historic row house on a quiet residential street in Dupont Circle. Large sunny kitchen with lots of cabinets and space for a bistro table, dining room, living room, bedroom, 3 spacious closets, dishwasher and washer/dryer, central air, cable ready, private entry and access to beautiful front garden from this lovely English basement apartment. Steps to restaurants, shopping and Dupont Circle metro (red line), perfectly located at 21st and O Streets, NW. \\r\\n\\r\\n$2,095 per month plus electricity and security deposit\\r\\nApartment is unfurnished and available April 1st. \\r\\nSorry NS/No pets\\r\\nPlease contact us for an appointment.\\r\\n\\r\\nTenant responsible for electric and any phone/cable service.\n",
       "184                                                                                                                                                                                                                                                                                                                                                                                                                                                                                                                                                                                                                                                                                                                                                                                                                            Fully furnished 2-Room modern English Basement. Private entrance. \"Move in\" condition. Everything from silverware to linens, appliances and a 32\" HDTV are supplied. Utilities, WiFi and sharing of W/D are included. Call me to schedule an appointment: Donna\\r\\n\\r\\nIncludes all utilities and Internet\n",
       "418                                                                                                                                                                                                                                                                                                                                                                                                                                                                                                                                                                                                                                                                                                                                                                                                                                               DUPONT CIRCLE VICTORIAN!! Elegant architect-designed English basement in historic district on a wonderful street. Close to hundreds of cafes and bars. Excellent bus and Metro access. High ceilings, three huge rooms plus cubbbyhole for office or walk-in closet. Parking available.\n",
       "419                                                                                                                                                                                                                                                                                                                                                                                                                                                                                                  Lovely 2 bed 2 full bath basement apartment with access to large, private and shared backyard (with only 1 other apt). Entire basement of 1895 brownstone, lovingly restored, in the heart of Dupont -- 17th Street! A beautiful space, very good light - windows in all rooms. Modern amenities and Victorian grace: 1000+ square feet, washer/dryer, dishwasher, central heat/ac, plenty of storage, wood floors. Wired for cable, high-speed Internet and DirecTV.  Across from 2 parks, down the street from Safeway, Trade Joe's, great restaurants, shops and clubs. Close to two Metros (Dupont and U Street). Available now!\n",
       "439                                                                                                                                                                                                                                                                                                                                                                                                                                                                                                                                                                                                                                                                                                                                                                                                                                                      Live in the heart of Dupont Circle, steps to metro and entertainment in this 1 bedroom English basement in a Victorian rowhouse.  All utilities are included, even Internet and cable.  Renovated kitchen and bath, in-unit w/d, fireplace!  Available furnished or unfurnished.\n",
       "Name: ListingDescription, dtype: object"
      ]
     },
     "execution_count": 1071,
     "metadata": {},
     "output_type": "execute_result"
    }
   ],
   "source": [
    "pd.set_option('display.width', 1000)\n",
    "pd.set_option('display.max_colwidth', 2000)\n",
    "english_basement[\"ListingDescription\"].head(6)"
   ]
  },
  {
   "cell_type": "markdown",
   "metadata": {
    "collapsed": true
   },
   "source": [
    "___________________\n",
    "\n",
    "It looks like I can add a regular expression for basement apartment as well and then create a new dataframe that features, english basements and basement apartments.  "
   ]
  },
  {
   "cell_type": "code",
   "execution_count": 1072,
   "metadata": {},
   "outputs": [
    {
     "name": "stdout",
     "output_type": "stream",
     "text": [
      "Creating a regular expression to pull 'basement' from the ListingDescrition column yeilded 26 records\n"
     ]
    }
   ],
   "source": [
    "basement_apartment = trulia[trulia.ListingDescription.str.contains(r'(B|b).\\w+(ment)\\s(A|p).\\w+(ment)')]\n",
    "\n",
    "print (\"Creating a regular expression to pull 'basement' from the ListingDescrition column yeilded {} records\"\n",
    "       .format(basement_apartment.shape[0]))"
   ]
  },
  {
   "cell_type": "code",
   "execution_count": 1073,
   "metadata": {},
   "outputs": [
    {
     "data": {
      "text/plain": [
       "527     Open house Sunday, August 2 from 1 - 3 PM.\\r\\n\\r\\nReduced rent! $1,890 per month plus utilities. Available for move in beginning August 15th. Charming One Bedroom Renovated English Basement Apartment in the 1700 Block of Church Street, NW. Modern Kitchen with Dishwasher and Microwave. Washer-Dryer in the apartment. Separate entrances front and back. Plenty of closet space including large walk-in closet/storage room. Alcove in apt for a small office area. Ceramic tile floors throughout. Brand new Samsung washer just installed. Security bars and ADT security system.\\r\\n\\r\\nMany amenities a short walk away including: \\r\\n\\r\\n5 minutes to Dupont Circle Metro\\r\\n3 minutes to Safeway and CVS\\r\\n6 minutes to Whole Foods\\r\\n4 minutes to the JCC\\r\\n8 minutes to National Capitol YMCA\\r\\nMinutes to a vast selection of restaurants, bars, cleaners, etc on 17th Street, 14th Street, P Street and Connecticut Avenue\\r\\n30 seconds to newly renovated Keegan Theater across the street\\r\\n3 minutes to hardware store\\r\\n6 minutes to Metropole's Vida Fitness Center\\r\\n3-10 minutes to more than a half dozen yoga studios\\r\\n10-20 minutes to DC's central business district, White House and Federal Office Buildings.\\r\\n\\r\\n- Parking available at an additional charge of $190/month (right behind the house).\\r\\n- Your Lease will expire August 31, 2016.\\r\\n- Sorry, no pets and no smoking please.\\r\\n\\r\\nLease ends August 31, 2016. There will be a $25 application fee per person.\n",
       "1422                                                                                                                                                                                                                                                                                                                                                                                                                                                                                                                                                                                                                                                                                                                                                                                                                                                                                                                                                                                                                                                                                                                                                                                                                                                                                                                                                    1 BR Sunny, Modern English Basement Apartment in turn of the century row house 1-1/2 blocks to Eastern Mkt Metro.  Walking distance to work, grocery, restaurants, and more.\n",
       "1626                                                                                                                                                                                                                                                                                                                                                                                                                                                                                                                                                                                                                                                                                                                                                                                                                                                                                                                                                                                         ALL UTILITIES INCLUDED (Water Gas Electric)* Fabulous Nice & Bright 1-Bedroom/1-Bath Basement Apartment with Stone Tile Flooring ThruOut BRICK WALL ACCENTS IN LIVING ROOM Kitchen Bar APPROX 700 SQ FT Close to 3-Metro Rail Stations Washer/Dryer Gallaudet Univ Shopping Restaurants \"H\" St Corridor Trolley BUS STOP AT CORNER Close to Union Station\\r\\n**Monthly rent is $1,395 including Water/Electric/Gas\\r\\n**1 year lease minimum\\r\\n**No SMOKING\\r\\n**No PETS\\r\\nwww.davisinternationalrealestate.com\\r\\n\\r\\n12 MONTH LEASE\n",
       "1771                                                                                                                                                                                                                                                                                                                                                                                                                                                                                                                                                                                                                                                                                                                                                                                                                                                                                                                                                                                                                                                                                                                                     One bedroom, one bath, English Basement Apartment centrally located on a tree-lined street on Capitol Hill, Washington D.C.  Steps from the bustling H street corridor. On a Metro bus route and walking distance to Union Station. Washer/Dryer, Central Air, dishwasher, carpet, nearby restaurants.  No pets. No smoking please.  $1575 per month plus utilities. Available immediately.\n",
       "Name: ListingDescription, dtype: object"
      ]
     },
     "execution_count": 1073,
     "metadata": {},
     "output_type": "execute_result"
    }
   ],
   "source": [
    "basement_apartment[\"ListingDescription\"].head(4)"
   ]
  },
  {
   "cell_type": "code",
   "execution_count": 1074,
   "metadata": {},
   "outputs": [],
   "source": [
    "english_basements_df = pd.concat([english_basement,basement_apartment]).drop_duplicates().reset_index(drop=True)"
   ]
  },
  {
   "cell_type": "code",
   "execution_count": 1075,
   "metadata": {},
   "outputs": [
    {
     "data": {
      "text/plain": [
       "1113"
      ]
     },
     "execution_count": 1075,
     "metadata": {},
     "output_type": "execute_result"
    }
   ],
   "source": [
    "english_basements_df.shape[0]\n"
   ]
  },
  {
   "cell_type": "markdown",
   "metadata": {
    "collapsed": true
   },
   "source": [
    "____________________\n",
    "The new dataframe that features \"basement apartments\" and \"english basements\" has 1113 records.  "
   ]
  },
  {
   "cell_type": "markdown",
   "metadata": {},
   "source": [
    "### 4. Exploratory Data Analysis \n",
    "\n",
    "In my exploratory data analysis phase, I am going to be looking at different parts of the data for the challenge (and to showcase some my skills)."
   ]
  },
  {
   "cell_type": "code",
   "execution_count": 1076,
   "metadata": {},
   "outputs": [
    {
     "name": "stdout",
     "output_type": "stream",
     "text": [
      "<class 'pandas.core.frame.DataFrame'>\n",
      "Int64Index: 29224 entries, 0 to 30960\n",
      "Data columns (total 15 columns):\n",
      "PropertyID               29224 non-null int64\n",
      "ListingDate              29224 non-null object\n",
      "Latitude                 29224 non-null int64\n",
      "Longitude                29224 non-null int64\n",
      "ZipCode                  29224 non-null int64\n",
      "CityName                 29224 non-null object\n",
      "CountyName               29224 non-null object\n",
      "StateName                29224 non-null object\n",
      "CountyListingCoverage    29224 non-null object\n",
      "LeasePriceDollarCnt      29224 non-null float64\n",
      "LeaseTermMonths          29224 non-null int64\n",
      "FinishedSquareFeet       29224 non-null int64\n",
      "Bedrooms                 29224 non-null float64\n",
      "Bathrooms                29224 non-null float64\n",
      "ListingDescription       29224 non-null object\n",
      "dtypes: float64(3), int64(6), object(6)\n",
      "memory usage: 3.6+ MB\n"
     ]
    }
   ],
   "source": [
    "trulia.info()"
   ]
  },
  {
   "cell_type": "code",
   "execution_count": 1077,
   "metadata": {},
   "outputs": [
    {
     "data": {
      "text/plain": [
       "Text(0.5,1,'Correlation')"
      ]
     },
     "execution_count": 1077,
     "metadata": {},
     "output_type": "execute_result"
    },
    {
     "data": {
      "image/png": "[encoded data removed]",
      "text/plain": [
       "<matplotlib.figure.Figure at 0x1a35858c88>"
      ]
     },
     "metadata": {},
     "output_type": "display_data"
    }
   ],
   "source": [
    "#I am going to drop all the object columns to see the correlation between different parts of the data set \n",
    "\n",
    "trulia_correlation = trulia.filter([\"Latitude\", \"Longitutde\", \"ZipCode\",\\\n",
    "                      \"LeasePriceDollarCnt\", \"LeaseTermMonths\", \\\n",
    "                      \"FinishedSquareFeet\", \"Bedrooms\", \"Bathrooms\"])\n",
    "\n",
    "plt.figure(figsize = (19, 8))\n",
    "sns.heatmap(trulia_correlation.corr(), cmap=\"Purples\", annot=True).set_title(\"Correlation\")\n",
    "\n"
   ]
  },
  {
   "cell_type": "markdown",
   "metadata": {},
   "source": [
    "By looking at the coorelation matrix I can see that Bathrooms, Bedrooms and FinishedSquareFeet are correlated.  \n",
    "\n",
    "I can also see that LeasePriceDollarCnt only mildly is correlated to Bathrooms, Bedrooms and FinishedSquareFeet. \n"
   ]
  },
  {
   "cell_type": "code",
   "execution_count": 1078,
   "metadata": {},
   "outputs": [
    {
     "name": "stdout",
     "output_type": "stream",
     "text": [
      "The average amount of Bathrooms is 2.16\n",
      "\n",
      "The average amount of Bedrooms is 2.57\n",
      "\n",
      "The average square feet of properties is 1456.52 sq ft\n",
      "\n",
      "The price expected to pay for lease per rental per month is $2266.87\n"
     ]
    }
   ],
   "source": [
    "average_bathrooms = round(trulia.Bathrooms.mean(),2)\n",
    "average_bedrooms = round(trulia.Bedrooms.mean(),2)\n",
    "average_sq_ft = round(trulia.FinishedSquareFeet.mean(),2)\n",
    "average_lease = round(trulia.LeasePriceDollarCnt.mean(), 2)\n",
    "\n",
    "print (\"The average amount of Bathrooms is {}\".format(average_bathrooms))\n",
    "print()\n",
    "print (\"The average amount of Bedrooms is {}\".format(average_bedrooms))\n",
    "print()\n",
    "print (\"The average square feet of properties is {} sq ft\".format(average_sq_ft))\n",
    "print()\n",
    "print (\"The price expected to pay for lease per rental per month is ${}\".format(average_lease))"
   ]
  },
  {
   "cell_type": "code",
   "execution_count": 1079,
   "metadata": {},
   "outputs": [
    {
     "data": {
      "image/png": "[encoded data removed]",
      "text/plain": [
       "<matplotlib.figure.Figure at 0x1a3380c6a0>"
      ]
     },
     "metadata": {},
     "output_type": "display_data"
    }
   ],
   "source": [
    "\n",
    "with sns.axes_style('white'):\n",
    "    sns.jointplot(x = \"Bedrooms\", y = \"Bathrooms\", data = trulia, kind='reg')"
   ]
  },
  {
   "cell_type": "markdown",
   "metadata": {},
   "source": [
    "There is an obvious relationship between Bedrooms and Bathrooms.  Having worked with a few housing datasets, I know that\n",
    "occasionally this can be seen a multicollinearity problem.  That is to say that these two features or variables are highly correlated. \n",
    "When conducting regression, you want to be very careful about having these types of features in the same model."
   ]
  },
  {
   "cell_type": "code",
   "execution_count": null,
   "metadata": {
    "collapsed": true
   },
   "outputs": [],
   "source": []
  },
  {
   "cell_type": "markdown",
   "metadata": {},
   "source": [
    "\n",
    "______________\n",
    "\n",
    "It's some times helpful to look at the distribution of data to get a better understanding of the data. \n",
    "\n",
    "I'd like to see Lease price in particular "
   ]
  },
  {
   "cell_type": "code",
   "execution_count": 1080,
   "metadata": {},
   "outputs": [
    {
     "data": {
      "text/plain": [
       "<matplotlib.figure.Figure at 0x1a345dd358>"
      ]
     },
     "metadata": {},
     "output_type": "display_data"
    },
    {
     "data": {
      "image/png": "[encoded data removed]",
      "text/plain": [
       "<matplotlib.figure.Figure at 0x1a345dd9b0>"
      ]
     },
     "metadata": {},
     "output_type": "display_data"
    }
   ],
   "source": [
    "sns.set(style=\"ticks\")\n",
    "\n",
    "plt.figure(figsize = (19, 8))\n",
    "f, (ax_box, ax_hist) = plt.subplots(2, sharex=True, gridspec_kw={\"height_ratios\": (.3, .5)})\n",
    " \n",
    "\n",
    "sns.boxplot(trulia[\"LeasePriceDollarCnt\"], ax=ax_box);\n",
    "sns.distplot(trulia[\"LeasePriceDollarCnt\"], ax=ax_hist);\n",
    " \n",
    "\n",
    "ax_box.set(xlabel='Lease Price');\n"
   ]
  },
  {
   "cell_type": "code",
   "execution_count": 1081,
   "metadata": {},
   "outputs": [
    {
     "data": {
      "image/png": "[encoded data removed]",
      "text/plain": [
       "<matplotlib.figure.Figure at 0x1a33d162b0>"
      ]
     },
     "metadata": {},
     "output_type": "display_data"
    }
   ],
   "source": [
    "plt.figure(figsize = (30, 8))\n",
    "zipcode_count = sns.countplot(data=trulia, x=\"ZipCode\")"
   ]
  },
  {
   "cell_type": "markdown",
   "metadata": {},
   "source": [
    "### 5. Explore relationship of \"English Basements\" in terms of price and location \n",
    "\n",
    "Below I will replicate the same EDA that occured for the original data set but this time for  the english basement dataset.  "
   ]
  },
  {
   "cell_type": "code",
   "execution_count": 1082,
   "metadata": {},
   "outputs": [
    {
     "name": "stdout",
     "output_type": "stream",
     "text": [
      "<class 'pandas.core.frame.DataFrame'>\n",
      "RangeIndex: 1113 entries, 0 to 1112\n",
      "Data columns (total 15 columns):\n",
      "PropertyID               1113 non-null int64\n",
      "ListingDate              1113 non-null object\n",
      "Latitude                 1113 non-null int64\n",
      "Longitude                1113 non-null int64\n",
      "ZipCode                  1113 non-null int64\n",
      "CityName                 1113 non-null object\n",
      "CountyName               1113 non-null object\n",
      "StateName                1113 non-null object\n",
      "CountyListingCoverage    1113 non-null object\n",
      "LeasePriceDollarCnt      1113 non-null float64\n",
      "LeaseTermMonths          1113 non-null int64\n",
      "FinishedSquareFeet       1113 non-null int64\n",
      "Bedrooms                 1113 non-null float64\n",
      "Bathrooms                1113 non-null float64\n",
      "ListingDescription       1113 non-null object\n",
      "dtypes: float64(3), int64(6), object(6)\n",
      "memory usage: 130.5+ KB\n"
     ]
    }
   ],
   "source": [
    "english_basements_df.info()"
   ]
  },
  {
   "cell_type": "code",
   "execution_count": 1083,
   "metadata": {},
   "outputs": [
    {
     "data": {
      "text/plain": [
       "Text(0.5,1,'Correlation')"
      ]
     },
     "execution_count": 1083,
     "metadata": {},
     "output_type": "execute_result"
    },
    {
     "data": {
      "image/png": "[encoded data removed]",
      "text/plain": [
       "<matplotlib.figure.Figure at 0x1a344864e0>"
      ]
     },
     "metadata": {},
     "output_type": "display_data"
    }
   ],
   "source": [
    "\n",
    "english_basement_correlation = english_basements_df.filter([\"Latitude\", \"Longitutde\", \"ZipCode\",\\\n",
    "                      \"LeasePriceDollarCnt\", \"LeaseTermMonths\", \\\n",
    "                      \"FinishedSquareFeet\", \"Bedrooms\", \"Bathrooms\"])\n",
    "\n",
    "plt.figure(figsize = (19, 8))\n",
    "cmap = sns.cubehelix_palette(light=1, as_cmap=True)\n",
    "sns.heatmap(english_basement_correlation.corr(), cmap=cmap, annot=True).set_title(\"Correlation\")\n",
    "\n"
   ]
  },
  {
   "cell_type": "markdown",
   "metadata": {
    "collapsed": true
   },
   "source": [
    "The correlations between the original dataset and the new dataset that features english basements looks the same.  \n",
    "\n",
    "\n"
   ]
  },
  {
   "cell_type": "code",
   "execution_count": 1084,
   "metadata": {},
   "outputs": [
    {
     "name": "stdout",
     "output_type": "stream",
     "text": [
      "The average amount of Bathrooms is 2.25\n",
      "\n",
      "The average amount of Bedrooms is 2.7\n",
      "\n",
      "The average square feet of properties is 1537.41 sq ft\n",
      "\n",
      "The price expected to pay for lease per rental per month is $2431.46\n"
     ]
    }
   ],
   "source": [
    "eb_average_bathrooms = round(english_basements_df.Bathrooms.mean(),2)\n",
    "eb_average_bedrooms = round(english_basements_df.Bedrooms.mean(),2)\n",
    "eb_average_sq_ft = round(english_basements_df.FinishedSquareFeet.mean(),2)\n",
    "eb_average_lease = round(english_basements_df.LeasePriceDollarCnt.mean(), 2)\n",
    "\n",
    "print (\"The average amount of Bathrooms is {}\".format(eb_average_bathrooms))\n",
    "print()\n",
    "print (\"The average amount of Bedrooms is {}\".format(eb_average_bedrooms))\n",
    "print()\n",
    "print (\"The average square feet of properties is {} sq ft\".format(eb_average_sq_ft))\n",
    "print()\n",
    "print (\"The price expected to pay for lease per rental per month is ${}\".format(eb_average_lease))"
   ]
  },
  {
   "cell_type": "markdown",
   "metadata": {
    "collapsed": true
   },
   "source": [
    "## Drumroll...\n",
    "\n",
    "## The top 10 cities with the most English basements ...."
   ]
  },
  {
   "cell_type": "code",
   "execution_count": 1085,
   "metadata": {},
   "outputs": [
    {
     "name": "stdout",
     "output_type": "stream",
     "text": [
      "\n",
      "The Top 10 Cities that Feature English \n",
      "Basements in the DC Metro Area are \n",
      "\n",
      "Washington       369\n",
      "Arlington         76\n",
      "Silver Spring     46\n",
      "Alexandria        40\n",
      "Fairfax           29\n",
      "Falls Church      29\n",
      "Woodbridge        27\n",
      "Mc Lean           23\n",
      "Germantown        22\n",
      "Frederick         20\n",
      "Name: CityName, dtype: int64\n"
     ]
    }
   ],
   "source": [
    "top_10_cities = english_basements_df[\"CityName\"].value_counts().head(10)\n",
    "print(\"\\nThe Top 10 Cities that Feature English \\nBasements in the DC Metro Area are \\n\\n{}\".format(top_10_cities))"
   ]
  },
  {
   "cell_type": "code",
   "execution_count": 1123,
   "metadata": {},
   "outputs": [
    {
     "data": {
      "text/plain": [
       "Index(['Count', 'City_Name'], dtype='object')"
      ]
     },
     "execution_count": 1123,
     "metadata": {},
     "output_type": "execute_result"
    }
   ],
   "source": [
    "top_10_cities = pd.DataFrame(english_basements_df[\"CityName\"].value_counts().head(10))\n",
    "\n",
    "new_index = range(1, len(top_10_zips) + 1)\n",
    "\n",
    "top_10_cities[\"City_Name\"] = top_10_cities.index\n",
    "top_10_cities.rename(columns={\"CityName\": \"Count\"}, inplace=True)\n",
    "\n",
    "top_10_cities.columns\n"
   ]
  },
  {
   "cell_type": "code",
   "execution_count": 1124,
   "metadata": {},
   "outputs": [
    {
     "data": {
      "image/png": "[encoded data removed]",
      "text/plain": [
       "<matplotlib.figure.Figure at 0x1a3146c898>"
      ]
     },
     "metadata": {},
     "output_type": "display_data"
    }
   ],
   "source": [
    "cmap = sns.cubehelix_palette(8, start=.5, rot=-.75, reverse=True)\n",
    "sns.set_palette(cmap)\n",
    "plt.figure(figsize = (20, 6))\n",
    "ax = sns.barplot(x = top_10_cities[\"City_Name\"],\\\n",
    "            y= top_10_cities[\"Count\"],\\\n",
    "            palette=cmap\\\n",
    "            \n",
    "           )\n",
    "ax.set(xlabel='City Name', ylabel='Number of English Basements')\n",
    "\n",
    "plt.show()"
   ]
  },
  {
   "cell_type": "code",
   "execution_count": null,
   "metadata": {},
   "outputs": [],
   "source": []
  },
  {
   "cell_type": "markdown",
   "metadata": {},
   "source": [
    "## The top 10 zipcodes  with the most English basements ...."
   ]
  },
  {
   "cell_type": "code",
   "execution_count": 1125,
   "metadata": {},
   "outputs": [
    {
     "name": "stdout",
     "output_type": "stream",
     "text": [
      "\n",
      "The Top 10 Zipcodes that Feature English \n",
      "Basements in the DC Metro Area are \n",
      "\n",
      "20002    68\n",
      "20011    58\n",
      "20009    38\n",
      "20010    37\n",
      "20007    30\n",
      "20003    29\n",
      "20001    27\n",
      "22201    19\n",
      "22102    17\n",
      "20874    17\n",
      "Name: ZipCode, dtype: int64\n"
     ]
    }
   ],
   "source": [
    "top_10_zips = english_basements_df[\"ZipCode\"].value_counts().head(10)\n",
    "print(\"\\nThe Top 10 Zipcodes that Feature English \\nBasements in the DC Metro Area are \\n\\n{}\".format(top_10_zips))"
   ]
  },
  {
   "cell_type": "code",
   "execution_count": 1126,
   "metadata": {},
   "outputs": [
    {
     "data": {
      "text/plain": [
       "Index(['Count', 'Zipcode'], dtype='object')"
      ]
     },
     "execution_count": 1126,
     "metadata": {},
     "output_type": "execute_result"
    }
   ],
   "source": [
    "top_10_zips = pd.DataFrame(english_basements_df[\"ZipCode\"].value_counts().head(10))\n",
    "\n",
    "new_index = range(1, len(top_10_zips) + 1)\n",
    "\n",
    "top_10_zips[\"Zipcode\"] = top_10_zips.index\n",
    "top_10_zips.rename(columns={\"ZipCode\": \"Count\"}, inplace=True)\n",
    "\n",
    "top_10_zips.columns\n"
   ]
  },
  {
   "cell_type": "code",
   "execution_count": 1127,
   "metadata": {},
   "outputs": [
    {
     "data": {
      "image/png": "[encoded data removed]",
      "text/plain": [
       "<matplotlib.figure.Figure at 0x1a31504a90>"
      ]
     },
     "metadata": {},
     "output_type": "display_data"
    }
   ],
   "source": [
    "cmap = sns.cubehelix_palette(8, start=.5, rot=-.75, reverse=True)\n",
    "sns.set_palette(cmap)\n",
    "plt.figure(figsize = (20, 8))\n",
    "ax = sns.barplot(x = top_10_zips[\"Zipcode\"],\\\n",
    "            y= top_10_zips[\"Count\"],\\\n",
    "            palette=cmap\\\n",
    "            \n",
    "           )\n",
    "ax.set(xlabel='Zipcode', ylabel='Number of English Basements')\n",
    "\n",
    "plt.show()"
   ]
  },
  {
   "cell_type": "code",
   "execution_count": null,
   "metadata": {
    "collapsed": true
   },
   "outputs": [],
   "source": []
  },
  {
   "cell_type": "markdown",
   "metadata": {},
   "source": [
    "#### How much more/less should a renter expect to pay for an english basement ? "
   ]
  },
  {
   "cell_type": "markdown",
   "metadata": {},
   "source": [
    "To compare the prices, I will need to drop the basement apartments and english basements from the original data set, I will call this new data frame trulia_no_basements"
   ]
  },
  {
   "cell_type": "code",
   "execution_count": 1128,
   "metadata": {},
   "outputs": [
    {
     "data": {
      "text/plain": [
       "1113"
      ]
     },
     "execution_count": 1128,
     "metadata": {},
     "output_type": "execute_result"
    }
   ],
   "source": [
    "# basement_apartment = trulia[trulia.ListingDescription.str.contains(r'(B|b).\\w+(ment)\\s(A|p).\\w+(ment)')]\n",
    "\n",
    "#inverse of that is trulia[~trulia.ListingDescription.str.contains(r'(B|b).\\w+(ment)\\s(A|p).\\w+(ment)')]\n",
    "\n",
    "trulia_no_basements = trulia[~trulia.ListingDescription.str.contains(r'(B|b).\\w+(ment)\\s(A|p).\\w+(ment)')]\n",
    "#english_basement = trulia[trulia.ListingDescription.str.contains(r'(E|e).\\w+\\s(B|b).\\w+(ment)')]\n",
    "\n",
    "#inverse of that is trulia[~trulia.ListingDescription.str.contains(r'(E|e).\\w+\\s(B|b).\\w+(ment)')]\n",
    "\n",
    "trulia_no_basements = trulia_no_basements[~trulia_no_basements.ListingDescription.str.contains(r'(E|e).\\w+\\s(B|b).\\w+(ment)')]\n",
    "\n",
    "#want to ensure that I'm subtracting the correct number of values from the dataframe \n",
    "trulia_shape = trulia.shape[0]\n",
    "\n",
    "trulia_no_basements_shape = trulia_no_basements.shape[0]\n",
    "\n",
    "trulia_shape - trulia_no_basements_shape\n",
    "\n"
   ]
  },
  {
   "cell_type": "code",
   "execution_count": 1129,
   "metadata": {},
   "outputs": [
    {
     "name": "stdout",
     "output_type": "stream",
     "text": [
      "The average lease price per properties that have no English Basements is  $2260.35. \n",
      "While the average price per English Basement properity is $2431.46\n"
     ]
    }
   ],
   "source": [
    "no_basement_avg_lease = round(trulia_no_basements[\"LeasePriceDollarCnt\"].mean(),2)\n",
    "\n",
    "\n",
    "english_basements_avg_lease = round(english_basements_df[\"LeasePriceDollarCnt\"].mean(),2)\n",
    "\n",
    "#Time to check out the Average Lease price  english basements vs no english basement\n",
    "print(\"The average lease price per properties that have no English Basements is  ${}. \\n\\\n",
    "While the average price per English Basement properity is ${}\".format(no_basement_avg_lease, \\\n",
    "                                                                     english_basements_avg_lease))\n"
   ]
  },
  {
   "cell_type": "code",
   "execution_count": 1130,
   "metadata": {},
   "outputs": [
    {
     "ename": "SyntaxError",
     "evalue": "invalid syntax (<ipython-input-1130-03f8b78393bd>, line 1)",
     "output_type": "error",
     "traceback": [
      "\u001b[0;36m  File \u001b[0;32m\"<ipython-input-1130-03f8b78393bd>\"\u001b[0;36m, line \u001b[0;32m1\u001b[0m\n\u001b[0;31m    The reason why the Lease amount is higher for English Basements is location for one and also\u001b[0m\n\u001b[0m             ^\u001b[0m\n\u001b[0;31mSyntaxError\u001b[0m\u001b[0;31m:\u001b[0m invalid syntax\n"
     ]
    }
   ],
   "source": [
    "The reason why the Lease amount is higher for English Basements is location for one and also "
   ]
  },
  {
   "cell_type": "code",
   "execution_count": 1131,
   "metadata": {},
   "outputs": [
    {
     "data": {
      "text/plain": [
       "1537.4123989218328"
      ]
     },
     "execution_count": 1131,
     "metadata": {},
     "output_type": "execute_result"
    }
   ],
   "source": [
    "english_basements_df[\"Bedrooms\"].mean()\n",
    "english_basements_df[\"FinishedSquareFeet\"].mean()\n"
   ]
  },
  {
   "cell_type": "code",
   "execution_count": 1132,
   "metadata": {},
   "outputs": [
    {
     "data": {
      "text/plain": [
       "1456.516561730085"
      ]
     },
     "execution_count": 1132,
     "metadata": {},
     "output_type": "execute_result"
    }
   ],
   "source": [
    "trulia[\"Bedrooms\"].mean()\n",
    "trulia[\"FinishedSquareFeet\"].mean()\n"
   ]
  },
  {
   "cell_type": "code",
   "execution_count": 1133,
   "metadata": {},
   "outputs": [],
   "source": [
    "#To fully answer this question I must look at the average price per property per CityName \n",
    "\n",
    "\n",
    "\n"
   ]
  },
  {
   "cell_type": "code",
   "execution_count": 1134,
   "metadata": {},
   "outputs": [
    {
     "name": "stdout",
     "output_type": "stream",
     "text": [
      "This is the distribution of properties that do not advertise or have English basements\n"
     ]
    },
    {
     "data": {
      "image/png": "[encoded data removed]",
      "text/plain": [
       "<matplotlib.figure.Figure at 0x1a2c60e940>"
      ]
     },
     "metadata": {},
     "output_type": "display_data"
    }
   ],
   "source": [
    "print(\"This is the distribution of properties that do not advertise or have English basements\")\n",
    "\n",
    "new_index = range(1, len(grouping_trulia_top_zip) + 1)\n",
    "\n",
    "grouping_trulia_top_zip[\"Zipcode\"] = grouping_trulia_top_zip.index\n",
    "\n",
    "grouping_trulia_top_zip.rename(columns={\"ZipCode\": \"Count\"}, inplace=True)\n",
    "\n",
    "grouping_trulia_top_zip.columns\n",
    "\n",
    "cmap = sns.cubehelix_palette(8, start=.5, rot=-.75, reverse=True)\n",
    "sns.set_palette(cmap)\n",
    "plt.figure(figsize = (20, 8))\n",
    "ax = sns.barplot(x = top_10_zips_trulia[\"Zipcode\"],\\\n",
    "            y= grouping_trulia_top_zip[\"Count\"],\\\n",
    "            palette=cmap\\\n",
    "            \n",
    "           )\n",
    "ax.set(xlabel='Zipcode', ylabel=\"Number of Units\")\n",
    "\n",
    "plt.show()\n",
    "\n"
   ]
  },
  {
   "cell_type": "code",
   "execution_count": 1135,
   "metadata": {},
   "outputs": [
    {
     "name": "stdout",
     "output_type": "stream",
     "text": [
      "Compared to properties that feature or list English Basements.  You'll notice the higest number of \n",
      "properties are in the 20002 area, which is Washington DC. \n"
     ]
    },
    {
     "data": {
      "image/png": "[encoded data removed]",
      "text/plain": [
       "<matplotlib.figure.Figure at 0x1a329f5550>"
      ]
     },
     "metadata": {},
     "output_type": "display_data"
    }
   ],
   "source": [
    "print(\"Compared to properties that feature or list English Basements.  You'll notice the higest number of \\n\\\n",
    "properties are in the 20002 area, which is Washington DC. \")\n",
    "cmap = sns.cubehelix_palette(8, start=.5, rot=-.75, reverse=True)\n",
    "sns.set_palette(cmap)\n",
    "plt.figure(figsize = (20, 8))\n",
    "ax = sns.barplot(x = top_10_zips[\"Zipcode\"],\\\n",
    "            y= top_10_zips[\"Count\"],\\\n",
    "            palette=cmap\\\n",
    "            \n",
    "           )\n",
    "ax.set(xlabel='Zipcode', ylabel='Number of English Basements')\n",
    "\n",
    "plt.show()"
   ]
  },
  {
   "cell_type": "markdown",
   "metadata": {},
   "source": [
    "To be more specific, it's a good idea to see what average lease prices are in 20002 versus lease prices for English bedrooms in 20002 and in general. "
   ]
  },
  {
   "cell_type": "code",
   "execution_count": 1136,
   "metadata": {},
   "outputs": [],
   "source": [
    "trulia_20002 = trulia[(trulia.ZipCode == 20002)]\n",
    "\n",
    "trulia_avg_lease_20002 = round(trulia_20002[\"LeasePriceDollarCnt\"].mean(),2)\n",
    "\n",
    "eb_20002 = english_basements_df[(english_basements_df.ZipCode == 20002)]\n",
    "\n",
    "eb_avg_lease_20002 = round(eb_20002[\"LeasePriceDollarCnt\"].mean(),2)"
   ]
  },
  {
   "cell_type": "code",
   "execution_count": 1137,
   "metadata": {},
   "outputs": [
    {
     "name": "stdout",
     "output_type": "stream",
     "text": [
      "The average lease price for a property in 20002 is $2649.87,\n",
      "while the average price of an English Basement property in 20002 is $2511.87\n"
     ]
    }
   ],
   "source": [
    "print(\"The average lease price for a property in 20002 is ${},\\n\\\n",
    "while the average price of an English Basement property in 20002 is ${}\".format\\\n",
    "     (trulia_avg_lease_20002, eb_avg_lease_20002))"
   ]
  },
  {
   "cell_type": "code",
   "execution_count": 1138,
   "metadata": {},
   "outputs": [
    {
     "data": {
      "text/plain": [
       "138.0"
      ]
     },
     "execution_count": 1138,
     "metadata": {},
     "output_type": "execute_result"
    }
   ],
   "source": [
    "(trulia_avg_lease_20002 - eb_avg_lease_20002)\n",
    "\n"
   ]
  },
  {
   "cell_type": "markdown",
   "metadata": {},
   "source": [
    "So, in Washington DC it's cheaper by $130 a month to rent an English Basement. But, now it's time to look at all the areas and compare prices.  "
   ]
  },
  {
   "cell_type": "code",
   "execution_count": 1183,
   "metadata": {},
   "outputs": [
    {
     "name": "stdout",
     "output_type": "stream",
     "text": [
      "You're looking to save on average $164.59 by renting an English Basement.\n",
      "\n",
      "\n"
     ]
    }
   ],
   "source": [
    "avg_lease = round(trulia[\"LeasePriceDollarCnt\"].mean(),2)\n",
    "avg_eb_lease = round(english_basements_df[\"LeasePriceDollarCnt\"].mean(),2)\n",
    "\n",
    "avg_savings = round(avg_eb_lease - avg_lease, 2)\n",
    "\n",
    "print(\"You're looking to save on average ${} by renting an English Basement.\\n\\n\".format(avg_savings))\n"
   ]
  },
  {
   "cell_type": "code",
   "execution_count": 1139,
   "metadata": {},
   "outputs": [],
   "source": [
    "#This is just some code I wrote incase to recycle etc .... \n",
    "\n",
    "#grouping_trulia_zip = trulia[\"LeasePriceDollarCnt\"].groupby(trulia[\"ZipCode\"]).mean()\n",
    "#grouping_trulia_cityname = trulia[\"LeasePriceDollarCnt\"].groupby(trulia[\"CityName\"]).mean()\n",
    "#grouping_trulia_top_zip = pd.DataFrame(trulia[\"ZipCode\"].value_counts().head(10))\n",
    "#grouping_trulia_top_cityname = pd.DataFrame(trulia[\"CityName\"].value_counts().head(10))\n",
    "\n",
    "\n",
    "\n",
    "#grouping_eb_zip = english_basements_df[\"LeasePriceDollarCnt\"].groupby(english_basements_df[\"ZipCode\"]).mean()\n",
    "#grouping_eb_cityname = english_basements_df[\"LeasePriceDollarCnt\"].groupby(english_basements_df[\"CityName\"]).mean()\n",
    "#grouping_eb_top_zip = pd.DataFrame(trulia[\"ZipCode\"].value_counts().head(10))\n",
    "#grouping_trulia_top_cityname = pd.DataFrame(trulia[\"CityName\"].value_counts().head(10))\n"
   ]
  },
  {
   "cell_type": "markdown",
   "metadata": {},
   "source": [
    "## Premiums & Discounts\n",
    "To find out the premiums I am going to create first 2 DataFrames.  The DataFrames will feature Zipcode and average Lease price. I will rename the columnns with Lease Price for each DataFrame to reflect english basement, no english basement.  \n",
    "\n",
    "Next, I will concatinate the DataFrames.  I will then create a new column that will house the difference in price between the english basement, no english basement. The last step will be to sort the values by ascending and decending to see which Zipcodes have the largest discounts and the largest premiums.  \n",
    "\n",
    "I will repeate the process for City Names as well \n",
    "\n",
    "#### Premiums & Discounts by City Name"
   ]
  },
  {
   "cell_type": "code",
   "execution_count": 1140,
   "metadata": {},
   "outputs": [],
   "source": [
    "#create dataframes \n",
    "grouping_trulia_zip_df = pd.DataFrame(trulia_no_basements[\"LeasePriceDollarCnt\"].groupby(trulia_no_basements[\"ZipCode\"]).mean())\n",
    "\n",
    "grouping_eb_zip_df = pd.DataFrame(english_basements_df[\"LeasePriceDollarCnt\"].groupby(english_basements_df[\"ZipCode\"]).mean())\n",
    "\n",
    "\n",
    "#re-name columns and reset index \n",
    "grouping_trulia_zip_df.rename(columns={\"LeasePriceDollarCnt\": \"No_EB_avg_lease\"}, inplace=True)\n",
    "grouping_trulia_zip_df.reset_index(level=0, inplace=True)\n",
    "\n",
    "\n",
    "\n",
    "grouping_eb_zip_df.rename(columns={\"LeasePriceDollarCnt\": \"EB_avg_lease\"}, inplace=True)\n",
    "grouping_eb_zip_df.reset_index(level=0, inplace=True)\n",
    "\n",
    "\n"
   ]
  },
  {
   "cell_type": "code",
   "execution_count": 1141,
   "metadata": {},
   "outputs": [
    {
     "name": "stdout",
     "output_type": "stream",
     "text": [
      "<class 'pandas.core.frame.DataFrame'>\n",
      "Int64Index: 171 entries, 0 to 170\n",
      "Data columns (total 3 columns):\n",
      "ZipCode            171 non-null int64\n",
      "No_EB_avg_lease    171 non-null float64\n",
      "EB_avg_lease       171 non-null float64\n",
      "dtypes: float64(2), int64(1)\n",
      "memory usage: 5.3 KB\n"
     ]
    }
   ],
   "source": [
    "#merge data set on Zipcode column \n",
    "\n",
    "avg_lease_by_zip = pd.merge(grouping_trulia_zip_df,\\\n",
    "                 grouping_eb_zip_df,\\\n",
    "                 on=\"ZipCode\")\n",
    "\n",
    "avg_lease_by_zip.info()\n"
   ]
  },
  {
   "cell_type": "code",
   "execution_count": 1142,
   "metadata": {},
   "outputs": [
    {
     "data": {
      "text/html": [
       "<div>\n",
       "<style scoped>\n",
       "    .dataframe tbody tr th:only-of-type {\n",
       "        vertical-align: middle;\n",
       "    }\n",
       "\n",
       "    .dataframe tbody tr th {\n",
       "        vertical-align: top;\n",
       "    }\n",
       "\n",
       "    .dataframe thead th {\n",
       "        text-align: right;\n",
       "    }\n",
       "</style>\n",
       "<table border=\"1\" class=\"dataframe\">\n",
       "  <thead>\n",
       "    <tr style=\"text-align: right;\">\n",
       "      <th></th>\n",
       "      <th>ZipCode</th>\n",
       "      <th>No_EB_avg_lease</th>\n",
       "      <th>EB_avg_lease</th>\n",
       "      <th>Difference</th>\n",
       "    </tr>\n",
       "  </thead>\n",
       "  <tbody>\n",
       "    <tr>\n",
       "      <th>0</th>\n",
       "      <td>20001</td>\n",
       "      <td>2796.749629</td>\n",
       "      <td>2480.296296</td>\n",
       "      <td>316.453333</td>\n",
       "    </tr>\n",
       "    <tr>\n",
       "      <th>1</th>\n",
       "      <td>20002</td>\n",
       "      <td>2661.885116</td>\n",
       "      <td>2511.867647</td>\n",
       "      <td>150.017469</td>\n",
       "    </tr>\n",
       "    <tr>\n",
       "      <th>2</th>\n",
       "      <td>20003</td>\n",
       "      <td>2916.671864</td>\n",
       "      <td>2800.689655</td>\n",
       "      <td>115.982209</td>\n",
       "    </tr>\n",
       "    <tr>\n",
       "      <th>3</th>\n",
       "      <td>20005</td>\n",
       "      <td>2700.747759</td>\n",
       "      <td>2255.000000</td>\n",
       "      <td>445.747759</td>\n",
       "    </tr>\n",
       "    <tr>\n",
       "      <th>4</th>\n",
       "      <td>20007</td>\n",
       "      <td>3137.897743</td>\n",
       "      <td>3895.042510</td>\n",
       "      <td>-757.144767</td>\n",
       "    </tr>\n",
       "  </tbody>\n",
       "</table>\n",
       "</div>"
      ],
      "text/plain": [
       "   ZipCode  No_EB_avg_lease  EB_avg_lease  Difference\n",
       "0    20001      2796.749629   2480.296296  316.453333\n",
       "1    20002      2661.885116   2511.867647  150.017469\n",
       "2    20003      2916.671864   2800.689655  115.982209\n",
       "3    20005      2700.747759   2255.000000  445.747759\n",
       "4    20007      3137.897743   3895.042510 -757.144767"
      ]
     },
     "execution_count": 1142,
     "metadata": {},
     "output_type": "execute_result"
    }
   ],
   "source": [
    "#create a new colum with (No_EB_avg_lease - EB_avg_lease)\n",
    "\n",
    "avg_lease_by_zip[\"Difference\"] = avg_lease_by_zip[\"No_EB_avg_lease\"] - avg_lease_by_zip[\"EB_avg_lease\"]#.shift(-1)\n",
    "\n",
    "avg_lease_by_zip.head()"
   ]
  },
  {
   "cell_type": "code",
   "execution_count": 1172,
   "metadata": {},
   "outputs": [],
   "source": [
    "#Time to sort the values, highest and lowest, but first need to set index  as ZipCode"
   ]
  },
  {
   "cell_type": "code",
   "execution_count": 1151,
   "metadata": {},
   "outputs": [],
   "source": [
    "avg_lease_by_zip.set_index(\"ZipCode\", inplace=True)"
   ]
  },
  {
   "cell_type": "code",
   "execution_count": 1156,
   "metadata": {},
   "outputs": [
    {
     "name": "stdout",
     "output_type": "stream",
     "text": [
      "In these Zipcodes, English Basements are more expensive \n",
      "\n",
      "ZipCode\n",
      "20816   -6445.857143\n",
      "20815   -1450.699921\n",
      "20640   -1044.166667\n",
      "20708    -844.705882\n",
      "22044    -820.527426\n",
      "21773    -804.512647\n",
      "20007    -757.144767\n",
      "20036    -745.597916\n",
      "22043    -731.759825\n",
      "20009    -724.141665\n",
      "Name: Difference, dtype: float64\n"
     ]
    }
   ],
   "source": [
    "eb_more_expensive = avg_lease_by_zip[\"Difference\"].sort_values(ascending=True).head(10)\n",
    "\n",
    "eb_more_expensive\n",
    "print(\"In these Zipcodes, English Basements are more expensive \\n\\n{}\"\\\n",
    ".format(eb_more_expensive))"
   ]
  },
  {
   "cell_type": "code",
   "execution_count": 1157,
   "metadata": {},
   "outputs": [
    {
     "name": "stdout",
     "output_type": "stream",
     "text": [
      "In these Zipcodes, you get the most for your money for English Basements. The greatest savings are located here\n",
      "\n",
      "ZipCode\n",
      "20151    1288.480000\n",
      "20720    1069.301887\n",
      "20607     955.000000\n",
      "22734     833.333333\n",
      "20695     736.153846\n",
      "22079     668.637427\n",
      "20603     640.097087\n",
      "20748     591.319444\n",
      "20781     573.910389\n",
      "22027     568.342857\n",
      "Name: Difference, dtype: float64\n"
     ]
    }
   ],
   "source": [
    "eb_cheaper = avg_lease_by_zip[\"Difference\"].sort_values(ascending=False).head(10)\n",
    "print(\"In these Zipcodes, you get the most for your money for English Basements. \\\n",
    "The greatest savings are located here\\n\\n{}\"\\\n",
    ".format(eb_cheaper))"
   ]
  },
  {
   "cell_type": "markdown",
   "metadata": {},
   "source": [
    "#### Premiums & Discounts by City Name"
   ]
  },
  {
   "cell_type": "code",
   "execution_count": 1162,
   "metadata": {},
   "outputs": [],
   "source": [
    "#create dataframes \n",
    "grouping_trulia_city_df = pd.DataFrame(trulia_no_basements[\"LeasePriceDollarCnt\"].groupby(trulia_no_basements[\"CityName\"]).mean())\n",
    "\n",
    "grouping_eb_city_df = pd.DataFrame(english_basements_df[\"LeasePriceDollarCnt\"].groupby(english_basements_df[\"CityName\"]).mean())\n",
    "\n",
    "\n",
    "#re-name columns and reset index \n",
    "grouping_trulia_city_df.rename(columns={\"LeasePriceDollarCnt\": \"No_EB_avg_lease\"}, inplace=True)\n",
    "grouping_trulia_city_df.reset_index(level=0, inplace=True)\n",
    "\n",
    "\n",
    "\n",
    "grouping_eb_city_df.rename(columns={\"LeasePriceDollarCnt\": \"EB_avg_lease\"}, inplace=True)\n",
    "grouping_eb_city_df.reset_index(level=0, inplace=True)\n",
    "\n",
    "#merge data set on Zipcode column \n",
    "\n",
    "avg_lease_by_city = pd.merge(grouping_trulia_city_df,\\\n",
    "                 grouping_eb_city_df,\\\n",
    "                 on=\"CityName\")\n",
    "\n",
    "\n",
    "\n",
    "#avg_lease_by_zip.set_index(\"CityName\", inplace=True)\n",
    "\n"
   ]
  },
  {
   "cell_type": "code",
   "execution_count": 1171,
   "metadata": {},
   "outputs": [
    {
     "data": {
      "text/html": [
       "<div>\n",
       "<style scoped>\n",
       "    .dataframe tbody tr th:only-of-type {\n",
       "        vertical-align: middle;\n",
       "    }\n",
       "\n",
       "    .dataframe tbody tr th {\n",
       "        vertical-align: top;\n",
       "    }\n",
       "\n",
       "    .dataframe thead th {\n",
       "        text-align: right;\n",
       "    }\n",
       "</style>\n",
       "<table border=\"1\" class=\"dataframe\">\n",
       "  <thead>\n",
       "    <tr style=\"text-align: right;\">\n",
       "      <th></th>\n",
       "      <th>No_EB_avg_lease</th>\n",
       "      <th>EB_avg_lease</th>\n",
       "      <th>Difference</th>\n",
       "    </tr>\n",
       "    <tr>\n",
       "      <th>CityName</th>\n",
       "      <th></th>\n",
       "      <th></th>\n",
       "      <th></th>\n",
       "    </tr>\n",
       "  </thead>\n",
       "  <tbody>\n",
       "    <tr>\n",
       "      <th>Accokeek</th>\n",
       "      <td>2207.083333</td>\n",
       "      <td>1450.000000</td>\n",
       "      <td>757.083333</td>\n",
       "    </tr>\n",
       "    <tr>\n",
       "      <th>Alexandria</th>\n",
       "      <td>2287.634375</td>\n",
       "      <td>2687.400000</td>\n",
       "      <td>-399.765625</td>\n",
       "    </tr>\n",
       "    <tr>\n",
       "      <th>Annandale</th>\n",
       "      <td>2159.018018</td>\n",
       "      <td>1763.750000</td>\n",
       "      <td>395.268018</td>\n",
       "    </tr>\n",
       "    <tr>\n",
       "      <th>Arlington</th>\n",
       "      <td>2552.181670</td>\n",
       "      <td>2929.539474</td>\n",
       "      <td>-377.357804</td>\n",
       "    </tr>\n",
       "    <tr>\n",
       "      <th>Ashburn</th>\n",
       "      <td>2104.796601</td>\n",
       "      <td>2275.000000</td>\n",
       "      <td>-170.203399</td>\n",
       "    </tr>\n",
       "  </tbody>\n",
       "</table>\n",
       "</div>"
      ],
      "text/plain": [
       "            No_EB_avg_lease  EB_avg_lease  Difference\n",
       "CityName                                             \n",
       "Accokeek        2207.083333   1450.000000  757.083333\n",
       "Alexandria      2287.634375   2687.400000 -399.765625\n",
       "Annandale       2159.018018   1763.750000  395.268018\n",
       "Arlington       2552.181670   2929.539474 -377.357804\n",
       "Ashburn         2104.796601   2275.000000 -170.203399"
      ]
     },
     "execution_count": 1171,
     "metadata": {},
     "output_type": "execute_result"
    }
   ],
   "source": [
    "avg_lease_by_city[\"Difference\"] = avg_lease_by_city[\"No_EB_avg_lease\"] - avg_lease_by_city[\"EB_avg_lease\"]#.shift(-1)\n",
    "avg_lease_by_city.head()\n"
   ]
  },
  {
   "cell_type": "code",
   "execution_count": 1168,
   "metadata": {},
   "outputs": [],
   "source": [
    "avg_lease_by_city.set_index(\"CityName\", inplace=True)\n"
   ]
  },
  {
   "cell_type": "code",
   "execution_count": 1169,
   "metadata": {},
   "outputs": [
    {
     "name": "stdout",
     "output_type": "stream",
     "text": [
      "In these Zipcodes, English Basements are more expensive \n",
      "\n",
      "CityName\n",
      "Bethesda              -1482.001807\n",
      "Laurel                -1168.531532\n",
      "Indian Head           -1044.166667\n",
      "Travilah               -966.666667\n",
      "Myersville             -804.512647\n",
      "Mount Airy             -580.447368\n",
      "Mount Rainier          -526.666667\n",
      "Manassas Park          -491.793103\n",
      "Chevy Chase Terrace    -455.286516\n",
      "Rockville              -437.287582\n",
      "Name: Difference, dtype: float64\n"
     ]
    }
   ],
   "source": [
    "eb_more_expensive_city = avg_lease_by_city[\"Difference\"].sort_values(ascending=True).head(10)\n",
    "\n",
    "eb_more_expensive_city\n",
    "print(\"In these Zipcodes, English Basements are more expensive \\n\\n{}\"\\\n",
    ".format(eb_more_expensive_city))"
   ]
  },
  {
   "cell_type": "code",
   "execution_count": 1184,
   "metadata": {},
   "outputs": [
    {
     "name": "stdout",
     "output_type": "stream",
     "text": [
      "In these Zipcodes, you get the most for your money for English Basements. The greatest savings are located here\n",
      "\n",
      "CityName\n",
      "Accokeek            757.083333\n",
      "White Plains        738.333333\n",
      "Chantilly           712.364706\n",
      "Lorton              653.359649\n",
      "Temple Hills        601.042857\n",
      "Triangle            591.800000\n",
      "Bowie               558.707031\n",
      "Dunn Loring         505.842857\n",
      "North Kensington    474.843750\n",
      "Hyattsville         438.022745\n",
      "Name: Difference, dtype: float64\n"
     ]
    }
   ],
   "source": [
    "eb_cheaper_city = avg_lease_by_city[\"Difference\"].sort_values(ascending=False).head(10)\n",
    "print(\"In these Zipcodes, you get the most for your money for English Basements. \\\n",
    "The greatest savings are located here\\n\\n{}\"\\\n",
    ".format(eb_cheaper_city))"
   ]
  },
  {
   "cell_type": "markdown",
   "metadata": {},
   "source": [
    "# Limitations of the Data & Assumptions of my Analysis"
   ]
  },
  {
   "cell_type": "markdown",
   "metadata": {},
   "source": [
    "The largest limitations I noticed were in the ListingDescripion and LeasePriceDollarCnt.  Had I been given more time, \n",
    "I would have found a better way to parse the text data.  It's very likely that I missed some records with my regular\n",
    "expressions, even though I tested them on data before using them.   In addition to maybe missing data, the way the\n",
    "listings were created, I may have cast too wide of a net.  Some of the descriptions that mentioned \"English Basements,\"\n",
    "were for entire house listings that happened to feature a seperate basement for rent.  So had I identfied and created\n",
    "better patterns to parse the data, I may have been more specific with my regular expressions.  \n",
    "\n",
    "I think doing a proximity analysis would have really aided my research.  I could have looked at the prices\n",
    "in terms of distance from a particular location. For instance, I would have calculate the Haversine distance \n",
    "between the latitude and longitude of listings and from a predetermined centeroid (Center of DC for instance). \n",
    "\n"
   ]
  }
 ],
 "metadata": {
  "kernelspec": {
   "display_name": "Python 3",
   "language": "python",
   "name": "python3"
  },
  "language_info": {
   "codemirror_mode": {
    "name": "ipython",
    "version": 3
   },
   "file_extension": ".py",
   "mimetype": "text/x-python",
   "name": "python",
   "nbconvert_exporter": "python",
   "pygments_lexer": "ipython3",
   "version": "3.6.4"
  }
 },
 "nbformat": 4,
 "nbformat_minor": 2
}
